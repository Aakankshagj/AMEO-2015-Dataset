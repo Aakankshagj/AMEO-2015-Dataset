{
 "cells": [
  {
   "cell_type": "code",
   "execution_count": 1,
   "metadata": {},
   "outputs": [],
   "source": [
    "import warnings\n",
    "warnings.filterwarnings(\"ignore\")"
   ]
  },
  {
   "cell_type": "code",
   "execution_count": 2,
   "metadata": {},
   "outputs": [],
   "source": [
    "import numpy as np\n",
    "import pandas as pd\n",
    "import matplotlib.pyplot as plt\n",
    "import seaborn as sns"
   ]
  },
  {
   "cell_type": "code",
   "execution_count": 3,
   "metadata": {},
   "outputs": [],
   "source": [
    "df1=pd.read_excel('train.xlsx')\n",
    "df2=pd.read_excel('test.xlsx')"
   ]
  },
  {
   "cell_type": "code",
   "execution_count": 4,
   "metadata": {},
   "outputs": [
    {
     "data": {
      "text/plain": [
       "((3998, 39), (1500, 39))"
      ]
     },
     "execution_count": 4,
     "metadata": {},
     "output_type": "execute_result"
    }
   ],
   "source": [
    "df1.shape,df2.shape"
   ]
  },
  {
   "cell_type": "code",
   "execution_count": 5,
   "metadata": {},
   "outputs": [],
   "source": [
    "df=pd.concat([df1,df2],axis=0)"
   ]
  },
  {
   "cell_type": "code",
   "execution_count": 6,
   "metadata": {},
   "outputs": [],
   "source": [
    "df.reset_index(drop=True,inplace=True)"
   ]
  },
  {
   "cell_type": "code",
   "execution_count": 7,
   "metadata": {},
   "outputs": [
    {
     "data": {
      "text/plain": [
       "(5498, 39)"
      ]
     },
     "execution_count": 7,
     "metadata": {},
     "output_type": "execute_result"
    }
   ],
   "source": [
    "df.shape"
   ]
  },
  {
   "cell_type": "code",
   "execution_count": 8,
   "metadata": {},
   "outputs": [
    {
     "data": {
      "text/html": [
       "<div>\n",
       "<style scoped>\n",
       "    .dataframe tbody tr th:only-of-type {\n",
       "        vertical-align: middle;\n",
       "    }\n",
       "\n",
       "    .dataframe tbody tr th {\n",
       "        vertical-align: top;\n",
       "    }\n",
       "\n",
       "    .dataframe thead th {\n",
       "        text-align: right;\n",
       "    }\n",
       "</style>\n",
       "<table border=\"1\" class=\"dataframe\">\n",
       "  <thead>\n",
       "    <tr style=\"text-align: right;\">\n",
       "      <th></th>\n",
       "      <th>Unnamed: 0</th>\n",
       "      <th>ID</th>\n",
       "      <th>Salary</th>\n",
       "      <th>DOJ</th>\n",
       "      <th>DOL</th>\n",
       "      <th>Designation</th>\n",
       "      <th>JobCity</th>\n",
       "      <th>Gender</th>\n",
       "      <th>DOB</th>\n",
       "      <th>10percentage</th>\n",
       "      <th>...</th>\n",
       "      <th>ComputerScience</th>\n",
       "      <th>MechanicalEngg</th>\n",
       "      <th>ElectricalEngg</th>\n",
       "      <th>TelecomEngg</th>\n",
       "      <th>CivilEngg</th>\n",
       "      <th>conscientiousness</th>\n",
       "      <th>agreeableness</th>\n",
       "      <th>extraversion</th>\n",
       "      <th>nueroticism</th>\n",
       "      <th>openess_to_experience</th>\n",
       "    </tr>\n",
       "  </thead>\n",
       "  <tbody>\n",
       "    <tr>\n",
       "      <td>5496</td>\n",
       "      <td>test</td>\n",
       "      <td>919755</td>\n",
       "      <td>?</td>\n",
       "      <td>?</td>\n",
       "      <td>?</td>\n",
       "      <td>?</td>\n",
       "      <td>?</td>\n",
       "      <td>m</td>\n",
       "      <td>1991-08-10</td>\n",
       "      <td>63.33</td>\n",
       "      <td>...</td>\n",
       "      <td>-1</td>\n",
       "      <td>-1</td>\n",
       "      <td>-1</td>\n",
       "      <td>-1</td>\n",
       "      <td>-1</td>\n",
       "      <td>-0.8772</td>\n",
       "      <td>-1.4526</td>\n",
       "      <td>0.1637</td>\n",
       "      <td>-0.1076</td>\n",
       "      <td>-2.2021</td>\n",
       "    </tr>\n",
       "    <tr>\n",
       "      <td>5497</td>\n",
       "      <td>test</td>\n",
       "      <td>1037308</td>\n",
       "      <td>?</td>\n",
       "      <td>?</td>\n",
       "      <td>?</td>\n",
       "      <td>?</td>\n",
       "      <td>?</td>\n",
       "      <td>m</td>\n",
       "      <td>1990-10-23</td>\n",
       "      <td>66.00</td>\n",
       "      <td>...</td>\n",
       "      <td>-1</td>\n",
       "      <td>438</td>\n",
       "      <td>-1</td>\n",
       "      <td>-1</td>\n",
       "      <td>-1</td>\n",
       "      <td>-0.3027</td>\n",
       "      <td>-1.2861</td>\n",
       "      <td>0.0100</td>\n",
       "      <td>0.2727</td>\n",
       "      <td>-0.6692</td>\n",
       "    </tr>\n",
       "  </tbody>\n",
       "</table>\n",
       "<p>2 rows × 39 columns</p>\n",
       "</div>"
      ],
      "text/plain": [
       "     Unnamed: 0       ID Salary DOJ DOL Designation JobCity Gender        DOB  \\\n",
       "5496       test   919755      ?   ?   ?           ?       ?      m 1991-08-10   \n",
       "5497       test  1037308      ?   ?   ?           ?       ?      m 1990-10-23   \n",
       "\n",
       "      10percentage  ... ComputerScience  MechanicalEngg  ElectricalEngg  \\\n",
       "5496         63.33  ...              -1              -1              -1   \n",
       "5497         66.00  ...              -1             438              -1   \n",
       "\n",
       "     TelecomEngg  CivilEngg  conscientiousness agreeableness extraversion  \\\n",
       "5496          -1         -1            -0.8772       -1.4526       0.1637   \n",
       "5497          -1         -1            -0.3027       -1.2861       0.0100   \n",
       "\n",
       "      nueroticism  openess_to_experience  \n",
       "5496      -0.1076                -2.2021  \n",
       "5497       0.2727                -0.6692  \n",
       "\n",
       "[2 rows x 39 columns]"
      ]
     },
     "execution_count": 8,
     "metadata": {},
     "output_type": "execute_result"
    }
   ],
   "source": [
    "df.tail(2)"
   ]
  },
  {
   "cell_type": "markdown",
   "metadata": {},
   "source": [
    "1. We will drop DOJ,DOL,Designation and JobCity features as they are dependent features. In here, we are just considering the prediction of Salary.\n",
    "2. ID is unique and doesn't make any sense to consider it"
   ]
  },
  {
   "cell_type": "code",
   "execution_count": 9,
   "metadata": {},
   "outputs": [],
   "source": [
    "df.drop(['ID','DOJ','DOL','Designation','JobCity'],axis=1,inplace=True)"
   ]
  },
  {
   "cell_type": "code",
   "execution_count": 10,
   "metadata": {},
   "outputs": [
    {
     "name": "stdout",
     "output_type": "stream",
     "text": [
      "<class 'pandas.core.frame.DataFrame'>\n",
      "RangeIndex: 5498 entries, 0 to 5497\n",
      "Data columns (total 34 columns):\n",
      "Unnamed: 0               5498 non-null object\n",
      "Salary                   5498 non-null object\n",
      "Gender                   5498 non-null object\n",
      "DOB                      5498 non-null datetime64[ns]\n",
      "10percentage             5498 non-null float64\n",
      "10board                  5498 non-null object\n",
      "12graduation             5498 non-null int64\n",
      "12percentage             5498 non-null float64\n",
      "12board                  5498 non-null object\n",
      "CollegeID                5498 non-null int64\n",
      "CollegeTier              5498 non-null int64\n",
      "Degree                   5498 non-null object\n",
      "Specialization           5498 non-null object\n",
      "collegeGPA               5498 non-null float64\n",
      "CollegeCityID            5498 non-null int64\n",
      "CollegeCityTier          5498 non-null int64\n",
      "CollegeState             5498 non-null object\n",
      "GraduationYear           5498 non-null int64\n",
      "English                  5498 non-null int64\n",
      "Logical                  5498 non-null int64\n",
      "Quant                    5498 non-null int64\n",
      "Domain                   5498 non-null float64\n",
      "ComputerProgramming      5498 non-null int64\n",
      "ElectronicsAndSemicon    5498 non-null int64\n",
      "ComputerScience          5498 non-null int64\n",
      "MechanicalEngg           5498 non-null int64\n",
      "ElectricalEngg           5498 non-null int64\n",
      "TelecomEngg              5498 non-null int64\n",
      "CivilEngg                5498 non-null int64\n",
      "conscientiousness        5498 non-null float64\n",
      "agreeableness            5498 non-null float64\n",
      "extraversion             5498 non-null float64\n",
      "nueroticism              5498 non-null float64\n",
      "openess_to_experience    5498 non-null float64\n",
      "dtypes: datetime64[ns](1), float64(9), int64(16), object(8)\n",
      "memory usage: 1.4+ MB\n"
     ]
    }
   ],
   "source": [
    "df.info()"
   ]
  },
  {
   "cell_type": "code",
   "execution_count": 11,
   "metadata": {},
   "outputs": [
    {
     "data": {
      "text/plain": [
       "Series([], dtype: int64)"
      ]
     },
     "execution_count": 11,
     "metadata": {},
     "output_type": "execute_result"
    }
   ],
   "source": [
    "df.isnull().sum()[df.isnull().sum()!=0]"
   ]
  },
  {
   "cell_type": "code",
   "execution_count": 12,
   "metadata": {},
   "outputs": [],
   "source": [
    "def summary(df):\n",
    "    local=pd.DataFrame()\n",
    "    local['Missing Values']=df.isnull().sum()\n",
    "    local['No.of Unique']=df.nunique()\n",
    "    local['Data Type']=df.dtypes\n",
    "    return(local)"
   ]
  },
  {
   "cell_type": "code",
   "execution_count": 13,
   "metadata": {},
   "outputs": [
    {
     "data": {
      "text/html": [
       "<div>\n",
       "<style scoped>\n",
       "    .dataframe tbody tr th:only-of-type {\n",
       "        vertical-align: middle;\n",
       "    }\n",
       "\n",
       "    .dataframe tbody tr th {\n",
       "        vertical-align: top;\n",
       "    }\n",
       "\n",
       "    .dataframe thead th {\n",
       "        text-align: right;\n",
       "    }\n",
       "</style>\n",
       "<table border=\"1\" class=\"dataframe\">\n",
       "  <thead>\n",
       "    <tr style=\"text-align: right;\">\n",
       "      <th></th>\n",
       "      <th>Missing Values</th>\n",
       "      <th>No.of Unique</th>\n",
       "      <th>Data Type</th>\n",
       "    </tr>\n",
       "  </thead>\n",
       "  <tbody>\n",
       "    <tr>\n",
       "      <td>Unnamed: 0</td>\n",
       "      <td>0</td>\n",
       "      <td>2</td>\n",
       "      <td>object</td>\n",
       "    </tr>\n",
       "    <tr>\n",
       "      <td>Salary</td>\n",
       "      <td>0</td>\n",
       "      <td>178</td>\n",
       "      <td>object</td>\n",
       "    </tr>\n",
       "    <tr>\n",
       "      <td>Gender</td>\n",
       "      <td>0</td>\n",
       "      <td>2</td>\n",
       "      <td>object</td>\n",
       "    </tr>\n",
       "    <tr>\n",
       "      <td>DOB</td>\n",
       "      <td>0</td>\n",
       "      <td>2126</td>\n",
       "      <td>datetime64[ns]</td>\n",
       "    </tr>\n",
       "    <tr>\n",
       "      <td>10percentage</td>\n",
       "      <td>0</td>\n",
       "      <td>996</td>\n",
       "      <td>float64</td>\n",
       "    </tr>\n",
       "    <tr>\n",
       "      <td>10board</td>\n",
       "      <td>0</td>\n",
       "      <td>351</td>\n",
       "      <td>object</td>\n",
       "    </tr>\n",
       "    <tr>\n",
       "      <td>12graduation</td>\n",
       "      <td>0</td>\n",
       "      <td>17</td>\n",
       "      <td>int64</td>\n",
       "    </tr>\n",
       "    <tr>\n",
       "      <td>12percentage</td>\n",
       "      <td>0</td>\n",
       "      <td>917</td>\n",
       "      <td>float64</td>\n",
       "    </tr>\n",
       "    <tr>\n",
       "      <td>12board</td>\n",
       "      <td>0</td>\n",
       "      <td>431</td>\n",
       "      <td>object</td>\n",
       "    </tr>\n",
       "    <tr>\n",
       "      <td>CollegeID</td>\n",
       "      <td>0</td>\n",
       "      <td>1570</td>\n",
       "      <td>int64</td>\n",
       "    </tr>\n",
       "    <tr>\n",
       "      <td>CollegeTier</td>\n",
       "      <td>0</td>\n",
       "      <td>2</td>\n",
       "      <td>int64</td>\n",
       "    </tr>\n",
       "    <tr>\n",
       "      <td>Degree</td>\n",
       "      <td>0</td>\n",
       "      <td>4</td>\n",
       "      <td>object</td>\n",
       "    </tr>\n",
       "    <tr>\n",
       "      <td>Specialization</td>\n",
       "      <td>0</td>\n",
       "      <td>56</td>\n",
       "      <td>object</td>\n",
       "    </tr>\n",
       "    <tr>\n",
       "      <td>collegeGPA</td>\n",
       "      <td>0</td>\n",
       "      <td>1523</td>\n",
       "      <td>float64</td>\n",
       "    </tr>\n",
       "    <tr>\n",
       "      <td>CollegeCityID</td>\n",
       "      <td>0</td>\n",
       "      <td>1570</td>\n",
       "      <td>int64</td>\n",
       "    </tr>\n",
       "    <tr>\n",
       "      <td>CollegeCityTier</td>\n",
       "      <td>0</td>\n",
       "      <td>2</td>\n",
       "      <td>int64</td>\n",
       "    </tr>\n",
       "    <tr>\n",
       "      <td>CollegeState</td>\n",
       "      <td>0</td>\n",
       "      <td>27</td>\n",
       "      <td>object</td>\n",
       "    </tr>\n",
       "    <tr>\n",
       "      <td>GraduationYear</td>\n",
       "      <td>0</td>\n",
       "      <td>12</td>\n",
       "      <td>int64</td>\n",
       "    </tr>\n",
       "    <tr>\n",
       "      <td>English</td>\n",
       "      <td>0</td>\n",
       "      <td>116</td>\n",
       "      <td>int64</td>\n",
       "    </tr>\n",
       "    <tr>\n",
       "      <td>Logical</td>\n",
       "      <td>0</td>\n",
       "      <td>114</td>\n",
       "      <td>int64</td>\n",
       "    </tr>\n",
       "    <tr>\n",
       "      <td>Quant</td>\n",
       "      <td>0</td>\n",
       "      <td>141</td>\n",
       "      <td>int64</td>\n",
       "    </tr>\n",
       "    <tr>\n",
       "      <td>Domain</td>\n",
       "      <td>0</td>\n",
       "      <td>268</td>\n",
       "      <td>float64</td>\n",
       "    </tr>\n",
       "    <tr>\n",
       "      <td>ComputerProgramming</td>\n",
       "      <td>0</td>\n",
       "      <td>80</td>\n",
       "      <td>int64</td>\n",
       "    </tr>\n",
       "    <tr>\n",
       "      <td>ElectronicsAndSemicon</td>\n",
       "      <td>0</td>\n",
       "      <td>30</td>\n",
       "      <td>int64</td>\n",
       "    </tr>\n",
       "    <tr>\n",
       "      <td>ComputerScience</td>\n",
       "      <td>0</td>\n",
       "      <td>22</td>\n",
       "      <td>int64</td>\n",
       "    </tr>\n",
       "    <tr>\n",
       "      <td>MechanicalEngg</td>\n",
       "      <td>0</td>\n",
       "      <td>47</td>\n",
       "      <td>int64</td>\n",
       "    </tr>\n",
       "    <tr>\n",
       "      <td>ElectricalEngg</td>\n",
       "      <td>0</td>\n",
       "      <td>31</td>\n",
       "      <td>int64</td>\n",
       "    </tr>\n",
       "    <tr>\n",
       "      <td>TelecomEngg</td>\n",
       "      <td>0</td>\n",
       "      <td>28</td>\n",
       "      <td>int64</td>\n",
       "    </tr>\n",
       "    <tr>\n",
       "      <td>CivilEngg</td>\n",
       "      <td>0</td>\n",
       "      <td>27</td>\n",
       "      <td>int64</td>\n",
       "    </tr>\n",
       "    <tr>\n",
       "      <td>conscientiousness</td>\n",
       "      <td>0</td>\n",
       "      <td>153</td>\n",
       "      <td>float64</td>\n",
       "    </tr>\n",
       "    <tr>\n",
       "      <td>agreeableness</td>\n",
       "      <td>0</td>\n",
       "      <td>165</td>\n",
       "      <td>float64</td>\n",
       "    </tr>\n",
       "    <tr>\n",
       "      <td>extraversion</td>\n",
       "      <td>0</td>\n",
       "      <td>167</td>\n",
       "      <td>float64</td>\n",
       "    </tr>\n",
       "    <tr>\n",
       "      <td>nueroticism</td>\n",
       "      <td>0</td>\n",
       "      <td>240</td>\n",
       "      <td>float64</td>\n",
       "    </tr>\n",
       "    <tr>\n",
       "      <td>openess_to_experience</td>\n",
       "      <td>0</td>\n",
       "      <td>158</td>\n",
       "      <td>float64</td>\n",
       "    </tr>\n",
       "  </tbody>\n",
       "</table>\n",
       "</div>"
      ],
      "text/plain": [
       "                       Missing Values  No.of Unique       Data Type\n",
       "Unnamed: 0                          0             2          object\n",
       "Salary                              0           178          object\n",
       "Gender                              0             2          object\n",
       "DOB                                 0          2126  datetime64[ns]\n",
       "10percentage                        0           996         float64\n",
       "10board                             0           351          object\n",
       "12graduation                        0            17           int64\n",
       "12percentage                        0           917         float64\n",
       "12board                             0           431          object\n",
       "CollegeID                           0          1570           int64\n",
       "CollegeTier                         0             2           int64\n",
       "Degree                              0             4          object\n",
       "Specialization                      0            56          object\n",
       "collegeGPA                          0          1523         float64\n",
       "CollegeCityID                       0          1570           int64\n",
       "CollegeCityTier                     0             2           int64\n",
       "CollegeState                        0            27          object\n",
       "GraduationYear                      0            12           int64\n",
       "English                             0           116           int64\n",
       "Logical                             0           114           int64\n",
       "Quant                               0           141           int64\n",
       "Domain                              0           268         float64\n",
       "ComputerProgramming                 0            80           int64\n",
       "ElectronicsAndSemicon               0            30           int64\n",
       "ComputerScience                     0            22           int64\n",
       "MechanicalEngg                      0            47           int64\n",
       "ElectricalEngg                      0            31           int64\n",
       "TelecomEngg                         0            28           int64\n",
       "CivilEngg                           0            27           int64\n",
       "conscientiousness                   0           153         float64\n",
       "agreeableness                       0           165         float64\n",
       "extraversion                        0           167         float64\n",
       "nueroticism                         0           240         float64\n",
       "openess_to_experience               0           158         float64"
      ]
     },
     "execution_count": 13,
     "metadata": {},
     "output_type": "execute_result"
    }
   ],
   "source": [
    "summary(df)"
   ]
  },
  {
   "cell_type": "markdown",
   "metadata": {},
   "source": [
    "1. We observe that the data type of Salary is object which in reality should be either int or float. This means that there is a special character present. That becomes null value\n",
    "2. College ID and COllege City ID are IDs and may not really contribute in the prediction. We can go ahead and think of getting them binned and convert those into categorical variables\n",
    "3. From the DOB column, we can extract the year and find the age of the candidate at the time of graduation by subtracting it from the graduation year\n",
    "4. Also in the data description, -1 is used to depict the null values in features of Domain and different ENGG tests."
   ]
  },
  {
   "cell_type": "code",
   "execution_count": 14,
   "metadata": {},
   "outputs": [],
   "source": [
    "df['Salary'].replace(to_replace='?',value=np.nan,inplace=True)"
   ]
  },
  {
   "cell_type": "code",
   "execution_count": 15,
   "metadata": {},
   "outputs": [],
   "source": [
    "df['Domain'].replace(to_replace=-1,value=np.nan,inplace=True)\n",
    "df['ComputerProgramming'].replace(to_replace=-1,value=np.nan,inplace=True)\n",
    "df['ElectronicsAndSemicon'].replace(to_replace=-1,value=np.nan,inplace=True)\n",
    "df['ComputerScience'].replace(to_replace=-1,value=np.nan,inplace=True)\n",
    "df['MechanicalEngg'].replace(to_replace=-1,value=np.nan,inplace=True)\n",
    "df['ElectricalEngg'].replace(to_replace=-1,value=np.nan,inplace=True)\n",
    "df['TelecomEngg'].replace(to_replace=-1,value=np.nan,inplace=True)\n",
    "df['CivilEngg'].replace(to_replace=-1,value=np.nan,inplace=True)\n",
    "      "
   ]
  },
  {
   "cell_type": "code",
   "execution_count": 16,
   "metadata": {},
   "outputs": [],
   "source": [
    "def miss_val(df):\n",
    "    miss=df.isnull().sum()[df.isnull().sum()!=0]\n",
    "    percent=round((miss/len(df))*100,2)\n",
    "    miss_val=pd.concat([miss,percent],axis=1).reset_index()\n",
    "    miss_val.rename(columns={'index':'Feature_Name',0:'No. of missing values',1:'Percent of missing values'},inplace=True)\n",
    "    return (miss_val)\n"
   ]
  },
  {
   "cell_type": "code",
   "execution_count": 17,
   "metadata": {},
   "outputs": [
    {
     "data": {
      "text/html": [
       "<div>\n",
       "<style scoped>\n",
       "    .dataframe tbody tr th:only-of-type {\n",
       "        vertical-align: middle;\n",
       "    }\n",
       "\n",
       "    .dataframe tbody tr th {\n",
       "        vertical-align: top;\n",
       "    }\n",
       "\n",
       "    .dataframe thead th {\n",
       "        text-align: right;\n",
       "    }\n",
       "</style>\n",
       "<table border=\"1\" class=\"dataframe\">\n",
       "  <thead>\n",
       "    <tr style=\"text-align: right;\">\n",
       "      <th></th>\n",
       "      <th>Feature_Name</th>\n",
       "      <th>No. of missing values</th>\n",
       "      <th>Percent of missing values</th>\n",
       "    </tr>\n",
       "  </thead>\n",
       "  <tbody>\n",
       "    <tr>\n",
       "      <td>0</td>\n",
       "      <td>Salary</td>\n",
       "      <td>1500</td>\n",
       "      <td>27.28</td>\n",
       "    </tr>\n",
       "    <tr>\n",
       "      <td>1</td>\n",
       "      <td>Domain</td>\n",
       "      <td>332</td>\n",
       "      <td>6.04</td>\n",
       "    </tr>\n",
       "    <tr>\n",
       "      <td>2</td>\n",
       "      <td>ComputerProgramming</td>\n",
       "      <td>1180</td>\n",
       "      <td>21.46</td>\n",
       "    </tr>\n",
       "    <tr>\n",
       "      <td>3</td>\n",
       "      <td>ElectronicsAndSemicon</td>\n",
       "      <td>3924</td>\n",
       "      <td>71.37</td>\n",
       "    </tr>\n",
       "    <tr>\n",
       "      <td>4</td>\n",
       "      <td>ComputerScience</td>\n",
       "      <td>4278</td>\n",
       "      <td>77.81</td>\n",
       "    </tr>\n",
       "    <tr>\n",
       "      <td>5</td>\n",
       "      <td>MechanicalEngg</td>\n",
       "      <td>5177</td>\n",
       "      <td>94.16</td>\n",
       "    </tr>\n",
       "    <tr>\n",
       "      <td>6</td>\n",
       "      <td>ElectricalEngg</td>\n",
       "      <td>5265</td>\n",
       "      <td>95.76</td>\n",
       "    </tr>\n",
       "    <tr>\n",
       "      <td>7</td>\n",
       "      <td>TelecomEngg</td>\n",
       "      <td>4968</td>\n",
       "      <td>90.36</td>\n",
       "    </tr>\n",
       "    <tr>\n",
       "      <td>8</td>\n",
       "      <td>CivilEngg</td>\n",
       "      <td>5435</td>\n",
       "      <td>98.85</td>\n",
       "    </tr>\n",
       "  </tbody>\n",
       "</table>\n",
       "</div>"
      ],
      "text/plain": [
       "            Feature_Name  No. of missing values  Percent of missing values\n",
       "0                 Salary                   1500                      27.28\n",
       "1                 Domain                    332                       6.04\n",
       "2    ComputerProgramming                   1180                      21.46\n",
       "3  ElectronicsAndSemicon                   3924                      71.37\n",
       "4        ComputerScience                   4278                      77.81\n",
       "5         MechanicalEngg                   5177                      94.16\n",
       "6         ElectricalEngg                   5265                      95.76\n",
       "7            TelecomEngg                   4968                      90.36\n",
       "8              CivilEngg                   5435                      98.85"
      ]
     },
     "execution_count": 17,
     "metadata": {},
     "output_type": "execute_result"
    }
   ],
   "source": [
    "miss_val(df)"
   ]
  },
  {
   "cell_type": "markdown",
   "metadata": {},
   "source": [
    "1. Most of the students take Computer Programming test\n",
    "2. Very few students take Civil Engg test.\n",
    "3. It does not make sense to include these features with such less data points.\n",
    "4. The null values in Salary are pertaining to the test data.\n"
   ]
  },
  {
   "cell_type": "code",
   "execution_count": 18,
   "metadata": {},
   "outputs": [
    {
     "data": {
      "text/plain": [
       "Index(['Unnamed: 0', 'Salary', 'Gender', 'DOB', '10percentage', '10board',\n",
       "       '12graduation', '12percentage', '12board', 'CollegeID', 'CollegeTier',\n",
       "       'Degree', 'Specialization', 'collegeGPA', 'CollegeCityID',\n",
       "       'CollegeCityTier', 'CollegeState', 'GraduationYear', 'English',\n",
       "       'Logical', 'Quant', 'Domain', 'ComputerProgramming',\n",
       "       'ElectronicsAndSemicon', 'ComputerScience', 'MechanicalEngg',\n",
       "       'ElectricalEngg', 'TelecomEngg', 'CivilEngg', 'conscientiousness',\n",
       "       'agreeableness', 'extraversion', 'nueroticism',\n",
       "       'openess_to_experience'],\n",
       "      dtype='object')"
      ]
     },
     "execution_count": 18,
     "metadata": {},
     "output_type": "execute_result"
    }
   ],
   "source": [
    "df.columns"
   ]
  },
  {
   "cell_type": "markdown",
   "metadata": {},
   "source": [
    "#### Dealing with the missing values for the marks section"
   ]
  },
  {
   "cell_type": "code",
   "execution_count": 19,
   "metadata": {},
   "outputs": [],
   "source": [
    "new=df[['ComputerProgramming',\n",
    "       'ElectronicsAndSemicon', 'ComputerScience', 'MechanicalEngg',\n",
    "       'ElectricalEngg', 'TelecomEngg', 'CivilEngg']]"
   ]
  },
  {
   "cell_type": "code",
   "execution_count": 20,
   "metadata": {},
   "outputs": [
    {
     "data": {
      "text/html": [
       "<div>\n",
       "<style scoped>\n",
       "    .dataframe tbody tr th:only-of-type {\n",
       "        vertical-align: middle;\n",
       "    }\n",
       "\n",
       "    .dataframe tbody tr th {\n",
       "        vertical-align: top;\n",
       "    }\n",
       "\n",
       "    .dataframe thead th {\n",
       "        text-align: right;\n",
       "    }\n",
       "</style>\n",
       "<table border=\"1\" class=\"dataframe\">\n",
       "  <thead>\n",
       "    <tr style=\"text-align: right;\">\n",
       "      <th></th>\n",
       "      <th>ComputerProgramming</th>\n",
       "      <th>ElectronicsAndSemicon</th>\n",
       "      <th>ComputerScience</th>\n",
       "      <th>MechanicalEngg</th>\n",
       "      <th>ElectricalEngg</th>\n",
       "      <th>TelecomEngg</th>\n",
       "      <th>CivilEngg</th>\n",
       "    </tr>\n",
       "  </thead>\n",
       "  <tbody>\n",
       "    <tr>\n",
       "      <td>0</td>\n",
       "      <td>445.0</td>\n",
       "      <td>NaN</td>\n",
       "      <td>NaN</td>\n",
       "      <td>NaN</td>\n",
       "      <td>NaN</td>\n",
       "      <td>NaN</td>\n",
       "      <td>NaN</td>\n",
       "    </tr>\n",
       "    <tr>\n",
       "      <td>1</td>\n",
       "      <td>NaN</td>\n",
       "      <td>466.0</td>\n",
       "      <td>NaN</td>\n",
       "      <td>NaN</td>\n",
       "      <td>NaN</td>\n",
       "      <td>NaN</td>\n",
       "      <td>NaN</td>\n",
       "    </tr>\n",
       "  </tbody>\n",
       "</table>\n",
       "</div>"
      ],
      "text/plain": [
       "   ComputerProgramming  ElectronicsAndSemicon  ComputerScience  \\\n",
       "0                445.0                    NaN              NaN   \n",
       "1                  NaN                  466.0              NaN   \n",
       "\n",
       "   MechanicalEngg  ElectricalEngg  TelecomEngg  CivilEngg  \n",
       "0             NaN             NaN          NaN        NaN  \n",
       "1             NaN             NaN          NaN        NaN  "
      ]
     },
     "execution_count": 20,
     "metadata": {},
     "output_type": "execute_result"
    }
   ],
   "source": [
    "new.head(2)"
   ]
  },
  {
   "cell_type": "code",
   "execution_count": 21,
   "metadata": {},
   "outputs": [],
   "source": [
    "new['Sum']=new.sum(axis=1)"
   ]
  },
  {
   "cell_type": "code",
   "execution_count": 22,
   "metadata": {},
   "outputs": [],
   "source": [
    "new['Count']=new.iloc[:,0:-1].count(axis=1)"
   ]
  },
  {
   "cell_type": "markdown",
   "metadata": {},
   "source": [
    "1. Since all the marks are in range 100 - 900, we consider that each scored marks are out of 900. Thus, we find the percentage value for each subject and add those to find the cumuative marks."
   ]
  },
  {
   "cell_type": "code",
   "execution_count": 23,
   "metadata": {},
   "outputs": [],
   "source": [
    "new['Percent']=round((new['Sum']/(900*new['Count']))*100,2)"
   ]
  },
  {
   "cell_type": "code",
   "execution_count": 24,
   "metadata": {},
   "outputs": [
    {
     "data": {
      "text/html": [
       "<div>\n",
       "<style scoped>\n",
       "    .dataframe tbody tr th:only-of-type {\n",
       "        vertical-align: middle;\n",
       "    }\n",
       "\n",
       "    .dataframe tbody tr th {\n",
       "        vertical-align: top;\n",
       "    }\n",
       "\n",
       "    .dataframe thead th {\n",
       "        text-align: right;\n",
       "    }\n",
       "</style>\n",
       "<table border=\"1\" class=\"dataframe\">\n",
       "  <thead>\n",
       "    <tr style=\"text-align: right;\">\n",
       "      <th></th>\n",
       "      <th>ComputerProgramming</th>\n",
       "      <th>ElectronicsAndSemicon</th>\n",
       "      <th>ComputerScience</th>\n",
       "      <th>MechanicalEngg</th>\n",
       "      <th>ElectricalEngg</th>\n",
       "      <th>TelecomEngg</th>\n",
       "      <th>CivilEngg</th>\n",
       "      <th>Sum</th>\n",
       "      <th>Count</th>\n",
       "      <th>Percent</th>\n",
       "    </tr>\n",
       "  </thead>\n",
       "  <tbody>\n",
       "    <tr>\n",
       "      <td>0</td>\n",
       "      <td>445.0</td>\n",
       "      <td>NaN</td>\n",
       "      <td>NaN</td>\n",
       "      <td>NaN</td>\n",
       "      <td>NaN</td>\n",
       "      <td>NaN</td>\n",
       "      <td>NaN</td>\n",
       "      <td>445.0</td>\n",
       "      <td>1</td>\n",
       "      <td>49.44</td>\n",
       "    </tr>\n",
       "    <tr>\n",
       "      <td>1</td>\n",
       "      <td>NaN</td>\n",
       "      <td>466.0</td>\n",
       "      <td>NaN</td>\n",
       "      <td>NaN</td>\n",
       "      <td>NaN</td>\n",
       "      <td>NaN</td>\n",
       "      <td>NaN</td>\n",
       "      <td>466.0</td>\n",
       "      <td>1</td>\n",
       "      <td>51.78</td>\n",
       "    </tr>\n",
       "    <tr>\n",
       "      <td>2</td>\n",
       "      <td>395.0</td>\n",
       "      <td>NaN</td>\n",
       "      <td>NaN</td>\n",
       "      <td>NaN</td>\n",
       "      <td>NaN</td>\n",
       "      <td>NaN</td>\n",
       "      <td>NaN</td>\n",
       "      <td>395.0</td>\n",
       "      <td>1</td>\n",
       "      <td>43.89</td>\n",
       "    </tr>\n",
       "    <tr>\n",
       "      <td>3</td>\n",
       "      <td>615.0</td>\n",
       "      <td>NaN</td>\n",
       "      <td>NaN</td>\n",
       "      <td>NaN</td>\n",
       "      <td>NaN</td>\n",
       "      <td>NaN</td>\n",
       "      <td>NaN</td>\n",
       "      <td>615.0</td>\n",
       "      <td>1</td>\n",
       "      <td>68.33</td>\n",
       "    </tr>\n",
       "    <tr>\n",
       "      <td>4</td>\n",
       "      <td>NaN</td>\n",
       "      <td>233.0</td>\n",
       "      <td>NaN</td>\n",
       "      <td>NaN</td>\n",
       "      <td>NaN</td>\n",
       "      <td>NaN</td>\n",
       "      <td>NaN</td>\n",
       "      <td>233.0</td>\n",
       "      <td>1</td>\n",
       "      <td>25.89</td>\n",
       "    </tr>\n",
       "  </tbody>\n",
       "</table>\n",
       "</div>"
      ],
      "text/plain": [
       "   ComputerProgramming  ElectronicsAndSemicon  ComputerScience  \\\n",
       "0                445.0                    NaN              NaN   \n",
       "1                  NaN                  466.0              NaN   \n",
       "2                395.0                    NaN              NaN   \n",
       "3                615.0                    NaN              NaN   \n",
       "4                  NaN                  233.0              NaN   \n",
       "\n",
       "   MechanicalEngg  ElectricalEngg  TelecomEngg  CivilEngg    Sum  Count  \\\n",
       "0             NaN             NaN          NaN        NaN  445.0      1   \n",
       "1             NaN             NaN          NaN        NaN  466.0      1   \n",
       "2             NaN             NaN          NaN        NaN  395.0      1   \n",
       "3             NaN             NaN          NaN        NaN  615.0      1   \n",
       "4             NaN             NaN          NaN        NaN  233.0      1   \n",
       "\n",
       "   Percent  \n",
       "0    49.44  \n",
       "1    51.78  \n",
       "2    43.89  \n",
       "3    68.33  \n",
       "4    25.89  "
      ]
     },
     "execution_count": 24,
     "metadata": {},
     "output_type": "execute_result"
    }
   ],
   "source": [
    "new.head()"
   ]
  },
  {
   "cell_type": "markdown",
   "metadata": {},
   "source": [
    "We shall use this column of percent in our calculations so we don't loos out on any data"
   ]
  },
  {
   "cell_type": "code",
   "execution_count": 25,
   "metadata": {},
   "outputs": [],
   "source": [
    "df['Marks_Percent']=new['Percent']"
   ]
  },
  {
   "cell_type": "markdown",
   "metadata": {},
   "source": [
    "Now dropping the original columns of marks."
   ]
  },
  {
   "cell_type": "code",
   "execution_count": 26,
   "metadata": {},
   "outputs": [],
   "source": [
    "df.drop(['ComputerProgramming',\n",
    "       'ElectronicsAndSemicon', 'ComputerScience', 'MechanicalEngg',\n",
    "       'ElectricalEngg', 'TelecomEngg', 'CivilEngg'],axis=1,inplace=True)"
   ]
  },
  {
   "cell_type": "markdown",
   "metadata": {},
   "source": [
    "#### Fetching the Birth Year of the student from DOB\n"
   ]
  },
  {
   "cell_type": "code",
   "execution_count": 27,
   "metadata": {},
   "outputs": [],
   "source": [
    "df['BirthYr']=df['DOB'].dt.year"
   ]
  },
  {
   "cell_type": "code",
   "execution_count": 28,
   "metadata": {},
   "outputs": [],
   "source": [
    "df.drop('DOB',axis=1,inplace=True)"
   ]
  },
  {
   "cell_type": "markdown",
   "metadata": {},
   "source": [
    "#### Dealing with GPA whose values are out of 10. Making those out of 100"
   ]
  },
  {
   "cell_type": "code",
   "execution_count": 29,
   "metadata": {},
   "outputs": [],
   "source": [
    "df['collegeGPA']=[round(x*10,2) if x<=10 else x for x in df['collegeGPA']]"
   ]
  },
  {
   "cell_type": "markdown",
   "metadata": {},
   "source": [
    "#### For different states, we shall make those into regions and deal with it"
   ]
  },
  {
   "cell_type": "code",
   "execution_count": 30,
   "metadata": {},
   "outputs": [],
   "source": [
    "N=['Uttar Pradesh','Haryana','Punjab','Rajasthan','Uttarakhand', 'Jammu and Kashmir', 'Himachal Pradesh']\n",
    "S=['Andhra Pradesh','Karnataka', 'Tamil Nadu','Telangana', 'Kerala']\n",
    "W=['Maharashtra','Gujarat','Goa']\n",
    "E=['Bihar','Jharkhand','Orissa','West Bengal']\n",
    "C=['Chhattisgarh','Madhya Pradesh']"
   ]
  },
  {
   "cell_type": "code",
   "execution_count": 31,
   "metadata": {},
   "outputs": [],
   "source": [
    "def region(x):\n",
    "    if x in N:\n",
    "        return ('North')\n",
    "    elif x in S:\n",
    "        return ('South')\n",
    "    elif x in W:\n",
    "        return ('West')\n",
    "    elif x in E:\n",
    "        return ('East')\n",
    "    elif x in C:\n",
    "        return ('Central')\n",
    "    else:\n",
    "        return ('Other')"
   ]
  },
  {
   "cell_type": "code",
   "execution_count": 32,
   "metadata": {},
   "outputs": [],
   "source": [
    "df['Region']=df['CollegeState'].apply(region)\n",
    "df.drop('CollegeState',axis=1,inplace=True)"
   ]
  },
  {
   "cell_type": "markdown",
   "metadata": {},
   "source": [
    "#### Dealing with the 10board and 12board and making those into central and state board"
   ]
  },
  {
   "cell_type": "code",
   "execution_count": 33,
   "metadata": {},
   "outputs": [],
   "source": [
    "df['10board']=df['10board'].replace(to_replace=['c b s e','cbsc','cbse board','cbse[gulf zone]',\n",
    "                       'central board of secondary education',\n",
    "                       'central board of secondary education(cbse)','central board of secondary education,new delhi'],\n",
    "                      value='cbse')"
   ]
  },
  {
   "cell_type": "code",
   "execution_count": 34,
   "metadata": {},
   "outputs": [],
   "source": [
    "df['10board']=df['10board'].replace(to_replace=['cicse','cisce','council for indian school certificate examination',\n",
    "                                 'council of indian school certificate examinations','icse board','icse board , new delhi',\n",
    "                                 'indian certificate for secondary education'],\n",
    "                      value='icse')"
   ]
  },
  {
   "cell_type": "code",
   "execution_count": 35,
   "metadata": {},
   "outputs": [],
   "source": [
    "df['12board']=df['12board'].replace(to_replace=['c b s e','cbsc','cbse board','cbese','cbse,new delhi'\n",
    "                       'central board of secondary education','central board of school education',\n",
    "                       'central board of secondary education(cbse)','central board of secondary education,new delhi',\n",
    "                                                'central board of secondary education, new delhi'],\n",
    "                      value='cbse')"
   ]
  },
  {
   "cell_type": "code",
   "execution_count": 36,
   "metadata": {},
   "outputs": [],
   "source": [
    "df['12board']=df['12board'].replace(to_replace=['cicse','cisce','council for indian school certificate examination',\n",
    "                                 'council of indian school certificate examinations','isc','isc board',\n",
    "                                                'isc board , new delhi','isce'],\n",
    "                      value='icse')"
   ]
  },
  {
   "cell_type": "code",
   "execution_count": 37,
   "metadata": {},
   "outputs": [],
   "source": [
    "def board(x):\n",
    "    if (x=='cbse' or x=='icse'):\n",
    "        return ('central board')\n",
    "    elif x==0:\n",
    "        return (0)\n",
    "    else:\n",
    "        return ('state board')"
   ]
  },
  {
   "cell_type": "code",
   "execution_count": 38,
   "metadata": {},
   "outputs": [],
   "source": [
    "df['10board']=df['10board'].apply(board)"
   ]
  },
  {
   "cell_type": "code",
   "execution_count": 39,
   "metadata": {},
   "outputs": [],
   "source": [
    "df['10board']=df['10board'].replace(0,np.nan)"
   ]
  },
  {
   "cell_type": "code",
   "execution_count": 40,
   "metadata": {},
   "outputs": [],
   "source": [
    "df['12board']=df['12board'].apply(board)"
   ]
  },
  {
   "cell_type": "code",
   "execution_count": 41,
   "metadata": {},
   "outputs": [],
   "source": [
    "df['12board']=df['12board'].replace(0,np.nan)"
   ]
  },
  {
   "cell_type": "markdown",
   "metadata": {},
   "source": [
    "#### Calculating the missing value percentage now"
   ]
  },
  {
   "cell_type": "code",
   "execution_count": 42,
   "metadata": {},
   "outputs": [
    {
     "data": {
      "text/html": [
       "<div>\n",
       "<style scoped>\n",
       "    .dataframe tbody tr th:only-of-type {\n",
       "        vertical-align: middle;\n",
       "    }\n",
       "\n",
       "    .dataframe tbody tr th {\n",
       "        vertical-align: top;\n",
       "    }\n",
       "\n",
       "    .dataframe thead th {\n",
       "        text-align: right;\n",
       "    }\n",
       "</style>\n",
       "<table border=\"1\" class=\"dataframe\">\n",
       "  <thead>\n",
       "    <tr style=\"text-align: right;\">\n",
       "      <th></th>\n",
       "      <th>Feature_Name</th>\n",
       "      <th>No. of missing values</th>\n",
       "      <th>Percent of missing values</th>\n",
       "    </tr>\n",
       "  </thead>\n",
       "  <tbody>\n",
       "    <tr>\n",
       "      <td>0</td>\n",
       "      <td>Salary</td>\n",
       "      <td>1500</td>\n",
       "      <td>27.28</td>\n",
       "    </tr>\n",
       "    <tr>\n",
       "      <td>1</td>\n",
       "      <td>10board</td>\n",
       "      <td>508</td>\n",
       "      <td>9.24</td>\n",
       "    </tr>\n",
       "    <tr>\n",
       "      <td>2</td>\n",
       "      <td>12board</td>\n",
       "      <td>522</td>\n",
       "      <td>9.49</td>\n",
       "    </tr>\n",
       "    <tr>\n",
       "      <td>3</td>\n",
       "      <td>Domain</td>\n",
       "      <td>332</td>\n",
       "      <td>6.04</td>\n",
       "    </tr>\n",
       "    <tr>\n",
       "      <td>4</td>\n",
       "      <td>Marks_Percent</td>\n",
       "      <td>158</td>\n",
       "      <td>2.87</td>\n",
       "    </tr>\n",
       "  </tbody>\n",
       "</table>\n",
       "</div>"
      ],
      "text/plain": [
       "    Feature_Name  No. of missing values  Percent of missing values\n",
       "0         Salary                   1500                      27.28\n",
       "1        10board                    508                       9.24\n",
       "2        12board                    522                       9.49\n",
       "3         Domain                    332                       6.04\n",
       "4  Marks_Percent                    158                       2.87"
      ]
     },
     "execution_count": 42,
     "metadata": {},
     "output_type": "execute_result"
    }
   ],
   "source": [
    "miss_val(df)"
   ]
  },
  {
   "cell_type": "markdown",
   "metadata": {},
   "source": [
    "## EDA"
   ]
  },
  {
   "cell_type": "code",
   "execution_count": 43,
   "metadata": {},
   "outputs": [
    {
     "data": {
      "text/html": [
       "<div>\n",
       "<style scoped>\n",
       "    .dataframe tbody tr th:only-of-type {\n",
       "        vertical-align: middle;\n",
       "    }\n",
       "\n",
       "    .dataframe tbody tr th {\n",
       "        vertical-align: top;\n",
       "    }\n",
       "\n",
       "    .dataframe thead th {\n",
       "        text-align: right;\n",
       "    }\n",
       "</style>\n",
       "<table border=\"1\" class=\"dataframe\">\n",
       "  <thead>\n",
       "    <tr style=\"text-align: right;\">\n",
       "      <th></th>\n",
       "      <th>count</th>\n",
       "      <th>mean</th>\n",
       "      <th>std</th>\n",
       "      <th>min</th>\n",
       "      <th>25%</th>\n",
       "      <th>50%</th>\n",
       "      <th>75%</th>\n",
       "      <th>max</th>\n",
       "    </tr>\n",
       "  </thead>\n",
       "  <tbody>\n",
       "    <tr>\n",
       "      <td>Salary</td>\n",
       "      <td>3998.0</td>\n",
       "      <td>307699.849925</td>\n",
       "      <td>212737.499957</td>\n",
       "      <td>35000.00000</td>\n",
       "      <td>180000.00000</td>\n",
       "      <td>300000.00000</td>\n",
       "      <td>370000.000000</td>\n",
       "      <td>4.000000e+06</td>\n",
       "    </tr>\n",
       "    <tr>\n",
       "      <td>10percentage</td>\n",
       "      <td>5498.0</td>\n",
       "      <td>78.050700</td>\n",
       "      <td>9.774724</td>\n",
       "      <td>43.00000</td>\n",
       "      <td>72.00000</td>\n",
       "      <td>79.60000</td>\n",
       "      <td>85.615000</td>\n",
       "      <td>9.776000e+01</td>\n",
       "    </tr>\n",
       "    <tr>\n",
       "      <td>12graduation</td>\n",
       "      <td>5498.0</td>\n",
       "      <td>2008.096944</td>\n",
       "      <td>1.636035</td>\n",
       "      <td>1995.00000</td>\n",
       "      <td>2007.00000</td>\n",
       "      <td>2008.00000</td>\n",
       "      <td>2009.000000</td>\n",
       "      <td>2.013000e+03</td>\n",
       "    </tr>\n",
       "    <tr>\n",
       "      <td>12percentage</td>\n",
       "      <td>5498.0</td>\n",
       "      <td>74.597506</td>\n",
       "      <td>10.902039</td>\n",
       "      <td>40.00000</td>\n",
       "      <td>66.40000</td>\n",
       "      <td>74.53000</td>\n",
       "      <td>82.800000</td>\n",
       "      <td>9.870000e+01</td>\n",
       "    </tr>\n",
       "    <tr>\n",
       "      <td>CollegeID</td>\n",
       "      <td>5498.0</td>\n",
       "      <td>5169.293198</td>\n",
       "      <td>4787.707246</td>\n",
       "      <td>2.00000</td>\n",
       "      <td>513.00000</td>\n",
       "      <td>3879.00000</td>\n",
       "      <td>8816.250000</td>\n",
       "      <td>1.840900e+04</td>\n",
       "    </tr>\n",
       "    <tr>\n",
       "      <td>CollegeTier</td>\n",
       "      <td>5498.0</td>\n",
       "      <td>1.925973</td>\n",
       "      <td>0.261839</td>\n",
       "      <td>1.00000</td>\n",
       "      <td>2.00000</td>\n",
       "      <td>2.00000</td>\n",
       "      <td>2.000000</td>\n",
       "      <td>2.000000e+00</td>\n",
       "    </tr>\n",
       "    <tr>\n",
       "      <td>collegeGPA</td>\n",
       "      <td>5498.0</td>\n",
       "      <td>71.788920</td>\n",
       "      <td>7.361638</td>\n",
       "      <td>43.90000</td>\n",
       "      <td>66.90000</td>\n",
       "      <td>71.90000</td>\n",
       "      <td>76.465000</td>\n",
       "      <td>9.993000e+01</td>\n",
       "    </tr>\n",
       "    <tr>\n",
       "      <td>CollegeCityID</td>\n",
       "      <td>5498.0</td>\n",
       "      <td>5169.293198</td>\n",
       "      <td>4787.707246</td>\n",
       "      <td>2.00000</td>\n",
       "      <td>513.00000</td>\n",
       "      <td>3879.00000</td>\n",
       "      <td>8816.250000</td>\n",
       "      <td>1.840900e+04</td>\n",
       "    </tr>\n",
       "    <tr>\n",
       "      <td>CollegeCityTier</td>\n",
       "      <td>5498.0</td>\n",
       "      <td>0.294289</td>\n",
       "      <td>0.455764</td>\n",
       "      <td>0.00000</td>\n",
       "      <td>0.00000</td>\n",
       "      <td>0.00000</td>\n",
       "      <td>1.000000</td>\n",
       "      <td>1.000000e+00</td>\n",
       "    </tr>\n",
       "    <tr>\n",
       "      <td>GraduationYear</td>\n",
       "      <td>5498.0</td>\n",
       "      <td>2012.246453</td>\n",
       "      <td>27.174495</td>\n",
       "      <td>0.00000</td>\n",
       "      <td>2012.00000</td>\n",
       "      <td>2013.00000</td>\n",
       "      <td>2014.000000</td>\n",
       "      <td>2.017000e+03</td>\n",
       "    </tr>\n",
       "    <tr>\n",
       "      <td>English</td>\n",
       "      <td>5498.0</td>\n",
       "      <td>501.712987</td>\n",
       "      <td>104.668529</td>\n",
       "      <td>180.00000</td>\n",
       "      <td>425.00000</td>\n",
       "      <td>500.00000</td>\n",
       "      <td>570.000000</td>\n",
       "      <td>8.750000e+02</td>\n",
       "    </tr>\n",
       "    <tr>\n",
       "      <td>Logical</td>\n",
       "      <td>5498.0</td>\n",
       "      <td>501.492725</td>\n",
       "      <td>86.891827</td>\n",
       "      <td>195.00000</td>\n",
       "      <td>445.00000</td>\n",
       "      <td>505.00000</td>\n",
       "      <td>565.000000</td>\n",
       "      <td>7.950000e+02</td>\n",
       "    </tr>\n",
       "    <tr>\n",
       "      <td>Quant</td>\n",
       "      <td>5498.0</td>\n",
       "      <td>513.685704</td>\n",
       "      <td>121.172159</td>\n",
       "      <td>120.00000</td>\n",
       "      <td>430.00000</td>\n",
       "      <td>515.00000</td>\n",
       "      <td>595.000000</td>\n",
       "      <td>9.000000e+02</td>\n",
       "    </tr>\n",
       "    <tr>\n",
       "      <td>Domain</td>\n",
       "      <td>5166.0</td>\n",
       "      <td>0.607323</td>\n",
       "      <td>0.274660</td>\n",
       "      <td>0.00275</td>\n",
       "      <td>0.37606</td>\n",
       "      <td>0.64939</td>\n",
       "      <td>0.842248</td>\n",
       "      <td>9.999786e-01</td>\n",
       "    </tr>\n",
       "    <tr>\n",
       "      <td>conscientiousness</td>\n",
       "      <td>5498.0</td>\n",
       "      <td>-0.037976</td>\n",
       "      <td>1.026689</td>\n",
       "      <td>-4.12670</td>\n",
       "      <td>-0.72640</td>\n",
       "      <td>0.04640</td>\n",
       "      <td>0.702700</td>\n",
       "      <td>1.995300e+00</td>\n",
       "    </tr>\n",
       "    <tr>\n",
       "      <td>agreeableness</td>\n",
       "      <td>5498.0</td>\n",
       "      <td>0.156622</td>\n",
       "      <td>0.919777</td>\n",
       "      <td>-5.78160</td>\n",
       "      <td>-0.28710</td>\n",
       "      <td>0.21240</td>\n",
       "      <td>0.812800</td>\n",
       "      <td>1.904800e+00</td>\n",
       "    </tr>\n",
       "    <tr>\n",
       "      <td>extraversion</td>\n",
       "      <td>5498.0</td>\n",
       "      <td>0.015219</td>\n",
       "      <td>0.943009</td>\n",
       "      <td>-4.60090</td>\n",
       "      <td>-0.60480</td>\n",
       "      <td>0.09140</td>\n",
       "      <td>0.672000</td>\n",
       "      <td>2.535400e+00</td>\n",
       "    </tr>\n",
       "    <tr>\n",
       "      <td>nueroticism</td>\n",
       "      <td>5498.0</td>\n",
       "      <td>-0.147904</td>\n",
       "      <td>1.008903</td>\n",
       "      <td>-2.64300</td>\n",
       "      <td>-0.86820</td>\n",
       "      <td>-0.17270</td>\n",
       "      <td>0.526200</td>\n",
       "      <td>3.352500e+00</td>\n",
       "    </tr>\n",
       "    <tr>\n",
       "      <td>openess_to_experience</td>\n",
       "      <td>5498.0</td>\n",
       "      <td>-0.128363</td>\n",
       "      <td>0.982055</td>\n",
       "      <td>-7.37570</td>\n",
       "      <td>-0.66920</td>\n",
       "      <td>-0.05060</td>\n",
       "      <td>0.502400</td>\n",
       "      <td>1.822400e+00</td>\n",
       "    </tr>\n",
       "    <tr>\n",
       "      <td>Marks_Percent</td>\n",
       "      <td>5340.0</td>\n",
       "      <td>47.007129</td>\n",
       "      <td>10.508595</td>\n",
       "      <td>14.78000</td>\n",
       "      <td>39.51500</td>\n",
       "      <td>46.39000</td>\n",
       "      <td>53.890000</td>\n",
       "      <td>8.933000e+01</td>\n",
       "    </tr>\n",
       "    <tr>\n",
       "      <td>BirthYr</td>\n",
       "      <td>5498.0</td>\n",
       "      <td>1990.436704</td>\n",
       "      <td>1.744581</td>\n",
       "      <td>1977.00000</td>\n",
       "      <td>1989.00000</td>\n",
       "      <td>1991.00000</td>\n",
       "      <td>1992.000000</td>\n",
       "      <td>1.997000e+03</td>\n",
       "    </tr>\n",
       "  </tbody>\n",
       "</table>\n",
       "</div>"
      ],
      "text/plain": [
       "                        count           mean            std          min  \\\n",
       "Salary                 3998.0  307699.849925  212737.499957  35000.00000   \n",
       "10percentage           5498.0      78.050700       9.774724     43.00000   \n",
       "12graduation           5498.0    2008.096944       1.636035   1995.00000   \n",
       "12percentage           5498.0      74.597506      10.902039     40.00000   \n",
       "CollegeID              5498.0    5169.293198    4787.707246      2.00000   \n",
       "CollegeTier            5498.0       1.925973       0.261839      1.00000   \n",
       "collegeGPA             5498.0      71.788920       7.361638     43.90000   \n",
       "CollegeCityID          5498.0    5169.293198    4787.707246      2.00000   \n",
       "CollegeCityTier        5498.0       0.294289       0.455764      0.00000   \n",
       "GraduationYear         5498.0    2012.246453      27.174495      0.00000   \n",
       "English                5498.0     501.712987     104.668529    180.00000   \n",
       "Logical                5498.0     501.492725      86.891827    195.00000   \n",
       "Quant                  5498.0     513.685704     121.172159    120.00000   \n",
       "Domain                 5166.0       0.607323       0.274660      0.00275   \n",
       "conscientiousness      5498.0      -0.037976       1.026689     -4.12670   \n",
       "agreeableness          5498.0       0.156622       0.919777     -5.78160   \n",
       "extraversion           5498.0       0.015219       0.943009     -4.60090   \n",
       "nueroticism            5498.0      -0.147904       1.008903     -2.64300   \n",
       "openess_to_experience  5498.0      -0.128363       0.982055     -7.37570   \n",
       "Marks_Percent          5340.0      47.007129      10.508595     14.78000   \n",
       "BirthYr                5498.0    1990.436704       1.744581   1977.00000   \n",
       "\n",
       "                                25%           50%            75%           max  \n",
       "Salary                 180000.00000  300000.00000  370000.000000  4.000000e+06  \n",
       "10percentage               72.00000      79.60000      85.615000  9.776000e+01  \n",
       "12graduation             2007.00000    2008.00000    2009.000000  2.013000e+03  \n",
       "12percentage               66.40000      74.53000      82.800000  9.870000e+01  \n",
       "CollegeID                 513.00000    3879.00000    8816.250000  1.840900e+04  \n",
       "CollegeTier                 2.00000       2.00000       2.000000  2.000000e+00  \n",
       "collegeGPA                 66.90000      71.90000      76.465000  9.993000e+01  \n",
       "CollegeCityID             513.00000    3879.00000    8816.250000  1.840900e+04  \n",
       "CollegeCityTier             0.00000       0.00000       1.000000  1.000000e+00  \n",
       "GraduationYear           2012.00000    2013.00000    2014.000000  2.017000e+03  \n",
       "English                   425.00000     500.00000     570.000000  8.750000e+02  \n",
       "Logical                   445.00000     505.00000     565.000000  7.950000e+02  \n",
       "Quant                     430.00000     515.00000     595.000000  9.000000e+02  \n",
       "Domain                      0.37606       0.64939       0.842248  9.999786e-01  \n",
       "conscientiousness          -0.72640       0.04640       0.702700  1.995300e+00  \n",
       "agreeableness              -0.28710       0.21240       0.812800  1.904800e+00  \n",
       "extraversion               -0.60480       0.09140       0.672000  2.535400e+00  \n",
       "nueroticism                -0.86820      -0.17270       0.526200  3.352500e+00  \n",
       "openess_to_experience      -0.66920      -0.05060       0.502400  1.822400e+00  \n",
       "Marks_Percent              39.51500      46.39000      53.890000  8.933000e+01  \n",
       "BirthYr                  1989.00000    1991.00000    1992.000000  1.997000e+03  "
      ]
     },
     "execution_count": 43,
     "metadata": {},
     "output_type": "execute_result"
    }
   ],
   "source": [
    "df.describe().T"
   ]
  },
  {
   "cell_type": "markdown",
   "metadata": {},
   "source": [
    "1. We observe that there is possibility of the outliers in the salary\n",
    "2. The features which can have outliers are conscientiousness,agreeableness,extraversion,nueroticism,openess_to_experience\n",
    "3. We shall deal with them as we proceed"
   ]
  },
  {
   "cell_type": "code",
   "execution_count": 44,
   "metadata": {},
   "outputs": [
    {
     "data": {
      "text/plain": [
       "Index(['Unnamed: 0', 'Salary', 'Gender', '10percentage', '10board',\n",
       "       '12graduation', '12percentage', '12board', 'CollegeID', 'CollegeTier',\n",
       "       'Degree', 'Specialization', 'collegeGPA', 'CollegeCityID',\n",
       "       'CollegeCityTier', 'GraduationYear', 'English', 'Logical', 'Quant',\n",
       "       'Domain', 'conscientiousness', 'agreeableness', 'extraversion',\n",
       "       'nueroticism', 'openess_to_experience', 'Marks_Percent', 'BirthYr',\n",
       "       'Region'],\n",
       "      dtype='object')"
      ]
     },
     "execution_count": 44,
     "metadata": {},
     "output_type": "execute_result"
    }
   ],
   "source": [
    "df.columns"
   ]
  },
  {
   "cell_type": "code",
   "execution_count": 45,
   "metadata": {},
   "outputs": [],
   "source": [
    "num=['10percentage',\n",
    "       '12graduation', '12percentage', 'collegeGPA', \n",
    "        'GraduationYear', 'English', 'Logical', 'Quant',\n",
    "       'Domain', 'conscientiousness', 'agreeableness', 'extraversion',\n",
    "       'nueroticism', 'openess_to_experience', 'Marks_Percent', 'BirthYr']"
   ]
  },
  {
   "cell_type": "code",
   "execution_count": 46,
   "metadata": {},
   "outputs": [],
   "source": [
    "cat=[ 'Gender', '10board',\n",
    "        '12board', 'CollegeID', 'CollegeTier',\n",
    "       'Degree', 'Specialization',  'CollegeCityID',\n",
    "       'CollegeCityTier','Region']"
   ]
  },
  {
   "cell_type": "code",
   "execution_count": 47,
   "metadata": {},
   "outputs": [
    {
     "data": {
      "text/plain": [
       "(16, 10, 28)"
      ]
     },
     "execution_count": 47,
     "metadata": {},
     "output_type": "execute_result"
    }
   ],
   "source": [
    "len(num),len(cat),df.shape[1]"
   ]
  },
  {
   "cell_type": "markdown",
   "metadata": {},
   "source": [
    "#### Dealing with Specialization using the fuzzy logic method\n",
    "1. Since we already have the details ready in the other sheet, we shall not work on it again and just implement it here"
   ]
  },
  {
   "cell_type": "code",
   "execution_count": 48,
   "metadata": {},
   "outputs": [],
   "source": [
    "y=pd.read_excel('y.xlsx')"
   ]
  },
  {
   "cell_type": "code",
   "execution_count": 49,
   "metadata": {},
   "outputs": [
    {
     "data": {
      "text/html": [
       "<div>\n",
       "<style scoped>\n",
       "    .dataframe tbody tr th:only-of-type {\n",
       "        vertical-align: middle;\n",
       "    }\n",
       "\n",
       "    .dataframe tbody tr th {\n",
       "        vertical-align: top;\n",
       "    }\n",
       "\n",
       "    .dataframe thead th {\n",
       "        text-align: right;\n",
       "    }\n",
       "</style>\n",
       "<table border=\"1\" class=\"dataframe\">\n",
       "  <thead>\n",
       "    <tr style=\"text-align: right;\">\n",
       "      <th></th>\n",
       "      <th>Unnamed: 0</th>\n",
       "      <th>Specialization</th>\n",
       "      <th>SPL</th>\n",
       "      <th>Degree</th>\n",
       "    </tr>\n",
       "  </thead>\n",
       "  <tbody>\n",
       "    <tr>\n",
       "      <td>0</td>\n",
       "      <td>0</td>\n",
       "      <td>computer engineering</td>\n",
       "      <td>Computer</td>\n",
       "      <td>90</td>\n",
       "    </tr>\n",
       "    <tr>\n",
       "      <td>1</td>\n",
       "      <td>1</td>\n",
       "      <td>electronics and communication engineering</td>\n",
       "      <td>Electronics</td>\n",
       "      <td>90</td>\n",
       "    </tr>\n",
       "  </tbody>\n",
       "</table>\n",
       "</div>"
      ],
      "text/plain": [
       "   Unnamed: 0                             Specialization          SPL  Degree\n",
       "0           0                       computer engineering     Computer      90\n",
       "1           1  electronics and communication engineering  Electronics      90"
      ]
     },
     "execution_count": 49,
     "metadata": {},
     "output_type": "execute_result"
    }
   ],
   "source": [
    "y.head(2)"
   ]
  },
  {
   "cell_type": "code",
   "execution_count": 50,
   "metadata": {},
   "outputs": [
    {
     "data": {
      "text/plain": [
       "Computer       0.399236\n",
       "Electronics    0.327392\n",
       "Information    0.170607\n",
       "Mechanical     0.050382\n",
       "Other          0.024009\n",
       "Electrical     0.020371\n",
       "Civil          0.008003\n",
       "Name: SPL, dtype: float64"
      ]
     },
     "execution_count": 50,
     "metadata": {},
     "output_type": "execute_result"
    }
   ],
   "source": [
    "y['SPL'].value_counts(1)"
   ]
  },
  {
   "cell_type": "code",
   "execution_count": 51,
   "metadata": {},
   "outputs": [],
   "source": [
    "df['Specialzn']=y['SPL']\n",
    "\n",
    "df.drop('Specialization',axis=1,inplace=True)"
   ]
  },
  {
   "cell_type": "code",
   "execution_count": 52,
   "metadata": {},
   "outputs": [
    {
     "data": {
      "text/html": [
       "<div>\n",
       "<style scoped>\n",
       "    .dataframe tbody tr th:only-of-type {\n",
       "        vertical-align: middle;\n",
       "    }\n",
       "\n",
       "    .dataframe tbody tr th {\n",
       "        vertical-align: top;\n",
       "    }\n",
       "\n",
       "    .dataframe thead th {\n",
       "        text-align: right;\n",
       "    }\n",
       "</style>\n",
       "<table border=\"1\" class=\"dataframe\">\n",
       "  <thead>\n",
       "    <tr style=\"text-align: right;\">\n",
       "      <th></th>\n",
       "      <th>Unnamed: 0</th>\n",
       "      <th>Salary</th>\n",
       "      <th>Gender</th>\n",
       "      <th>10percentage</th>\n",
       "      <th>10board</th>\n",
       "      <th>12graduation</th>\n",
       "      <th>12percentage</th>\n",
       "      <th>12board</th>\n",
       "      <th>CollegeID</th>\n",
       "      <th>CollegeTier</th>\n",
       "      <th>...</th>\n",
       "      <th>Domain</th>\n",
       "      <th>conscientiousness</th>\n",
       "      <th>agreeableness</th>\n",
       "      <th>extraversion</th>\n",
       "      <th>nueroticism</th>\n",
       "      <th>openess_to_experience</th>\n",
       "      <th>Marks_Percent</th>\n",
       "      <th>BirthYr</th>\n",
       "      <th>Region</th>\n",
       "      <th>Specialzn</th>\n",
       "    </tr>\n",
       "  </thead>\n",
       "  <tbody>\n",
       "    <tr>\n",
       "      <td>0</td>\n",
       "      <td>train</td>\n",
       "      <td>420000.0</td>\n",
       "      <td>f</td>\n",
       "      <td>84.3</td>\n",
       "      <td>state board</td>\n",
       "      <td>2007</td>\n",
       "      <td>95.8</td>\n",
       "      <td>state board</td>\n",
       "      <td>1141</td>\n",
       "      <td>2</td>\n",
       "      <td>...</td>\n",
       "      <td>0.635979</td>\n",
       "      <td>0.9737</td>\n",
       "      <td>0.8128</td>\n",
       "      <td>0.5269</td>\n",
       "      <td>1.3549</td>\n",
       "      <td>-0.4455</td>\n",
       "      <td>49.44</td>\n",
       "      <td>1990</td>\n",
       "      <td>South</td>\n",
       "      <td>Computer</td>\n",
       "    </tr>\n",
       "    <tr>\n",
       "      <td>1</td>\n",
       "      <td>train</td>\n",
       "      <td>500000.0</td>\n",
       "      <td>m</td>\n",
       "      <td>85.4</td>\n",
       "      <td>central board</td>\n",
       "      <td>2007</td>\n",
       "      <td>85.0</td>\n",
       "      <td>central board</td>\n",
       "      <td>5807</td>\n",
       "      <td>2</td>\n",
       "      <td>...</td>\n",
       "      <td>0.960603</td>\n",
       "      <td>-0.7335</td>\n",
       "      <td>0.3789</td>\n",
       "      <td>1.2396</td>\n",
       "      <td>-0.1076</td>\n",
       "      <td>0.8637</td>\n",
       "      <td>51.78</td>\n",
       "      <td>1989</td>\n",
       "      <td>Central</td>\n",
       "      <td>Electronics</td>\n",
       "    </tr>\n",
       "  </tbody>\n",
       "</table>\n",
       "<p>2 rows × 28 columns</p>\n",
       "</div>"
      ],
      "text/plain": [
       "  Unnamed: 0    Salary Gender  10percentage        10board  12graduation  \\\n",
       "0      train  420000.0      f          84.3    state board          2007   \n",
       "1      train  500000.0      m          85.4  central board          2007   \n",
       "\n",
       "   12percentage        12board  CollegeID  CollegeTier  ...    Domain  \\\n",
       "0          95.8    state board       1141            2  ...  0.635979   \n",
       "1          85.0  central board       5807            2  ...  0.960603   \n",
       "\n",
       "   conscientiousness  agreeableness  extraversion  nueroticism  \\\n",
       "0             0.9737         0.8128        0.5269       1.3549   \n",
       "1            -0.7335         0.3789        1.2396      -0.1076   \n",
       "\n",
       "   openess_to_experience  Marks_Percent  BirthYr   Region    Specialzn  \n",
       "0                -0.4455          49.44     1990    South     Computer  \n",
       "1                 0.8637          51.78     1989  Central  Electronics  \n",
       "\n",
       "[2 rows x 28 columns]"
      ]
     },
     "execution_count": 52,
     "metadata": {},
     "output_type": "execute_result"
    }
   ],
   "source": [
    "df.head(2)"
   ]
  },
  {
   "cell_type": "code",
   "execution_count": 53,
   "metadata": {},
   "outputs": [],
   "source": [
    "cat.remove('Specialization')"
   ]
  },
  {
   "cell_type": "code",
   "execution_count": 54,
   "metadata": {},
   "outputs": [],
   "source": [
    "cat.append('Specialzn')"
   ]
  },
  {
   "cell_type": "code",
   "execution_count": 55,
   "metadata": {},
   "outputs": [],
   "source": [
    "def grad(x):\n",
    "    if x=='B.Tech/B.E.':\n",
    "        return ('UnderGrad')\n",
    "    else:\n",
    "        return ('PostGrad')"
   ]
  },
  {
   "cell_type": "code",
   "execution_count": 56,
   "metadata": {},
   "outputs": [],
   "source": [
    "df['Degree']=df['Degree'].apply(grad)"
   ]
  },
  {
   "cell_type": "markdown",
   "metadata": {},
   "source": [
    "#### Dealing with the College ID and College City ID\n",
    "1. College ID and College City ID are one and the same.Hence, we can drop one of the entity.\n",
    "2. We shall use qcut to bin the college IDs with the help of quantiles. We shall take into consideration the number of instances under each college ID.\n",
    "3. As per the qcut, college ID which have instances more than 4 are termed as high,  and less than 4 are termed as low"
   ]
  },
  {
   "cell_type": "code",
   "execution_count": 57,
   "metadata": {},
   "outputs": [
    {
     "data": {
      "text/plain": [
       "272      127\n",
       "64        57\n",
       "11759     48\n",
       "47        46\n",
       "44        45\n",
       "        ... \n",
       "7230       1\n",
       "11916      1\n",
       "15418      1\n",
       "15406      1\n",
       "12290      1\n",
       "Name: CollegeID, Length: 1570, dtype: int64"
      ]
     },
     "execution_count": 57,
     "metadata": {},
     "output_type": "execute_result"
    }
   ],
   "source": [
    "df['CollegeID'].value_counts()"
   ]
  },
  {
   "cell_type": "code",
   "execution_count": 58,
   "metadata": {},
   "outputs": [],
   "source": [
    "new1=pd.DataFrame(pd.qcut(df['CollegeID'].value_counts(),2,labels=['low','high'],duplicates='drop')).reset_index()"
   ]
  },
  {
   "cell_type": "code",
   "execution_count": 59,
   "metadata": {},
   "outputs": [],
   "source": [
    "new1.rename(columns={'index':'College_ID','CollegeID':'Type'},inplace=True)"
   ]
  },
  {
   "cell_type": "code",
   "execution_count": 60,
   "metadata": {},
   "outputs": [
    {
     "data": {
      "text/plain": [
       "low     984\n",
       "high    586\n",
       "Name: Type, dtype: int64"
      ]
     },
     "execution_count": 60,
     "metadata": {},
     "output_type": "execute_result"
    }
   ],
   "source": [
    "new1['Type'].value_counts()"
   ]
  },
  {
   "cell_type": "code",
   "execution_count": 61,
   "metadata": {},
   "outputs": [],
   "source": [
    "def collegeid(x):\n",
    "    if x in list(new1.loc[new1['Type']=='high','College_ID']):\n",
    "        return ('high')\n",
    "    else:\n",
    "        return ('low')"
   ]
  },
  {
   "cell_type": "code",
   "execution_count": 62,
   "metadata": {},
   "outputs": [],
   "source": [
    "df['CollegeID_cat']=df['CollegeID'].apply(collegeid)"
   ]
  },
  {
   "cell_type": "code",
   "execution_count": 63,
   "metadata": {},
   "outputs": [
    {
     "data": {
      "text/plain": [
       "high    4234\n",
       "low     1264\n",
       "Name: CollegeID_cat, dtype: int64"
      ]
     },
     "execution_count": 63,
     "metadata": {},
     "output_type": "execute_result"
    }
   ],
   "source": [
    "df['CollegeID_cat'].value_counts()"
   ]
  },
  {
   "cell_type": "markdown",
   "metadata": {},
   "source": [
    "Thus, high means this student comes from a college which has better representation in the dataset and might be this college falls under the higher tier college"
   ]
  },
  {
   "cell_type": "code",
   "execution_count": 64,
   "metadata": {},
   "outputs": [],
   "source": [
    "df.drop(['CollegeID','CollegeCityID'],axis=1,inplace=True)"
   ]
  },
  {
   "cell_type": "code",
   "execution_count": 65,
   "metadata": {},
   "outputs": [
    {
     "data": {
      "text/plain": [
       "(5498, 27)"
      ]
     },
     "execution_count": 65,
     "metadata": {},
     "output_type": "execute_result"
    }
   ],
   "source": [
    "df.shape"
   ]
  },
  {
   "cell_type": "markdown",
   "metadata": {},
   "source": [
    "Checking the relation between the new category formed and college tier"
   ]
  },
  {
   "cell_type": "code",
   "execution_count": 66,
   "metadata": {},
   "outputs": [
    {
     "data": {
      "text/html": [
       "<div>\n",
       "<style scoped>\n",
       "    .dataframe tbody tr th:only-of-type {\n",
       "        vertical-align: middle;\n",
       "    }\n",
       "\n",
       "    .dataframe tbody tr th {\n",
       "        vertical-align: top;\n",
       "    }\n",
       "\n",
       "    .dataframe thead th {\n",
       "        text-align: right;\n",
       "    }\n",
       "</style>\n",
       "<table border=\"1\" class=\"dataframe\">\n",
       "  <thead>\n",
       "    <tr style=\"text-align: right;\">\n",
       "      <th>CollegeID_cat</th>\n",
       "      <th>high</th>\n",
       "      <th>low</th>\n",
       "    </tr>\n",
       "    <tr>\n",
       "      <th>CollegeTier</th>\n",
       "      <th></th>\n",
       "      <th></th>\n",
       "    </tr>\n",
       "  </thead>\n",
       "  <tbody>\n",
       "    <tr>\n",
       "      <td>1</td>\n",
       "      <td>338</td>\n",
       "      <td>69</td>\n",
       "    </tr>\n",
       "    <tr>\n",
       "      <td>2</td>\n",
       "      <td>3896</td>\n",
       "      <td>1195</td>\n",
       "    </tr>\n",
       "  </tbody>\n",
       "</table>\n",
       "</div>"
      ],
      "text/plain": [
       "CollegeID_cat  high   low\n",
       "CollegeTier              \n",
       "1               338    69\n",
       "2              3896  1195"
      ]
     },
     "execution_count": 66,
     "metadata": {},
     "output_type": "execute_result"
    }
   ],
   "source": [
    "pd.crosstab(index=df['CollegeTier'],columns=df['CollegeID_cat'])"
   ]
  },
  {
   "cell_type": "markdown",
   "metadata": {},
   "source": [
    "Thus the assumption that higher number representation of the dataset from a college has no relation to tier of the college. Thus, we just plainly consider the number of instances for the purpose of qcut"
   ]
  },
  {
   "cell_type": "code",
   "execution_count": 67,
   "metadata": {},
   "outputs": [],
   "source": [
    "cat.remove('CollegeID')"
   ]
  },
  {
   "cell_type": "code",
   "execution_count": 68,
   "metadata": {},
   "outputs": [],
   "source": [
    "cat.remove('CollegeCityID')"
   ]
  },
  {
   "cell_type": "code",
   "execution_count": 69,
   "metadata": {},
   "outputs": [],
   "source": [
    "cat.append('CollegeID_cat')"
   ]
  },
  {
   "cell_type": "markdown",
   "metadata": {},
   "source": [
    "## Outlier Treatment"
   ]
  },
  {
   "cell_type": "markdown",
   "metadata": {},
   "source": [
    "#### Salary"
   ]
  },
  {
   "cell_type": "code",
   "execution_count": 70,
   "metadata": {},
   "outputs": [
    {
     "data": {
      "text/plain": [
       "<matplotlib.axes._subplots.AxesSubplot at 0x26152ee5048>"
      ]
     },
     "execution_count": 70,
     "metadata": {},
     "output_type": "execute_result"
    },
    {
     "data": {
      "image/png": "[encoded data removed]",
      "text/plain": [
       "<Figure size 432x288 with 1 Axes>"
      ]
     },
     "metadata": {
      "needs_background": "light"
     },
     "output_type": "display_data"
    }
   ],
   "source": [
    "sns.distplot(df['Salary'].dropna())"
   ]
  },
  {
   "cell_type": "code",
   "execution_count": 71,
   "metadata": {},
   "outputs": [
    {
     "data": {
      "text/plain": [
       "930599.9999999949"
      ]
     },
     "execution_count": 71,
     "metadata": {},
     "output_type": "execute_result"
    }
   ],
   "source": [
    "np.percentile(df['Salary'].dropna(),99)"
   ]
  },
  {
   "cell_type": "code",
   "execution_count": 72,
   "metadata": {},
   "outputs": [
    {
     "data": {
      "text/plain": [
       "(40,)"
      ]
     },
     "execution_count": 72,
     "metadata": {},
     "output_type": "execute_result"
    }
   ],
   "source": [
    "df['Salary'][df['Salary']>930599.9999999949].shape"
   ]
  },
  {
   "cell_type": "markdown",
   "metadata": {},
   "source": [
    "We see that 1% of the total reading have values greater than 99 percentile of salary. Let's cap the salary to 99 percentile"
   ]
  },
  {
   "cell_type": "code",
   "execution_count": 73,
   "metadata": {},
   "outputs": [],
   "source": [
    "def salary(x):\n",
    "    if x>1000000:\n",
    "        return (1000000)\n",
    "    else:\n",
    "        return (x)"
   ]
  },
  {
   "cell_type": "code",
   "execution_count": 74,
   "metadata": {},
   "outputs": [
    {
     "data": {
      "text/plain": [
       "<matplotlib.axes._subplots.AxesSubplot at 0x26152f619c8>"
      ]
     },
     "execution_count": 74,
     "metadata": {},
     "output_type": "execute_result"
    },
    {
     "data": {
      "image/png": "[encoded data removed]",
      "text/plain": [
       "<Figure size 432x288 with 1 Axes>"
      ]
     },
     "metadata": {
      "needs_background": "light"
     },
     "output_type": "display_data"
    }
   ],
   "source": [
    "sns.distplot(np.log(df['Salary'].apply(salary).dropna()))"
   ]
  },
  {
   "cell_type": "code",
   "execution_count": 75,
   "metadata": {},
   "outputs": [
    {
     "data": {
      "text/plain": [
       "<matplotlib.axes._subplots.AxesSubplot at 0x26152d9dbc8>"
      ]
     },
     "execution_count": 75,
     "metadata": {},
     "output_type": "execute_result"
    },
    {
     "data": {
      "image/png": "[encoded data removed]",
      "text/plain": [
       "<Figure size 432x288 with 1 Axes>"
      ]
     },
     "metadata": {
      "needs_background": "light"
     },
     "output_type": "display_data"
    }
   ],
   "source": [
    "sns.distplot(np.log(df['Salary'].dropna()))"
   ]
  },
  {
   "cell_type": "code",
   "execution_count": 76,
   "metadata": {},
   "outputs": [
    {
     "data": {
      "text/plain": [
       "-0.09828937278105368"
      ]
     },
     "execution_count": 76,
     "metadata": {},
     "output_type": "execute_result"
    }
   ],
   "source": [
    "(np.log1p(df['Salary'].dropna())).skew()"
   ]
  },
  {
   "cell_type": "code",
   "execution_count": 77,
   "metadata": {},
   "outputs": [
    {
     "data": {
      "text/plain": [
       "-0.3603360751185323"
      ]
     },
     "execution_count": 77,
     "metadata": {},
     "output_type": "execute_result"
    }
   ],
   "source": [
    "(np.log1p(df['Salary'].apply(salary).dropna())).skew()"
   ]
  },
  {
   "cell_type": "code",
   "execution_count": 78,
   "metadata": {},
   "outputs": [
    {
     "data": {
      "text/plain": [
       "1.391247833734634"
      ]
     },
     "execution_count": 78,
     "metadata": {},
     "output_type": "execute_result"
    }
   ],
   "source": [
    "(df['Salary'].apply(salary).dropna()).skew()"
   ]
  },
  {
   "cell_type": "markdown",
   "metadata": {},
   "source": [
    "1. From above we see that the percentile capping doesn't really reduce the skewness. Also after capping and then taking the log doesn't reduce the skewness. Thus, we just move ahead with taking the log of the original data without capping.\n",
    "2. Thus, we shall not loose any important observations also"
   ]
  },
  {
   "cell_type": "code",
   "execution_count": 79,
   "metadata": {},
   "outputs": [],
   "source": [
    "df['Salary']=np.log(df['Salary'])"
   ]
  },
  {
   "cell_type": "markdown",
   "metadata": {},
   "source": [
    "#### Outliers in 'conscientiousness', 'agreeableness', 'extraversion', 'nueroticism', 'openess_to_experience'"
   ]
  },
  {
   "cell_type": "code",
   "execution_count": 80,
   "metadata": {},
   "outputs": [],
   "source": [
    "lst=['conscientiousness', 'agreeableness', 'extraversion', 'nueroticism', 'openess_to_experience']"
   ]
  },
  {
   "cell_type": "code",
   "execution_count": 81,
   "metadata": {},
   "outputs": [
    {
     "data": {
      "text/plain": [
       "<matplotlib.axes._subplots.AxesSubplot at 0x26152cd6988>"
      ]
     },
     "execution_count": 81,
     "metadata": {},
     "output_type": "execute_result"
    },
    {
     "data": {
      "image/png": "[encoded data removed]",
      "text/plain": [
       "<Figure size 720x360 with 5 Axes>"
      ]
     },
     "metadata": {
      "needs_background": "light"
     },
     "output_type": "display_data"
    }
   ],
   "source": [
    "f,ax=plt.subplots(1,5,figsize=[10,5])\n",
    "sns.distplot(df['conscientiousness'].dropna(),ax=ax[0])\n",
    "sns.distplot(df['agreeableness'].dropna(),ax=ax[1])\n",
    "sns.distplot(df['extraversion'].dropna(),ax=ax[2])\n",
    "sns.distplot(df['nueroticism'].dropna(),ax=ax[3])\n",
    "sns.distplot(df['openess_to_experience'].dropna(),ax=ax[4])"
   ]
  },
  {
   "cell_type": "code",
   "execution_count": 82,
   "metadata": {},
   "outputs": [
    {
     "name": "stdout",
     "output_type": "stream",
     "text": [
      "conscientiousness -0.5037661142939938\n",
      "agreeableness -1.1320152347416725\n",
      "extraversion -0.46931116726960864\n",
      "nueroticism 0.16880473338468807\n",
      "openess_to_experience -1.3937641255340532\n"
     ]
    }
   ],
   "source": [
    "for col in lst:\n",
    "    print(col,df[col].skew())"
   ]
  },
  {
   "cell_type": "markdown",
   "metadata": {},
   "source": [
    "Thus, from graphs and skewness values, we understand that except for nueroticism, all other features have outliers. (note that the threshold for skewness is 0.2)"
   ]
  },
  {
   "cell_type": "code",
   "execution_count": 83,
   "metadata": {},
   "outputs": [],
   "source": [
    "var=df[lst]"
   ]
  },
  {
   "cell_type": "code",
   "execution_count": 84,
   "metadata": {},
   "outputs": [
    {
     "data": {
      "text/html": [
       "<div>\n",
       "<style scoped>\n",
       "    .dataframe tbody tr th:only-of-type {\n",
       "        vertical-align: middle;\n",
       "    }\n",
       "\n",
       "    .dataframe tbody tr th {\n",
       "        vertical-align: top;\n",
       "    }\n",
       "\n",
       "    .dataframe thead th {\n",
       "        text-align: right;\n",
       "    }\n",
       "</style>\n",
       "<table border=\"1\" class=\"dataframe\">\n",
       "  <thead>\n",
       "    <tr style=\"text-align: right;\">\n",
       "      <th></th>\n",
       "      <th>conscientiousness</th>\n",
       "      <th>agreeableness</th>\n",
       "      <th>extraversion</th>\n",
       "      <th>nueroticism</th>\n",
       "      <th>openess_to_experience</th>\n",
       "    </tr>\n",
       "  </thead>\n",
       "  <tbody>\n",
       "    <tr>\n",
       "      <td>0</td>\n",
       "      <td>0.9737</td>\n",
       "      <td>0.8128</td>\n",
       "      <td>0.5269</td>\n",
       "      <td>1.3549</td>\n",
       "      <td>-0.4455</td>\n",
       "    </tr>\n",
       "    <tr>\n",
       "      <td>1</td>\n",
       "      <td>-0.7335</td>\n",
       "      <td>0.3789</td>\n",
       "      <td>1.2396</td>\n",
       "      <td>-0.1076</td>\n",
       "      <td>0.8637</td>\n",
       "    </tr>\n",
       "  </tbody>\n",
       "</table>\n",
       "</div>"
      ],
      "text/plain": [
       "   conscientiousness  agreeableness  extraversion  nueroticism  \\\n",
       "0             0.9737         0.8128        0.5269       1.3549   \n",
       "1            -0.7335         0.3789        1.2396      -0.1076   \n",
       "\n",
       "   openess_to_experience  \n",
       "0                -0.4455  \n",
       "1                 0.8637  "
      ]
     },
     "execution_count": 84,
     "metadata": {},
     "output_type": "execute_result"
    }
   ],
   "source": [
    "var.head(2)"
   ]
  },
  {
   "cell_type": "code",
   "execution_count": 85,
   "metadata": {},
   "outputs": [],
   "source": [
    "#Normalizing the data\n",
    "var['conscientiousness_norm']=(var['conscientiousness']-var['conscientiousness'].min())/(var['conscientiousness'].max()-var['conscientiousness'].min())\n",
    "var['agreeableness_norm']=(var['agreeableness']-var['agreeableness'].min())/(var['agreeableness'].max()-var['agreeableness'].min())\n",
    "var['extraversion_norm']=(var['extraversion']-var['extraversion'].min())/(var['extraversion'].max()-var['extraversion'].min())\n",
    "var['nueroticism_norm']=(var['nueroticism']-var['nueroticism'].min())/(var['nueroticism'].max()-var['nueroticism'].min())\n",
    "var['openess_to_experience_norm']=(var['openess_to_experience']-var['openess_to_experience'].min())/(var['openess_to_experience'].max()-var['openess_to_experience'].min())"
   ]
  },
  {
   "cell_type": "code",
   "execution_count": 86,
   "metadata": {},
   "outputs": [
    {
     "data": {
      "text/plain": [
       "conscientiousness            -0.503766\n",
       "agreeableness                -1.132015\n",
       "extraversion                 -0.469311\n",
       "nueroticism                   0.168805\n",
       "openess_to_experience        -1.393764\n",
       "conscientiousness_norm       -0.503766\n",
       "agreeableness_norm           -1.132015\n",
       "extraversion_norm            -0.469311\n",
       "nueroticism_norm              0.168805\n",
       "openess_to_experience_norm   -1.393764\n",
       "dtype: float64"
      ]
     },
     "execution_count": 86,
     "metadata": {},
     "output_type": "execute_result"
    }
   ],
   "source": [
    "var.skew()"
   ]
  },
  {
   "cell_type": "markdown",
   "metadata": {},
   "source": [
    "1. Thus, normalization doesn't change the skewness, but just shifts the distribution\n",
    "2. To reduce the skewness, we should square/cube/take log etc of the data"
   ]
  },
  {
   "cell_type": "code",
   "execution_count": 87,
   "metadata": {},
   "outputs": [
    {
     "data": {
      "text/plain": [
       "<matplotlib.axes._subplots.AxesSubplot at 0x261535567c8>"
      ]
     },
     "execution_count": 87,
     "metadata": {},
     "output_type": "execute_result"
    },
    {
     "data": {
      "image/png": "[encoded data removed]",
      "text/plain": [
       "<Figure size 720x360 with 5 Axes>"
      ]
     },
     "metadata": {
      "needs_background": "light"
     },
     "output_type": "display_data"
    }
   ],
   "source": [
    "f,ax=plt.subplots(1,5,figsize=[10,5])\n",
    "sns.distplot(var['conscientiousness_norm'],ax=ax[0])\n",
    "sns.distplot(var['agreeableness_norm'],ax=ax[1])\n",
    "sns.distplot(var['extraversion_norm'],ax=ax[2])\n",
    "sns.distplot(var['nueroticism_norm'],ax=ax[3])\n",
    "sns.distplot(var['openess_to_experience_norm'],ax=ax[4])"
   ]
  },
  {
   "cell_type": "code",
   "execution_count": 88,
   "metadata": {},
   "outputs": [
    {
     "data": {
      "text/plain": [
       "Index(['conscientiousness', 'agreeableness', 'extraversion', 'nueroticism',\n",
       "       'openess_to_experience', 'conscientiousness_norm', 'agreeableness_norm',\n",
       "       'extraversion_norm', 'nueroticism_norm', 'openess_to_experience_norm'],\n",
       "      dtype='object')"
      ]
     },
     "execution_count": 88,
     "metadata": {},
     "output_type": "execute_result"
    }
   ],
   "source": [
    "var.columns"
   ]
  },
  {
   "cell_type": "markdown",
   "metadata": {},
   "source": [
    "1. For conscientiousness and extraversion, square the data\n",
    "2. For agreeableness and openess to experience, cube the data\n",
    "3. For nueroticism, keep as is\n",
    "4. Note, above results are obtained on normalized data and the transformation factors are obtained after doing trial and errors"
   ]
  },
  {
   "cell_type": "code",
   "execution_count": 89,
   "metadata": {},
   "outputs": [
    {
     "data": {
      "text/plain": [
       "<matplotlib.axes._subplots.AxesSubplot at 0x26154bd7088>"
      ]
     },
     "execution_count": 89,
     "metadata": {},
     "output_type": "execute_result"
    },
    {
     "data": {
      "image/png": "[encoded data removed]",
      "text/plain": [
       "<Figure size 720x360 with 5 Axes>"
      ]
     },
     "metadata": {
      "needs_background": "light"
     },
     "output_type": "display_data"
    }
   ],
   "source": [
    "f,ax=plt.subplots(1,5,figsize=[10,5])\n",
    "sns.distplot(var['conscientiousness_norm']**2,ax=ax[0])\n",
    "sns.distplot(var['agreeableness_norm']**3,ax=ax[1])\n",
    "sns.distplot(var['extraversion_norm']**2,ax=ax[2])\n",
    "sns.distplot(var['nueroticism_norm'],ax=ax[3])\n",
    "sns.distplot(var['openess_to_experience_norm']**3,ax=ax[4])"
   ]
  },
  {
   "cell_type": "markdown",
   "metadata": {},
   "source": [
    "1. Thus, we see that the skewness has reduced and the curves are approaching the normal\n",
    "2. Putting these values in actual dataframe"
   ]
  },
  {
   "cell_type": "code",
   "execution_count": 90,
   "metadata": {},
   "outputs": [],
   "source": [
    "df['conscientiousness']=var['conscientiousness_norm']**2\n",
    "df['extraversion']=var['extraversion_norm']**2\n",
    "df['agreeableness']=var['agreeableness_norm']**3\n",
    "df['openess_to_experience']=var['openess_to_experience_norm']**3\n",
    "df['nueroticism']=var['nueroticism_norm']"
   ]
  },
  {
   "cell_type": "code",
   "execution_count": 91,
   "metadata": {},
   "outputs": [
    {
     "data": {
      "text/html": [
       "<div>\n",
       "<style scoped>\n",
       "    .dataframe tbody tr th:only-of-type {\n",
       "        vertical-align: middle;\n",
       "    }\n",
       "\n",
       "    .dataframe tbody tr th {\n",
       "        vertical-align: top;\n",
       "    }\n",
       "\n",
       "    .dataframe thead th {\n",
       "        text-align: right;\n",
       "    }\n",
       "</style>\n",
       "<table border=\"1\" class=\"dataframe\">\n",
       "  <thead>\n",
       "    <tr style=\"text-align: right;\">\n",
       "      <th></th>\n",
       "      <th>Feature_Name</th>\n",
       "      <th>No. of missing values</th>\n",
       "      <th>Percent of missing values</th>\n",
       "    </tr>\n",
       "  </thead>\n",
       "  <tbody>\n",
       "    <tr>\n",
       "      <td>0</td>\n",
       "      <td>Salary</td>\n",
       "      <td>1500</td>\n",
       "      <td>27.28</td>\n",
       "    </tr>\n",
       "    <tr>\n",
       "      <td>1</td>\n",
       "      <td>10board</td>\n",
       "      <td>508</td>\n",
       "      <td>9.24</td>\n",
       "    </tr>\n",
       "    <tr>\n",
       "      <td>2</td>\n",
       "      <td>12board</td>\n",
       "      <td>522</td>\n",
       "      <td>9.49</td>\n",
       "    </tr>\n",
       "    <tr>\n",
       "      <td>3</td>\n",
       "      <td>Domain</td>\n",
       "      <td>332</td>\n",
       "      <td>6.04</td>\n",
       "    </tr>\n",
       "    <tr>\n",
       "      <td>4</td>\n",
       "      <td>Marks_Percent</td>\n",
       "      <td>158</td>\n",
       "      <td>2.87</td>\n",
       "    </tr>\n",
       "  </tbody>\n",
       "</table>\n",
       "</div>"
      ],
      "text/plain": [
       "    Feature_Name  No. of missing values  Percent of missing values\n",
       "0         Salary                   1500                      27.28\n",
       "1        10board                    508                       9.24\n",
       "2        12board                    522                       9.49\n",
       "3         Domain                    332                       6.04\n",
       "4  Marks_Percent                    158                       2.87"
      ]
     },
     "execution_count": 91,
     "metadata": {},
     "output_type": "execute_result"
    }
   ],
   "source": [
    "miss_val(df)"
   ]
  },
  {
   "cell_type": "markdown",
   "metadata": {},
   "source": [
    "### Skewness for all the numerical variables"
   ]
  },
  {
   "cell_type": "code",
   "execution_count": 92,
   "metadata": {},
   "outputs": [
    {
     "data": {
      "text/plain": [
       "10percentage             -0.623268\n",
       "12graduation             -0.937346\n",
       "12percentage             -0.044178\n",
       "collegeGPA                0.121280\n",
       "GraduationYear          -73.890915\n",
       "English                   0.177313\n",
       "Logical                  -0.206086\n",
       "Quant                    -0.025784\n",
       "Domain                   -0.383972\n",
       "conscientiousness         0.136730\n",
       "agreeableness             0.069551\n",
       "extraversion              0.173649\n",
       "nueroticism               0.168805\n",
       "openess_to_experience    -0.016784\n",
       "Marks_Percent             0.241939\n",
       "BirthYr                  -0.793421\n",
       "dtype: float64"
      ]
     },
     "execution_count": 92,
     "metadata": {},
     "output_type": "execute_result"
    }
   ],
   "source": [
    "df[num].skew()"
   ]
  },
  {
   "cell_type": "markdown",
   "metadata": {},
   "source": [
    "1. We see that the skewness for 10percentage and Domain is high.\n",
    "2. In case of Graduation Year, 12graduation and Birth yr, these are years and we can hence see if we can make them to category"
   ]
  },
  {
   "cell_type": "markdown",
   "metadata": {},
   "source": [
    "#### Graduation Year,BirthYr and 12graduation"
   ]
  },
  {
   "cell_type": "code",
   "execution_count": 93,
   "metadata": {},
   "outputs": [
    {
     "data": {
      "text/plain": [
       "array([2011, 2012, 2014, 2016, 2013, 2010, 2015, 2009, 2017,    0, 2007,\n",
       "       2008], dtype=int64)"
      ]
     },
     "execution_count": 93,
     "metadata": {},
     "output_type": "execute_result"
    }
   ],
   "source": [
    "df['GraduationYear'].unique()"
   ]
  },
  {
   "cell_type": "code",
   "execution_count": 94,
   "metadata": {},
   "outputs": [],
   "source": [
    "df.loc[df['GraduationYear']==0,'GraduationYear']=2014"
   ]
  },
  {
   "cell_type": "code",
   "execution_count": 95,
   "metadata": {},
   "outputs": [
    {
     "data": {
      "text/plain": [
       "-0.39381568472400197"
      ]
     },
     "execution_count": 95,
     "metadata": {},
     "output_type": "execute_result"
    }
   ],
   "source": [
    "df['GraduationYear'].skew()"
   ]
  },
  {
   "cell_type": "markdown",
   "metadata": {},
   "source": [
    "We shall not deal with the skewness for the years in the data and use them as is"
   ]
  },
  {
   "cell_type": "code",
   "execution_count": 96,
   "metadata": {},
   "outputs": [],
   "source": [
    "#df.to_excel('Dataset.xlsx')"
   ]
  },
  {
   "cell_type": "markdown",
   "metadata": {},
   "source": [
    "## Splitting of data"
   ]
  },
  {
   "cell_type": "markdown",
   "metadata": {},
   "source": [
    "1. Before missing value treatment,encoding and scaling we will divide the data in train,validation and test.\n",
    "2. The validation data set will be formed from train dataset only"
   ]
  },
  {
   "cell_type": "code",
   "execution_count": 97,
   "metadata": {},
   "outputs": [
    {
     "data": {
      "text/html": [
       "<div>\n",
       "<style scoped>\n",
       "    .dataframe tbody tr th:only-of-type {\n",
       "        vertical-align: middle;\n",
       "    }\n",
       "\n",
       "    .dataframe tbody tr th {\n",
       "        vertical-align: top;\n",
       "    }\n",
       "\n",
       "    .dataframe thead th {\n",
       "        text-align: right;\n",
       "    }\n",
       "</style>\n",
       "<table border=\"1\" class=\"dataframe\">\n",
       "  <thead>\n",
       "    <tr style=\"text-align: right;\">\n",
       "      <th></th>\n",
       "      <th>Unnamed: 0</th>\n",
       "      <th>Salary</th>\n",
       "      <th>Gender</th>\n",
       "      <th>10percentage</th>\n",
       "      <th>10board</th>\n",
       "      <th>12graduation</th>\n",
       "      <th>12percentage</th>\n",
       "      <th>12board</th>\n",
       "      <th>CollegeTier</th>\n",
       "      <th>Degree</th>\n",
       "      <th>...</th>\n",
       "      <th>conscientiousness</th>\n",
       "      <th>agreeableness</th>\n",
       "      <th>extraversion</th>\n",
       "      <th>nueroticism</th>\n",
       "      <th>openess_to_experience</th>\n",
       "      <th>Marks_Percent</th>\n",
       "      <th>BirthYr</th>\n",
       "      <th>Region</th>\n",
       "      <th>Specialzn</th>\n",
       "      <th>CollegeID_cat</th>\n",
       "    </tr>\n",
       "  </thead>\n",
       "  <tbody>\n",
       "    <tr>\n",
       "      <td>0</td>\n",
       "      <td>train</td>\n",
       "      <td>12.948010</td>\n",
       "      <td>f</td>\n",
       "      <td>84.3</td>\n",
       "      <td>state board</td>\n",
       "      <td>2007</td>\n",
       "      <td>95.8</td>\n",
       "      <td>state board</td>\n",
       "      <td>2</td>\n",
       "      <td>UnderGrad</td>\n",
       "      <td>...</td>\n",
       "      <td>0.694100</td>\n",
       "      <td>0.631476</td>\n",
       "      <td>0.516316</td>\n",
       "      <td>0.666817</td>\n",
       "      <td>0.427704</td>\n",
       "      <td>49.44</td>\n",
       "      <td>1990</td>\n",
       "      <td>South</td>\n",
       "      <td>Computer</td>\n",
       "      <td>high</td>\n",
       "    </tr>\n",
       "    <tr>\n",
       "      <td>1</td>\n",
       "      <td>train</td>\n",
       "      <td>13.122363</td>\n",
       "      <td>m</td>\n",
       "      <td>85.4</td>\n",
       "      <td>central board</td>\n",
       "      <td>2007</td>\n",
       "      <td>85.0</td>\n",
       "      <td>central board</td>\n",
       "      <td>2</td>\n",
       "      <td>UnderGrad</td>\n",
       "      <td>...</td>\n",
       "      <td>0.307208</td>\n",
       "      <td>0.514848</td>\n",
       "      <td>0.669813</td>\n",
       "      <td>0.422884</td>\n",
       "      <td>0.718774</td>\n",
       "      <td>51.78</td>\n",
       "      <td>1989</td>\n",
       "      <td>Central</td>\n",
       "      <td>Electronics</td>\n",
       "      <td>high</td>\n",
       "    </tr>\n",
       "  </tbody>\n",
       "</table>\n",
       "<p>2 rows × 27 columns</p>\n",
       "</div>"
      ],
      "text/plain": [
       "  Unnamed: 0     Salary Gender  10percentage        10board  12graduation  \\\n",
       "0      train  12.948010      f          84.3    state board          2007   \n",
       "1      train  13.122363      m          85.4  central board          2007   \n",
       "\n",
       "   12percentage        12board  CollegeTier     Degree  ...  \\\n",
       "0          95.8    state board            2  UnderGrad  ...   \n",
       "1          85.0  central board            2  UnderGrad  ...   \n",
       "\n",
       "   conscientiousness  agreeableness  extraversion  nueroticism  \\\n",
       "0           0.694100       0.631476      0.516316     0.666817   \n",
       "1           0.307208       0.514848      0.669813     0.422884   \n",
       "\n",
       "   openess_to_experience  Marks_Percent  BirthYr   Region    Specialzn  \\\n",
       "0               0.427704          49.44     1990    South     Computer   \n",
       "1               0.718774          51.78     1989  Central  Electronics   \n",
       "\n",
       "   CollegeID_cat  \n",
       "0           high  \n",
       "1           high  \n",
       "\n",
       "[2 rows x 27 columns]"
      ]
     },
     "execution_count": 97,
     "metadata": {},
     "output_type": "execute_result"
    }
   ],
   "source": [
    "df.head(2)"
   ]
  },
  {
   "cell_type": "code",
   "execution_count": 98,
   "metadata": {},
   "outputs": [],
   "source": [
    "train=df[df['Unnamed: 0']=='train']"
   ]
  },
  {
   "cell_type": "code",
   "execution_count": 99,
   "metadata": {},
   "outputs": [],
   "source": [
    "test=df[df['Unnamed: 0']=='test']"
   ]
  },
  {
   "cell_type": "markdown",
   "metadata": {},
   "source": [
    "Now splitting the train data into train and validate"
   ]
  },
  {
   "cell_type": "code",
   "execution_count": 100,
   "metadata": {},
   "outputs": [],
   "source": [
    "X=train.drop('Salary',axis=1)\n",
    "y=train['Salary']"
   ]
  },
  {
   "cell_type": "code",
   "execution_count": 101,
   "metadata": {},
   "outputs": [],
   "source": [
    "X_test=test.drop('Salary',axis=1)"
   ]
  },
  {
   "cell_type": "code",
   "execution_count": 102,
   "metadata": {},
   "outputs": [],
   "source": [
    "from sklearn.model_selection import train_test_split"
   ]
  },
  {
   "cell_type": "code",
   "execution_count": 103,
   "metadata": {},
   "outputs": [],
   "source": [
    " X_train, X_val, y_train, y_val = train_test_split(X, y, test_size=0.2, random_state=3)"
   ]
  },
  {
   "cell_type": "code",
   "execution_count": 104,
   "metadata": {},
   "outputs": [
    {
     "data": {
      "text/plain": [
       "((3198, 26), (800, 26), (1500, 26), (3198,), (800,))"
      ]
     },
     "execution_count": 104,
     "metadata": {},
     "output_type": "execute_result"
    }
   ],
   "source": [
    "X_train.shape,X_val.shape,X_test.shape,y_train.shape,y_val.shape"
   ]
  },
  {
   "cell_type": "code",
   "execution_count": 105,
   "metadata": {},
   "outputs": [],
   "source": [
    "X_train.reset_index(drop=True,inplace=True)"
   ]
  },
  {
   "cell_type": "code",
   "execution_count": 106,
   "metadata": {},
   "outputs": [],
   "source": [
    "X_val.reset_index(drop=True,inplace=True)"
   ]
  },
  {
   "cell_type": "code",
   "execution_count": 107,
   "metadata": {},
   "outputs": [],
   "source": [
    "X_test.reset_index(drop=True,inplace=True)"
   ]
  },
  {
   "cell_type": "code",
   "execution_count": 108,
   "metadata": {},
   "outputs": [],
   "source": [
    "y_train.reset_index(drop=True,inplace=True)"
   ]
  },
  {
   "cell_type": "code",
   "execution_count": 109,
   "metadata": {},
   "outputs": [],
   "source": [
    "y_val.reset_index(drop=True,inplace=True)"
   ]
  },
  {
   "cell_type": "code",
   "execution_count": 110,
   "metadata": {},
   "outputs": [],
   "source": [
    "X_train.drop('Unnamed: 0',axis=1,inplace=True)"
   ]
  },
  {
   "cell_type": "code",
   "execution_count": 111,
   "metadata": {},
   "outputs": [],
   "source": [
    "X_val.drop('Unnamed: 0',axis=1,inplace=True)"
   ]
  },
  {
   "cell_type": "code",
   "execution_count": 112,
   "metadata": {},
   "outputs": [],
   "source": [
    "X_test.drop('Unnamed: 0',axis=1,inplace=True)"
   ]
  },
  {
   "cell_type": "markdown",
   "metadata": {},
   "source": [
    "### Missing Value Treatment"
   ]
  },
  {
   "cell_type": "code",
   "execution_count": 113,
   "metadata": {},
   "outputs": [
    {
     "name": "stdout",
     "output_type": "stream",
     "text": [
      "central board    0.764706\n",
      "state board      0.235294\n",
      "Name: 10board, dtype: float64\n",
      "state board      0.559064\n",
      "central board    0.440936\n",
      "Name: 10board, dtype: float64\n"
     ]
    }
   ],
   "source": [
    "print(X_train.loc[X_train['CollegeTier']==1,'10board'].value_counts(1))\n",
    "print(X_train.loc[X_train['CollegeTier']==2,'10board'].value_counts(1))"
   ]
  },
  {
   "cell_type": "code",
   "execution_count": 114,
   "metadata": {},
   "outputs": [
    {
     "name": "stdout",
     "output_type": "stream",
     "text": [
      "central board    0.746606\n",
      "state board      0.253394\n",
      "Name: 12board, dtype: float64\n",
      "state board      0.591282\n",
      "central board    0.408718\n",
      "Name: 12board, dtype: float64\n"
     ]
    }
   ],
   "source": [
    "print(X_train.loc[X_train['CollegeTier']==1,'12board'].value_counts(1))\n",
    "print(X_train.loc[X_train['CollegeTier']==2,'12board'].value_counts(1))"
   ]
  },
  {
   "cell_type": "markdown",
   "metadata": {},
   "source": [
    "1. We see that the students in college tier 2 mostly prefer state board while the ones in tier 1 prefer central board. This is the case for both 10th and 12th boards.\n",
    "2. Thus, we can go ahead and fill the nulls accordingly"
   ]
  },
  {
   "cell_type": "code",
   "execution_count": 115,
   "metadata": {},
   "outputs": [],
   "source": [
    "# For train data\n",
    "for i in X_train['CollegeTier'].values:\n",
    "    if i==1:\n",
    "        X_train['10board']=X_train['10board'].fillna('central board')\n",
    "        X_train['12board']=X_train['12board'].fillna('central board')\n",
    "    else:\n",
    "        X_train['10board']=X_train['10board'].fillna('state board')\n",
    "        X_train['12board']=X_train['12board'].fillna('state board')"
   ]
  },
  {
   "cell_type": "code",
   "execution_count": 116,
   "metadata": {},
   "outputs": [],
   "source": [
    "# For validation data\n",
    "for i in X_val['CollegeTier'].values:\n",
    "    if i==1:\n",
    "        X_val['10board']=X_val['10board'].fillna('central board')\n",
    "        X_val['12board']=X_val['12board'].fillna('central board')\n",
    "    else:\n",
    "        X_val['10board']=X_val['10board'].fillna('state board')\n",
    "        X_val['12board']=X_val['12board'].fillna('state board')"
   ]
  },
  {
   "cell_type": "code",
   "execution_count": 117,
   "metadata": {},
   "outputs": [],
   "source": [
    "# For test data\n",
    "for i in X_test['CollegeTier'].values:\n",
    "    if i==1:\n",
    "        X_test['10board']=X_test['10board'].fillna('central board')\n",
    "        X_test['12board']=X_test['12board'].fillna('central board')\n",
    "    else:\n",
    "        X_test['10board']=X_test['10board'].fillna('state board')\n",
    "        X_test['12board']=X_test['12board'].fillna('state board')"
   ]
  },
  {
   "cell_type": "code",
   "execution_count": 118,
   "metadata": {},
   "outputs": [
    {
     "data": {
      "text/plain": [
       "(    Feature_Name  No. of missing values  Percent of missing values\n",
       " 0         Domain                    187                       5.85\n",
       " 1  Marks_Percent                     98                       3.06,\n",
       "     Feature_Name  No. of missing values  Percent of missing values\n",
       " 0         Domain                     59                       7.38\n",
       " 1  Marks_Percent                     32                       4.00,\n",
       "     Feature_Name  No. of missing values  Percent of missing values\n",
       " 0         Domain                     86                       5.73\n",
       " 1  Marks_Percent                     28                       1.87)"
      ]
     },
     "execution_count": 118,
     "metadata": {},
     "output_type": "execute_result"
    }
   ],
   "source": [
    "miss_val(X_train),miss_val(X_val),miss_val(X_test)"
   ]
  },
  {
   "cell_type": "code",
   "execution_count": 119,
   "metadata": {},
   "outputs": [
    {
     "name": "stdout",
     "output_type": "stream",
     "text": [
      "0.635978756456794\n",
      "46.33\n"
     ]
    }
   ],
   "source": [
    "m_d=X_train['Domain'].median()\n",
    "print(m_d)\n",
    "m_m=X_train['Marks_Percent'].median()\n",
    "print(m_m)"
   ]
  },
  {
   "cell_type": "code",
   "execution_count": 120,
   "metadata": {},
   "outputs": [],
   "source": [
    "#For Train data\n",
    "X_train['Marks_Percent'].fillna(m_m,inplace=True)\n",
    "X_train['Domain'].fillna(m_d,inplace=True)\n"
   ]
  },
  {
   "cell_type": "code",
   "execution_count": 121,
   "metadata": {},
   "outputs": [],
   "source": [
    "#For Validation data\n",
    "X_val['Marks_Percent'].fillna(m_m,inplace=True)\n",
    "X_val['Domain'].fillna(m_d,inplace=True)"
   ]
  },
  {
   "cell_type": "code",
   "execution_count": 122,
   "metadata": {},
   "outputs": [],
   "source": [
    "#For Test data\n",
    "X_test['Marks_Percent'].fillna(m_m,inplace=True)\n",
    "X_test['Domain'].fillna(m_d,inplace=True)"
   ]
  },
  {
   "cell_type": "code",
   "execution_count": 123,
   "metadata": {},
   "outputs": [
    {
     "data": {
      "text/plain": [
       "Index(['Gender', '10percentage', '10board', '12graduation', '12percentage',\n",
       "       '12board', 'CollegeTier', 'Degree', 'collegeGPA', 'CollegeCityTier',\n",
       "       'GraduationYear', 'English', 'Logical', 'Quant', 'Domain',\n",
       "       'conscientiousness', 'agreeableness', 'extraversion', 'nueroticism',\n",
       "       'openess_to_experience', 'Marks_Percent', 'BirthYr', 'Region',\n",
       "       'Specialzn', 'CollegeID_cat'],\n",
       "      dtype='object')"
      ]
     },
     "execution_count": 123,
     "metadata": {},
     "output_type": "execute_result"
    }
   ],
   "source": [
    "X_train.columns"
   ]
  },
  {
   "cell_type": "code",
   "execution_count": 124,
   "metadata": {},
   "outputs": [],
   "source": [
    "df_X=pd.concat([X_train,X_val,X_test],axis=0).reset_index(drop=True)"
   ]
  },
  {
   "cell_type": "code",
   "execution_count": 125,
   "metadata": {},
   "outputs": [],
   "source": [
    "#df_X.to_excel('df_X.xlsx')"
   ]
  },
  {
   "cell_type": "markdown",
   "metadata": {},
   "source": [
    "## Encoding the categorical variables"
   ]
  },
  {
   "cell_type": "code",
   "execution_count": 126,
   "metadata": {},
   "outputs": [],
   "source": [
    "#Train data\n",
    "X_train_num=X_train[num]\n",
    "X_train_cat=X_train[cat]"
   ]
  },
  {
   "cell_type": "code",
   "execution_count": 127,
   "metadata": {},
   "outputs": [
    {
     "data": {
      "text/plain": [
       "(3198, 9)"
      ]
     },
     "execution_count": 127,
     "metadata": {},
     "output_type": "execute_result"
    }
   ],
   "source": [
    "X_train_cat.shape"
   ]
  },
  {
   "cell_type": "code",
   "execution_count": 128,
   "metadata": {},
   "outputs": [
    {
     "name": "stdout",
     "output_type": "stream",
     "text": [
      "Gender\n",
      "['m' 'f']\n",
      "10board\n",
      "['state board' 'central board']\n",
      "12board\n",
      "['state board' 'central board']\n",
      "CollegeTier\n",
      "[2 1]\n",
      "Degree\n",
      "['UnderGrad' 'PostGrad']\n",
      "CollegeCityTier\n",
      "[0 1]\n",
      "Region\n",
      "['West' 'Other' 'North' 'South' 'Central' 'East']\n",
      "Specialzn\n",
      "['Information' 'Computer' 'Mechanical' 'Electronics' 'Other' 'Electrical'\n",
      " 'Civil']\n",
      "CollegeID_cat\n",
      "['high' 'low']\n"
     ]
    }
   ],
   "source": [
    "for col in cat:\n",
    "    print(col)\n",
    "    print(X_train_cat[col].unique())"
   ]
  },
  {
   "cell_type": "markdown",
   "metadata": {},
   "source": [
    "1. For the features having 2 unique values, we will do nominal label encoding using map/replace\n",
    "2. For Features having unique values>2, we will use one hot encoding"
   ]
  },
  {
   "cell_type": "code",
   "execution_count": 129,
   "metadata": {},
   "outputs": [],
   "source": [
    "X_train_cat['Gender'].replace({'m':0,'f':1},inplace=True)\n",
    "X_train_cat['10board'].replace({'state board':0,'central board':1},inplace=True)\n",
    "X_train_cat['12board'].replace({'state board':0,'central board':1},inplace=True)\n",
    "X_train_cat['CollegeTier'].replace({2:0},inplace=True)\n",
    "X_train_cat['Degree'].replace({'UnderGrad':0,'PostGrad':1},inplace=True)\n",
    "X_train_cat['CollegeID_cat'].replace({'high':0,'low':1},inplace=True)"
   ]
  },
  {
   "cell_type": "code",
   "execution_count": 130,
   "metadata": {},
   "outputs": [],
   "source": [
    "from sklearn.preprocessing import OneHotEncoder\n",
    "ohe = OneHotEncoder()"
   ]
  },
  {
   "cell_type": "code",
   "execution_count": 131,
   "metadata": {},
   "outputs": [
    {
     "data": {
      "text/html": [
       "<div>\n",
       "<style scoped>\n",
       "    .dataframe tbody tr th:only-of-type {\n",
       "        vertical-align: middle;\n",
       "    }\n",
       "\n",
       "    .dataframe tbody tr th {\n",
       "        vertical-align: top;\n",
       "    }\n",
       "\n",
       "    .dataframe thead th {\n",
       "        text-align: right;\n",
       "    }\n",
       "</style>\n",
       "<table border=\"1\" class=\"dataframe\">\n",
       "  <thead>\n",
       "    <tr style=\"text-align: right;\">\n",
       "      <th></th>\n",
       "      <th>Gender</th>\n",
       "      <th>10board</th>\n",
       "      <th>12board</th>\n",
       "      <th>CollegeTier</th>\n",
       "      <th>Degree</th>\n",
       "      <th>CollegeCityTier</th>\n",
       "      <th>Region</th>\n",
       "      <th>Specialzn</th>\n",
       "      <th>CollegeID_cat</th>\n",
       "    </tr>\n",
       "  </thead>\n",
       "  <tbody>\n",
       "    <tr>\n",
       "      <td>0</td>\n",
       "      <td>0</td>\n",
       "      <td>0</td>\n",
       "      <td>0</td>\n",
       "      <td>0</td>\n",
       "      <td>0</td>\n",
       "      <td>0</td>\n",
       "      <td>West</td>\n",
       "      <td>Information</td>\n",
       "      <td>0</td>\n",
       "    </tr>\n",
       "    <tr>\n",
       "      <td>1</td>\n",
       "      <td>1</td>\n",
       "      <td>0</td>\n",
       "      <td>0</td>\n",
       "      <td>0</td>\n",
       "      <td>1</td>\n",
       "      <td>0</td>\n",
       "      <td>West</td>\n",
       "      <td>Computer</td>\n",
       "      <td>0</td>\n",
       "    </tr>\n",
       "  </tbody>\n",
       "</table>\n",
       "</div>"
      ],
      "text/plain": [
       "   Gender  10board  12board  CollegeTier  Degree  CollegeCityTier Region  \\\n",
       "0       0        0        0            0       0                0   West   \n",
       "1       1        0        0            0       1                0   West   \n",
       "\n",
       "     Specialzn  CollegeID_cat  \n",
       "0  Information              0  \n",
       "1     Computer              0  "
      ]
     },
     "execution_count": 131,
     "metadata": {},
     "output_type": "execute_result"
    }
   ],
   "source": [
    "X_train_cat.head(2)"
   ]
  },
  {
   "cell_type": "code",
   "execution_count": 132,
   "metadata": {},
   "outputs": [
    {
     "data": {
      "text/plain": [
       "(3198, 9)"
      ]
     },
     "execution_count": 132,
     "metadata": {},
     "output_type": "execute_result"
    }
   ],
   "source": [
    "X_train_cat.shape"
   ]
  },
  {
   "cell_type": "code",
   "execution_count": 133,
   "metadata": {},
   "outputs": [],
   "source": [
    "X_c1=ohe.fit_transform(X_train_cat[['Region','Specialzn']]).toarray()"
   ]
  },
  {
   "cell_type": "code",
   "execution_count": 134,
   "metadata": {},
   "outputs": [],
   "source": [
    "X_c1=pd.DataFrame(X_c1,columns=ohe.get_feature_names())"
   ]
  },
  {
   "cell_type": "code",
   "execution_count": 135,
   "metadata": {},
   "outputs": [
    {
     "data": {
      "text/plain": [
       "(3198, 13)"
      ]
     },
     "execution_count": 135,
     "metadata": {},
     "output_type": "execute_result"
    }
   ],
   "source": [
    "X_c1.shape"
   ]
  },
  {
   "cell_type": "code",
   "execution_count": 136,
   "metadata": {},
   "outputs": [],
   "source": [
    "X_train_cat=pd.concat([X_train_cat,X_c1],axis=1)"
   ]
  },
  {
   "cell_type": "code",
   "execution_count": 137,
   "metadata": {},
   "outputs": [],
   "source": [
    "X_train_cat.drop(['Region','Specialzn'],axis=1,inplace=True)"
   ]
  },
  {
   "cell_type": "code",
   "execution_count": 138,
   "metadata": {},
   "outputs": [
    {
     "data": {
      "text/plain": [
       "(3198, 20)"
      ]
     },
     "execution_count": 138,
     "metadata": {},
     "output_type": "execute_result"
    }
   ],
   "source": [
    "X_train_cat.shape"
   ]
  },
  {
   "cell_type": "code",
   "execution_count": 139,
   "metadata": {},
   "outputs": [],
   "source": [
    "# Validation data"
   ]
  },
  {
   "cell_type": "code",
   "execution_count": 140,
   "metadata": {},
   "outputs": [],
   "source": [
    "#Train data\n",
    "X_val_num=X_val[num]\n",
    "X_val_cat=X_val[cat]"
   ]
  },
  {
   "cell_type": "code",
   "execution_count": 141,
   "metadata": {},
   "outputs": [
    {
     "data": {
      "text/plain": [
       "(800, 9)"
      ]
     },
     "execution_count": 141,
     "metadata": {},
     "output_type": "execute_result"
    }
   ],
   "source": [
    "X_val_cat.shape"
   ]
  },
  {
   "cell_type": "code",
   "execution_count": 142,
   "metadata": {},
   "outputs": [],
   "source": [
    "X_val_cat['Gender'].replace({'m':0,'f':1},inplace=True)\n",
    "X_val_cat['10board'].replace({'state board':0,'central board':1},inplace=True)\n",
    "X_val_cat['12board'].replace({'state board':0,'central board':1},inplace=True)\n",
    "X_val_cat['CollegeTier'].replace({2:0},inplace=True)\n",
    "X_val_cat['Degree'].replace({'UnderGrad':0,'PostGrad':1},inplace=True)\n",
    "X_val_cat['CollegeID_cat'].replace({'high':0,'low':1},inplace=True)"
   ]
  },
  {
   "cell_type": "code",
   "execution_count": 143,
   "metadata": {},
   "outputs": [
    {
     "data": {
      "text/plain": [
       "(800, 9)"
      ]
     },
     "execution_count": 143,
     "metadata": {},
     "output_type": "execute_result"
    }
   ],
   "source": [
    "X_val_cat.shape"
   ]
  },
  {
   "cell_type": "code",
   "execution_count": 144,
   "metadata": {},
   "outputs": [],
   "source": [
    "X_c2=ohe.transform(X_val_cat[['Region','Specialzn']]).toarray()"
   ]
  },
  {
   "cell_type": "code",
   "execution_count": 145,
   "metadata": {},
   "outputs": [],
   "source": [
    "X_c2=pd.DataFrame(X_c2,columns=ohe.get_feature_names())"
   ]
  },
  {
   "cell_type": "code",
   "execution_count": 146,
   "metadata": {},
   "outputs": [],
   "source": [
    "X_val_cat=pd.concat([X_val_cat,X_c2],axis=1)"
   ]
  },
  {
   "cell_type": "code",
   "execution_count": 147,
   "metadata": {},
   "outputs": [],
   "source": [
    "X_val_cat.drop(['Region','Specialzn'],axis=1,inplace=True)"
   ]
  },
  {
   "cell_type": "code",
   "execution_count": 148,
   "metadata": {},
   "outputs": [
    {
     "data": {
      "text/plain": [
       "(800, 20)"
      ]
     },
     "execution_count": 148,
     "metadata": {},
     "output_type": "execute_result"
    }
   ],
   "source": [
    "X_val_cat.shape"
   ]
  },
  {
   "cell_type": "code",
   "execution_count": null,
   "metadata": {},
   "outputs": [],
   "source": []
  },
  {
   "cell_type": "code",
   "execution_count": 149,
   "metadata": {},
   "outputs": [],
   "source": [
    "# For test data"
   ]
  },
  {
   "cell_type": "code",
   "execution_count": 150,
   "metadata": {},
   "outputs": [],
   "source": [
    "#Train data\n",
    "X_test_num=X_test[num]\n",
    "X_test_cat=X_test[cat]"
   ]
  },
  {
   "cell_type": "code",
   "execution_count": 151,
   "metadata": {},
   "outputs": [
    {
     "data": {
      "text/plain": [
       "(1500, 9)"
      ]
     },
     "execution_count": 151,
     "metadata": {},
     "output_type": "execute_result"
    }
   ],
   "source": [
    "X_test_cat.shape"
   ]
  },
  {
   "cell_type": "code",
   "execution_count": 152,
   "metadata": {},
   "outputs": [],
   "source": [
    "X_test_cat['Gender'].replace({'m':0,'f':1},inplace=True)\n",
    "X_test_cat['10board'].replace({'state board':0,'central board':1},inplace=True)\n",
    "X_test_cat['12board'].replace({'state board':0,'central board':1},inplace=True)\n",
    "X_test_cat['CollegeTier'].replace({2:0},inplace=True)\n",
    "X_test_cat['Degree'].replace({'UnderGrad':0,'PostGrad':1},inplace=True)\n",
    "X_test_cat['CollegeID_cat'].replace({'high':0,'low':1},inplace=True)"
   ]
  },
  {
   "cell_type": "code",
   "execution_count": 153,
   "metadata": {},
   "outputs": [
    {
     "data": {
      "text/plain": [
       "(1500, 9)"
      ]
     },
     "execution_count": 153,
     "metadata": {},
     "output_type": "execute_result"
    }
   ],
   "source": [
    "X_test_cat.shape"
   ]
  },
  {
   "cell_type": "code",
   "execution_count": 154,
   "metadata": {},
   "outputs": [],
   "source": [
    "X_c3=ohe.transform(X_test_cat[['Region','Specialzn']]).toarray()"
   ]
  },
  {
   "cell_type": "code",
   "execution_count": 155,
   "metadata": {},
   "outputs": [],
   "source": [
    "X_c3=pd.DataFrame(X_c3,columns=ohe.get_feature_names())"
   ]
  },
  {
   "cell_type": "code",
   "execution_count": 156,
   "metadata": {},
   "outputs": [],
   "source": [
    "X_test_cat=pd.concat([X_test_cat,X_c3],axis=1)"
   ]
  },
  {
   "cell_type": "code",
   "execution_count": 157,
   "metadata": {},
   "outputs": [
    {
     "data": {
      "text/plain": [
       "(1500, 20)"
      ]
     },
     "execution_count": 157,
     "metadata": {},
     "output_type": "execute_result"
    }
   ],
   "source": [
    "X_test_cat.drop(['Region','Specialzn'],axis=1,inplace=True)\n",
    "X_test_cat.shape"
   ]
  },
  {
   "cell_type": "markdown",
   "metadata": {},
   "source": [
    "## Correlation, Significance testing"
   ]
  },
  {
   "cell_type": "code",
   "execution_count": 158,
   "metadata": {},
   "outputs": [
    {
     "data": {
      "image/png": "[encoded data removed]",
      "text/plain": [
       "<Figure size 864x576 with 2 Axes>"
      ]
     },
     "metadata": {
      "needs_background": "light"
     },
     "output_type": "display_data"
    }
   ],
   "source": [
    "plt.figure(figsize=[12,8])\n",
    "ax=sns.heatmap((pd.concat([X_train_num,y_train],axis=1)).corr(),cmap=\"YlGnBu\",annot=True)\n",
    "bottom,top=ax.get_ylim()\n",
    "ax.set_ylim(bottom+0.5,top-0.5)\n",
    "plt.show()\n",
    "\n"
   ]
  },
  {
   "cell_type": "markdown",
   "metadata": {},
   "source": [
    "1. Salary has positive correlation with 10percentage,12percentage,collegeGPA,GraduationYear,English,Logical,Quant,Domain,Marks_Percent\n",
    "2. Salary has negative correlation with BirthYr and 12graduation"
   ]
  },
  {
   "cell_type": "markdown",
   "metadata": {},
   "source": [
    "### Numerical variables"
   ]
  },
  {
   "cell_type": "code",
   "execution_count": 159,
   "metadata": {},
   "outputs": [],
   "source": [
    "import scipy.stats as st"
   ]
  },
  {
   "cell_type": "code",
   "execution_count": 160,
   "metadata": {},
   "outputs": [
    {
     "data": {
      "text/plain": [
       "(165.40651206571988, 0.0)"
      ]
     },
     "execution_count": 160,
     "metadata": {},
     "output_type": "execute_result"
    }
   ],
   "source": [
    "st.jarque_bera(y_train)"
   ]
  },
  {
   "cell_type": "markdown",
   "metadata": {},
   "source": [
    "As the target is non normal, we have to go with non parametric tests of significance"
   ]
  },
  {
   "cell_type": "code",
   "execution_count": 161,
   "metadata": {},
   "outputs": [
    {
     "name": "stdout",
     "output_type": "stream",
     "text": [
      "10percentage : 0.0\n",
      "12graduation : 0.0\n",
      "12percentage : 0.0\n",
      "collegeGPA : 0.0\n",
      "GraduationYear : 0.0\n",
      "English : 0.0\n",
      "Logical : 0.0\n",
      "Quant : 0.0\n",
      "Domain : 0.0\n",
      "conscientiousness : 0.0\n",
      "agreeableness : 0.0\n",
      "extraversion : 0.0\n",
      "nueroticism : 0.0\n",
      "openess_to_experience : 0.0\n",
      "Marks_Percent : 0.0\n",
      "BirthYr : 0.0\n"
     ]
    }
   ],
   "source": [
    "for col in X_train_num.columns:\n",
    "    pvalue=st.mannwhitneyu(X_train_num[col],y_train)[1]\n",
    "    if pvalue<0.05:\n",
    "        print(col,':',pvalue)"
   ]
  },
  {
   "cell_type": "markdown",
   "metadata": {},
   "source": [
    "All numerical variables are significant."
   ]
  },
  {
   "cell_type": "code",
   "execution_count": 162,
   "metadata": {},
   "outputs": [],
   "source": [
    "X_temp=pd.concat([X_train_cat,y_train],axis=1)"
   ]
  },
  {
   "cell_type": "code",
   "execution_count": 163,
   "metadata": {},
   "outputs": [
    {
     "name": "stdout",
     "output_type": "stream",
     "text": [
      "10board : 1.9684625929483113e-07\n",
      "12board : 2.534060116790015e-07\n",
      "CollegeTier : 1.0057690007200255e-26\n",
      "Degree : 0.00117126133506491\n",
      "CollegeCityTier : 0.03566101555496851\n",
      "CollegeID_cat : 1.162438904030767e-12\n",
      "x0_North : 0.005264668414364491\n",
      "x0_Other : 1.0138017235025016e-05\n",
      "x1_Civil : 0.017469790767880834\n"
     ]
    }
   ],
   "source": [
    "for col in X_train_cat.columns:\n",
    "    #print(col)\n",
    "    s1=X_temp.loc[X_temp[col]==X_temp[col].unique()[0],'Salary']\n",
    "    s2=X_temp.loc[X_temp[col]==X_temp[col].unique()[1],'Salary']\n",
    "    pval1=st.jarque_bera(s1)[1]\n",
    "    pval2=st.jarque_bera(s2)[1]\n",
    "    if (pval1>0.05 and pval2>0.05):\n",
    "        pvalue=st.ttest_ind(s1,s2)[1]\n",
    "        if pvalue<0.05:\n",
    "            print(col,':',pvalue)\n",
    "    else:\n",
    "        pvalue=st.mannwhitneyu(s1,s2)[1]\n",
    "        if pvalue<0.05:\n",
    "            print(col,':',pvalue) "
   ]
  },
  {
   "cell_type": "markdown",
   "metadata": {},
   "source": [
    "We see that categorical features like 10board,12board,CollegeTier,Degree,CollegeCityTier,CollegeID_cat,North and Other regions and Civil Specialization are significant"
   ]
  },
  {
   "cell_type": "code",
   "execution_count": null,
   "metadata": {},
   "outputs": [],
   "source": []
  },
  {
   "cell_type": "markdown",
   "metadata": {},
   "source": [
    "## Multicollinearity check for numerical variables in train data"
   ]
  },
  {
   "cell_type": "code",
   "execution_count": 164,
   "metadata": {},
   "outputs": [],
   "source": [
    "import statsmodels.api as sm\n",
    "Xc=sm.add_constant(X_train_num)"
   ]
  },
  {
   "cell_type": "code",
   "execution_count": 165,
   "metadata": {},
   "outputs": [
    {
     "data": {
      "text/html": [
       "<div>\n",
       "<style scoped>\n",
       "    .dataframe tbody tr th:only-of-type {\n",
       "        vertical-align: middle;\n",
       "    }\n",
       "\n",
       "    .dataframe tbody tr th {\n",
       "        vertical-align: top;\n",
       "    }\n",
       "\n",
       "    .dataframe thead th {\n",
       "        text-align: right;\n",
       "    }\n",
       "</style>\n",
       "<table border=\"1\" class=\"dataframe\">\n",
       "  <thead>\n",
       "    <tr style=\"text-align: right;\">\n",
       "      <th></th>\n",
       "      <th>VIF</th>\n",
       "    </tr>\n",
       "  </thead>\n",
       "  <tbody>\n",
       "    <tr>\n",
       "      <td>10percentage</td>\n",
       "      <td>1.967875</td>\n",
       "    </tr>\n",
       "    <tr>\n",
       "      <td>12graduation</td>\n",
       "      <td>5.698573</td>\n",
       "    </tr>\n",
       "    <tr>\n",
       "      <td>12percentage</td>\n",
       "      <td>1.978810</td>\n",
       "    </tr>\n",
       "    <tr>\n",
       "      <td>collegeGPA</td>\n",
       "      <td>1.289066</td>\n",
       "    </tr>\n",
       "    <tr>\n",
       "      <td>GraduationYear</td>\n",
       "      <td>3.292010</td>\n",
       "    </tr>\n",
       "    <tr>\n",
       "      <td>English</td>\n",
       "      <td>1.423933</td>\n",
       "    </tr>\n",
       "    <tr>\n",
       "      <td>Logical</td>\n",
       "      <td>1.597493</td>\n",
       "    </tr>\n",
       "    <tr>\n",
       "      <td>Quant</td>\n",
       "      <td>1.576718</td>\n",
       "    </tr>\n",
       "    <tr>\n",
       "      <td>Domain</td>\n",
       "      <td>2.812192</td>\n",
       "    </tr>\n",
       "    <tr>\n",
       "      <td>conscientiousness</td>\n",
       "      <td>1.509868</td>\n",
       "    </tr>\n",
       "    <tr>\n",
       "      <td>agreeableness</td>\n",
       "      <td>1.714004</td>\n",
       "    </tr>\n",
       "    <tr>\n",
       "      <td>extraversion</td>\n",
       "      <td>1.358966</td>\n",
       "    </tr>\n",
       "    <tr>\n",
       "      <td>nueroticism</td>\n",
       "      <td>1.206022</td>\n",
       "    </tr>\n",
       "    <tr>\n",
       "      <td>openess_to_experience</td>\n",
       "      <td>1.450677</td>\n",
       "    </tr>\n",
       "    <tr>\n",
       "      <td>Marks_Percent</td>\n",
       "      <td>2.928276</td>\n",
       "    </tr>\n",
       "    <tr>\n",
       "      <td>BirthYr</td>\n",
       "      <td>4.402687</td>\n",
       "    </tr>\n",
       "  </tbody>\n",
       "</table>\n",
       "</div>"
      ],
      "text/plain": [
       "                            VIF\n",
       "10percentage           1.967875\n",
       "12graduation           5.698573\n",
       "12percentage           1.978810\n",
       "collegeGPA             1.289066\n",
       "GraduationYear         3.292010\n",
       "English                1.423933\n",
       "Logical                1.597493\n",
       "Quant                  1.576718\n",
       "Domain                 2.812192\n",
       "conscientiousness      1.509868\n",
       "agreeableness          1.714004\n",
       "extraversion           1.358966\n",
       "nueroticism            1.206022\n",
       "openess_to_experience  1.450677\n",
       "Marks_Percent          2.928276\n",
       "BirthYr                4.402687"
      ]
     },
     "execution_count": 165,
     "metadata": {},
     "output_type": "execute_result"
    }
   ],
   "source": [
    "from statsmodels.stats.outliers_influence import variance_inflation_factor\n",
    "vif = [variance_inflation_factor(Xc.values,i) for i in range(Xc.shape[1])]\n",
    "pd.DataFrame({'VIF':vif[1:]},index=X_train_num.columns)"
   ]
  },
  {
   "cell_type": "markdown",
   "metadata": {},
   "source": [
    "1. No high Multicollinearity in the variables. Thus, we can go ahead and build the model."
   ]
  },
  {
   "cell_type": "markdown",
   "metadata": {},
   "source": [
    "## Standard Scaling for the numerical variables"
   ]
  },
  {
   "cell_type": "code",
   "execution_count": 166,
   "metadata": {},
   "outputs": [],
   "source": [
    "from sklearn.preprocessing import StandardScaler"
   ]
  },
  {
   "cell_type": "code",
   "execution_count": 167,
   "metadata": {},
   "outputs": [],
   "source": [
    "ss=StandardScaler()"
   ]
  },
  {
   "cell_type": "code",
   "execution_count": 168,
   "metadata": {},
   "outputs": [],
   "source": [
    "#for Train data\n",
    "X_train_nums=ss.fit_transform(X_train_num)\n",
    "\n",
    "X_train_nums=pd.DataFrame(X_train_nums)\n",
    "\n",
    "X_train_nums.columns=X_train_num.columns"
   ]
  },
  {
   "cell_type": "code",
   "execution_count": 169,
   "metadata": {},
   "outputs": [],
   "source": [
    "#for validation data\n",
    "X_val_nums=ss.transform(X_val_num)\n",
    "\n",
    "X_val_nums=pd.DataFrame(X_val_nums)\n",
    "\n",
    "X_val_nums.columns=X_val_num.columns"
   ]
  },
  {
   "cell_type": "code",
   "execution_count": 170,
   "metadata": {},
   "outputs": [],
   "source": [
    "#for test data\n",
    "X_test_nums=ss.transform(X_test_num)\n",
    "\n",
    "X_test_nums=pd.DataFrame(X_test_nums)\n",
    "\n",
    "X_test_nums.columns=X_test_num.columns"
   ]
  },
  {
   "cell_type": "markdown",
   "metadata": {},
   "source": [
    "## Combining the numerical and categorical dataframes"
   ]
  },
  {
   "cell_type": "code",
   "execution_count": 171,
   "metadata": {},
   "outputs": [],
   "source": [
    "# for Train data\n",
    "X_train=pd.concat([X_train_nums,X_train_cat],axis=1)"
   ]
  },
  {
   "cell_type": "code",
   "execution_count": 172,
   "metadata": {},
   "outputs": [],
   "source": [
    "# for val data\n",
    "X_val=pd.concat([X_val_nums,X_val_cat],axis=1)"
   ]
  },
  {
   "cell_type": "code",
   "execution_count": 173,
   "metadata": {},
   "outputs": [],
   "source": [
    "# for test data\n",
    "X_test=pd.concat([X_test_nums,X_test_cat],axis=1)"
   ]
  },
  {
   "cell_type": "code",
   "execution_count": null,
   "metadata": {},
   "outputs": [],
   "source": []
  },
  {
   "cell_type": "markdown",
   "metadata": {},
   "source": [
    "## Applying the OLS model"
   ]
  },
  {
   "cell_type": "code",
   "execution_count": 174,
   "metadata": {},
   "outputs": [],
   "source": [
    "Xc=sm.add_constant(X_train)"
   ]
  },
  {
   "cell_type": "code",
   "execution_count": 175,
   "metadata": {},
   "outputs": [
    {
     "data": {
      "text/html": [
       "<table class=\"simpletable\">\n",
       "<caption>OLS Regression Results</caption>\n",
       "<tr>\n",
       "  <th>Dep. Variable:</th>         <td>Salary</td>      <th>  R-squared:         </th> <td>   0.273</td> \n",
       "</tr>\n",
       "<tr>\n",
       "  <th>Model:</th>                   <td>OLS</td>       <th>  Adj. R-squared:    </th> <td>   0.265</td> \n",
       "</tr>\n",
       "<tr>\n",
       "  <th>Method:</th>             <td>Least Squares</td>  <th>  F-statistic:       </th> <td>   34.92</td> \n",
       "</tr>\n",
       "<tr>\n",
       "  <th>Date:</th>             <td>Fri, 25 Sep 2020</td> <th>  Prob (F-statistic):</th> <td>9.10e-191</td>\n",
       "</tr>\n",
       "<tr>\n",
       "  <th>Time:</th>                 <td>21:00:02</td>     <th>  Log-Likelihood:    </th> <td> -2032.1</td> \n",
       "</tr>\n",
       "<tr>\n",
       "  <th>No. Observations:</th>      <td>  3198</td>      <th>  AIC:               </th> <td>   4134.</td> \n",
       "</tr>\n",
       "<tr>\n",
       "  <th>Df Residuals:</th>          <td>  3163</td>      <th>  BIC:               </th> <td>   4347.</td> \n",
       "</tr>\n",
       "<tr>\n",
       "  <th>Df Model:</th>              <td>    34</td>      <th>                     </th>     <td> </td>    \n",
       "</tr>\n",
       "<tr>\n",
       "  <th>Covariance Type:</th>      <td>nonrobust</td>    <th>                     </th>     <td> </td>    \n",
       "</tr>\n",
       "</table>\n",
       "<table class=\"simpletable\">\n",
       "<tr>\n",
       "            <td></td>               <th>coef</th>     <th>std err</th>      <th>t</th>      <th>P>|t|</th>  <th>[0.025</th>    <th>0.975]</th>  \n",
       "</tr>\n",
       "<tr>\n",
       "  <th>const</th>                 <td>    9.5587</td> <td>    0.020</td> <td>  488.945</td> <td> 0.000</td> <td>    9.520</td> <td>    9.597</td>\n",
       "</tr>\n",
       "<tr>\n",
       "  <th>10percentage</th>          <td>    0.0527</td> <td>    0.012</td> <td>    4.417</td> <td> 0.000</td> <td>    0.029</td> <td>    0.076</td>\n",
       "</tr>\n",
       "<tr>\n",
       "  <th>12graduation</th>          <td>    0.0065</td> <td>    0.021</td> <td>    0.305</td> <td> 0.761</td> <td>   -0.035</td> <td>    0.049</td>\n",
       "</tr>\n",
       "<tr>\n",
       "  <th>12percentage</th>          <td>    0.0410</td> <td>    0.012</td> <td>    3.345</td> <td> 0.001</td> <td>    0.017</td> <td>    0.065</td>\n",
       "</tr>\n",
       "<tr>\n",
       "  <th>collegeGPA</th>            <td>    0.0731</td> <td>    0.010</td> <td>    7.034</td> <td> 0.000</td> <td>    0.053</td> <td>    0.093</td>\n",
       "</tr>\n",
       "<tr>\n",
       "  <th>GraduationYear</th>        <td>   -0.1441</td> <td>    0.017</td> <td>   -8.410</td> <td> 0.000</td> <td>   -0.178</td> <td>   -0.111</td>\n",
       "</tr>\n",
       "<tr>\n",
       "  <th>English</th>               <td>    0.0624</td> <td>    0.010</td> <td>    6.199</td> <td> 0.000</td> <td>    0.043</td> <td>    0.082</td>\n",
       "</tr>\n",
       "<tr>\n",
       "  <th>Logical</th>               <td>    0.0061</td> <td>    0.010</td> <td>    0.591</td> <td> 0.554</td> <td>   -0.014</td> <td>    0.026</td>\n",
       "</tr>\n",
       "<tr>\n",
       "  <th>Quant</th>                 <td>    0.0739</td> <td>    0.011</td> <td>    6.835</td> <td> 0.000</td> <td>    0.053</td> <td>    0.095</td>\n",
       "</tr>\n",
       "<tr>\n",
       "  <th>Domain</th>                <td>    0.0047</td> <td>    0.015</td> <td>    0.325</td> <td> 0.745</td> <td>   -0.024</td> <td>    0.033</td>\n",
       "</tr>\n",
       "<tr>\n",
       "  <th>conscientiousness</th>     <td>   -0.0267</td> <td>    0.010</td> <td>   -2.657</td> <td> 0.008</td> <td>   -0.046</td> <td>   -0.007</td>\n",
       "</tr>\n",
       "<tr>\n",
       "  <th>agreeableness</th>         <td>   -0.0048</td> <td>    0.011</td> <td>   -0.449</td> <td> 0.654</td> <td>   -0.026</td> <td>    0.016</td>\n",
       "</tr>\n",
       "<tr>\n",
       "  <th>extraversion</th>          <td>    0.0342</td> <td>    0.009</td> <td>    3.602</td> <td> 0.000</td> <td>    0.016</td> <td>    0.053</td>\n",
       "</tr>\n",
       "<tr>\n",
       "  <th>nueroticism</th>           <td>   -0.0243</td> <td>    0.009</td> <td>   -2.702</td> <td> 0.007</td> <td>   -0.042</td> <td>   -0.007</td>\n",
       "</tr>\n",
       "<tr>\n",
       "  <th>openess_to_experience</th> <td>   -0.0183</td> <td>    0.010</td> <td>   -1.857</td> <td> 0.063</td> <td>   -0.038</td> <td>    0.001</td>\n",
       "</tr>\n",
       "<tr>\n",
       "  <th>Marks_Percent</th>         <td>    0.0371</td> <td>    0.017</td> <td>    2.132</td> <td> 0.033</td> <td>    0.003</td> <td>    0.071</td>\n",
       "</tr>\n",
       "<tr>\n",
       "  <th>BirthYr</th>               <td>   -0.0174</td> <td>    0.018</td> <td>   -0.986</td> <td> 0.324</td> <td>   -0.052</td> <td>    0.017</td>\n",
       "</tr>\n",
       "<tr>\n",
       "  <th>Gender</th>                <td>   -0.0689</td> <td>    0.021</td> <td>   -3.340</td> <td> 0.001</td> <td>   -0.109</td> <td>   -0.028</td>\n",
       "</tr>\n",
       "<tr>\n",
       "  <th>10board</th>               <td>    0.0569</td> <td>    0.034</td> <td>    1.672</td> <td> 0.095</td> <td>   -0.010</td> <td>    0.124</td>\n",
       "</tr>\n",
       "<tr>\n",
       "  <th>12board</th>               <td>   -0.0060</td> <td>    0.035</td> <td>   -0.169</td> <td> 0.866</td> <td>   -0.076</td> <td>    0.064</td>\n",
       "</tr>\n",
       "<tr>\n",
       "  <th>CollegeTier</th>           <td>    0.1699</td> <td>    0.037</td> <td>    4.600</td> <td> 0.000</td> <td>    0.098</td> <td>    0.242</td>\n",
       "</tr>\n",
       "<tr>\n",
       "  <th>Degree</th>                <td>   -0.0103</td> <td>    0.042</td> <td>   -0.245</td> <td> 0.807</td> <td>   -0.093</td> <td>    0.072</td>\n",
       "</tr>\n",
       "<tr>\n",
       "  <th>CollegeCityTier</th>       <td>   -0.0047</td> <td>    0.021</td> <td>   -0.220</td> <td> 0.826</td> <td>   -0.046</td> <td>    0.037</td>\n",
       "</tr>\n",
       "<tr>\n",
       "  <th>CollegeID_cat</th>         <td>   -0.0906</td> <td>    0.020</td> <td>   -4.500</td> <td> 0.000</td> <td>   -0.130</td> <td>   -0.051</td>\n",
       "</tr>\n",
       "<tr>\n",
       "  <th>x0_Central</th>            <td>    1.6271</td> <td>    0.032</td> <td>   50.592</td> <td> 0.000</td> <td>    1.564</td> <td>    1.690</td>\n",
       "</tr>\n",
       "<tr>\n",
       "  <th>x0_East</th>               <td>    1.5330</td> <td>    0.026</td> <td>   59.862</td> <td> 0.000</td> <td>    1.483</td> <td>    1.583</td>\n",
       "</tr>\n",
       "<tr>\n",
       "  <th>x0_North</th>              <td>    1.6110</td> <td>    0.018</td> <td>   91.642</td> <td> 0.000</td> <td>    1.577</td> <td>    1.646</td>\n",
       "</tr>\n",
       "<tr>\n",
       "  <th>x0_Other</th>              <td>    1.5325</td> <td>    0.042</td> <td>   36.836</td> <td> 0.000</td> <td>    1.451</td> <td>    1.614</td>\n",
       "</tr>\n",
       "<tr>\n",
       "  <th>x0_South</th>              <td>    1.5996</td> <td>    0.019</td> <td>   83.624</td> <td> 0.000</td> <td>    1.562</td> <td>    1.637</td>\n",
       "</tr>\n",
       "<tr>\n",
       "  <th>x0_West</th>               <td>    1.6555</td> <td>    0.030</td> <td>   54.607</td> <td> 0.000</td> <td>    1.596</td> <td>    1.715</td>\n",
       "</tr>\n",
       "<tr>\n",
       "  <th>x1_Civil</th>              <td>    1.5966</td> <td>    0.085</td> <td>   18.759</td> <td> 0.000</td> <td>    1.430</td> <td>    1.763</td>\n",
       "</tr>\n",
       "<tr>\n",
       "  <th>x1_Computer</th>           <td>    1.3512</td> <td>    0.023</td> <td>   58.733</td> <td> 0.000</td> <td>    1.306</td> <td>    1.396</td>\n",
       "</tr>\n",
       "<tr>\n",
       "  <th>x1_Electrical</th>         <td>    1.2513</td> <td>    0.053</td> <td>   23.727</td> <td> 0.000</td> <td>    1.148</td> <td>    1.355</td>\n",
       "</tr>\n",
       "<tr>\n",
       "  <th>x1_Electronics</th>        <td>    1.3180</td> <td>    0.022</td> <td>   59.970</td> <td> 0.000</td> <td>    1.275</td> <td>    1.361</td>\n",
       "</tr>\n",
       "<tr>\n",
       "  <th>x1_Information</th>        <td>    1.3615</td> <td>    0.026</td> <td>   53.345</td> <td> 0.000</td> <td>    1.311</td> <td>    1.412</td>\n",
       "</tr>\n",
       "<tr>\n",
       "  <th>x1_Mechanical</th>         <td>    1.3377</td> <td>    0.035</td> <td>   37.891</td> <td> 0.000</td> <td>    1.269</td> <td>    1.407</td>\n",
       "</tr>\n",
       "<tr>\n",
       "  <th>x1_Other</th>              <td>    1.3425</td> <td>    0.052</td> <td>   25.801</td> <td> 0.000</td> <td>    1.240</td> <td>    1.444</td>\n",
       "</tr>\n",
       "</table>\n",
       "<table class=\"simpletable\">\n",
       "<tr>\n",
       "  <th>Omnibus:</th>       <td>190.276</td> <th>  Durbin-Watson:     </th> <td>   1.991</td> \n",
       "</tr>\n",
       "<tr>\n",
       "  <th>Prob(Omnibus):</th> <td> 0.000</td>  <th>  Jarque-Bera (JB):  </th> <td> 807.656</td> \n",
       "</tr>\n",
       "<tr>\n",
       "  <th>Skew:</th>          <td>-0.049</td>  <th>  Prob(JB):          </th> <td>4.17e-176</td>\n",
       "</tr>\n",
       "<tr>\n",
       "  <th>Kurtosis:</th>      <td> 5.460</td>  <th>  Cond. No.          </th> <td>1.58e+16</td> \n",
       "</tr>\n",
       "</table><br/><br/>Warnings:<br/>[1] Standard Errors assume that the covariance matrix of the errors is correctly specified.<br/>[2] The smallest eigenvalue is 4.64e-29. This might indicate that there are<br/>strong multicollinearity problems or that the design matrix is singular."
      ],
      "text/plain": [
       "<class 'statsmodels.iolib.summary.Summary'>\n",
       "\"\"\"\n",
       "                            OLS Regression Results                            \n",
       "==============================================================================\n",
       "Dep. Variable:                 Salary   R-squared:                       0.273\n",
       "Model:                            OLS   Adj. R-squared:                  0.265\n",
       "Method:                 Least Squares   F-statistic:                     34.92\n",
       "Date:                Fri, 25 Sep 2020   Prob (F-statistic):          9.10e-191\n",
       "Time:                        21:00:02   Log-Likelihood:                -2032.1\n",
       "No. Observations:                3198   AIC:                             4134.\n",
       "Df Residuals:                    3163   BIC:                             4347.\n",
       "Df Model:                          34                                         \n",
       "Covariance Type:            nonrobust                                         \n",
       "=========================================================================================\n",
       "                            coef    std err          t      P>|t|      [0.025      0.975]\n",
       "-----------------------------------------------------------------------------------------\n",
       "const                     9.5587      0.020    488.945      0.000       9.520       9.597\n",
       "10percentage              0.0527      0.012      4.417      0.000       0.029       0.076\n",
       "12graduation              0.0065      0.021      0.305      0.761      -0.035       0.049\n",
       "12percentage              0.0410      0.012      3.345      0.001       0.017       0.065\n",
       "collegeGPA                0.0731      0.010      7.034      0.000       0.053       0.093\n",
       "GraduationYear           -0.1441      0.017     -8.410      0.000      -0.178      -0.111\n",
       "English                   0.0624      0.010      6.199      0.000       0.043       0.082\n",
       "Logical                   0.0061      0.010      0.591      0.554      -0.014       0.026\n",
       "Quant                     0.0739      0.011      6.835      0.000       0.053       0.095\n",
       "Domain                    0.0047      0.015      0.325      0.745      -0.024       0.033\n",
       "conscientiousness        -0.0267      0.010     -2.657      0.008      -0.046      -0.007\n",
       "agreeableness            -0.0048      0.011     -0.449      0.654      -0.026       0.016\n",
       "extraversion              0.0342      0.009      3.602      0.000       0.016       0.053\n",
       "nueroticism              -0.0243      0.009     -2.702      0.007      -0.042      -0.007\n",
       "openess_to_experience    -0.0183      0.010     -1.857      0.063      -0.038       0.001\n",
       "Marks_Percent             0.0371      0.017      2.132      0.033       0.003       0.071\n",
       "BirthYr                  -0.0174      0.018     -0.986      0.324      -0.052       0.017\n",
       "Gender                   -0.0689      0.021     -3.340      0.001      -0.109      -0.028\n",
       "10board                   0.0569      0.034      1.672      0.095      -0.010       0.124\n",
       "12board                  -0.0060      0.035     -0.169      0.866      -0.076       0.064\n",
       "CollegeTier               0.1699      0.037      4.600      0.000       0.098       0.242\n",
       "Degree                   -0.0103      0.042     -0.245      0.807      -0.093       0.072\n",
       "CollegeCityTier          -0.0047      0.021     -0.220      0.826      -0.046       0.037\n",
       "CollegeID_cat            -0.0906      0.020     -4.500      0.000      -0.130      -0.051\n",
       "x0_Central                1.6271      0.032     50.592      0.000       1.564       1.690\n",
       "x0_East                   1.5330      0.026     59.862      0.000       1.483       1.583\n",
       "x0_North                  1.6110      0.018     91.642      0.000       1.577       1.646\n",
       "x0_Other                  1.5325      0.042     36.836      0.000       1.451       1.614\n",
       "x0_South                  1.5996      0.019     83.624      0.000       1.562       1.637\n",
       "x0_West                   1.6555      0.030     54.607      0.000       1.596       1.715\n",
       "x1_Civil                  1.5966      0.085     18.759      0.000       1.430       1.763\n",
       "x1_Computer               1.3512      0.023     58.733      0.000       1.306       1.396\n",
       "x1_Electrical             1.2513      0.053     23.727      0.000       1.148       1.355\n",
       "x1_Electronics            1.3180      0.022     59.970      0.000       1.275       1.361\n",
       "x1_Information            1.3615      0.026     53.345      0.000       1.311       1.412\n",
       "x1_Mechanical             1.3377      0.035     37.891      0.000       1.269       1.407\n",
       "x1_Other                  1.3425      0.052     25.801      0.000       1.240       1.444\n",
       "==============================================================================\n",
       "Omnibus:                      190.276   Durbin-Watson:                   1.991\n",
       "Prob(Omnibus):                  0.000   Jarque-Bera (JB):              807.656\n",
       "Skew:                          -0.049   Prob(JB):                    4.17e-176\n",
       "Kurtosis:                       5.460   Cond. No.                     1.58e+16\n",
       "==============================================================================\n",
       "\n",
       "Warnings:\n",
       "[1] Standard Errors assume that the covariance matrix of the errors is correctly specified.\n",
       "[2] The smallest eigenvalue is 4.64e-29. This might indicate that there are\n",
       "strong multicollinearity problems or that the design matrix is singular.\n",
       "\"\"\""
      ]
     },
     "execution_count": 175,
     "metadata": {},
     "output_type": "execute_result"
    }
   ],
   "source": [
    "model=sm.OLS(y_train,Xc).fit()\n",
    "model.summary()"
   ]
  },
  {
   "cell_type": "markdown",
   "metadata": {},
   "source": [
    "1. Salary increases as the marks in 10th,12th and college GPA increases\n",
    "2. Salary is dependent on English and Quant marks\n",
    "3. Salary is dependent on conscientiousness, extraversion and nueroticism\n",
    "4. Salary is gender,college tier, CollegeId_cat, region and specialization dependent.\n",
    "5. This is what we observe from the OLS"
   ]
  },
  {
   "cell_type": "markdown",
   "metadata": {},
   "source": [
    "# Building the base model for data"
   ]
  },
  {
   "cell_type": "code",
   "execution_count": 176,
   "metadata": {},
   "outputs": [],
   "source": [
    "from sklearn.linear_model import LinearRegression"
   ]
  },
  {
   "cell_type": "code",
   "execution_count": 177,
   "metadata": {},
   "outputs": [],
   "source": [
    "lr=LinearRegression(fit_intercept=True)"
   ]
  },
  {
   "cell_type": "code",
   "execution_count": 178,
   "metadata": {},
   "outputs": [
    {
     "data": {
      "text/plain": [
       "LinearRegression(copy_X=True, fit_intercept=True, n_jobs=None, normalize=False)"
      ]
     },
     "execution_count": 178,
     "metadata": {},
     "output_type": "execute_result"
    }
   ],
   "source": [
    "lr.fit(X_train,y_train)"
   ]
  },
  {
   "cell_type": "code",
   "execution_count": 179,
   "metadata": {},
   "outputs": [
    {
     "data": {
      "text/plain": [
       "0.272945342509868"
      ]
     },
     "execution_count": 179,
     "metadata": {},
     "output_type": "execute_result"
    }
   ],
   "source": [
    "lr.score(X_train,y_train)"
   ]
  },
  {
   "cell_type": "code",
   "execution_count": 180,
   "metadata": {},
   "outputs": [],
   "source": [
    "y_train_pred=lr.predict(X_train)"
   ]
  },
  {
   "cell_type": "code",
   "execution_count": 181,
   "metadata": {},
   "outputs": [
    {
     "data": {
      "text/plain": [
       "0.23138240766131735"
      ]
     },
     "execution_count": 181,
     "metadata": {},
     "output_type": "execute_result"
    }
   ],
   "source": [
    "lr.score(X_val,y_val)"
   ]
  },
  {
   "cell_type": "code",
   "execution_count": 182,
   "metadata": {},
   "outputs": [],
   "source": [
    "y_val_pred=lr.predict(X_val)"
   ]
  },
  {
   "cell_type": "markdown",
   "metadata": {},
   "source": [
    "The base model R2 for the train data is 27% and for validation is 23%"
   ]
  },
  {
   "cell_type": "markdown",
   "metadata": {},
   "source": [
    "### Calculating the RMSE value"
   ]
  },
  {
   "cell_type": "code",
   "execution_count": 183,
   "metadata": {},
   "outputs": [],
   "source": [
    "from sklearn.metrics import mean_squared_error"
   ]
  },
  {
   "cell_type": "code",
   "execution_count": 184,
   "metadata": {},
   "outputs": [
    {
     "data": {
      "text/plain": [
       "0.4567953792290699"
      ]
     },
     "execution_count": 184,
     "metadata": {},
     "output_type": "execute_result"
    }
   ],
   "source": [
    "mean_squared_error(y_train,y_train_pred,squared=False)"
   ]
  },
  {
   "cell_type": "code",
   "execution_count": 185,
   "metadata": {},
   "outputs": [
    {
     "data": {
      "text/plain": [
       "0.5021671564257871"
      ]
     },
     "execution_count": 185,
     "metadata": {},
     "output_type": "execute_result"
    }
   ],
   "source": [
    "mean_squared_error(y_val,y_val_pred,squared=False)"
   ]
  },
  {
   "cell_type": "markdown",
   "metadata": {},
   "source": [
    "## Copying all the dataframes in Excel"
   ]
  },
  {
   "cell_type": "code",
   "execution_count": 186,
   "metadata": {},
   "outputs": [],
   "source": [
    "#X_train.to_excel('X_train.xlsx',index=False)"
   ]
  },
  {
   "cell_type": "code",
   "execution_count": 187,
   "metadata": {},
   "outputs": [],
   "source": [
    "#y_train.to_excel('y_train.xlsx',index=False)"
   ]
  },
  {
   "cell_type": "code",
   "execution_count": 188,
   "metadata": {},
   "outputs": [],
   "source": [
    "#X_val.to_excel('X_val.xlsx',index=False)"
   ]
  },
  {
   "cell_type": "code",
   "execution_count": 189,
   "metadata": {},
   "outputs": [],
   "source": [
    "#y_val.to_excel('y_val.xlsx',index=False)"
   ]
  },
  {
   "cell_type": "code",
   "execution_count": 190,
   "metadata": {},
   "outputs": [],
   "source": [
    "#X_test.to_excel('X_test.xlsx',index=False)"
   ]
  },
  {
   "cell_type": "markdown",
   "metadata": {},
   "source": [
    "-------------------------------------- #### END #### -----------------------------------------------------------------------"
   ]
  },
  {
   "cell_type": "code",
   "execution_count": null,
   "metadata": {},
   "outputs": [],
   "source": []
  }
 ],
 "metadata": {
  "kernelspec": {
   "display_name": "Python 3",
   "language": "python",
   "name": "python3"
  },
  "language_info": {
   "codemirror_mode": {
    "name": "ipython",
    "version": 3
   },
   "file_extension": ".py",
   "mimetype": "text/x-python",
   "name": "python",
   "nbconvert_exporter": "python",
   "pygments_lexer": "ipython3",
   "version": "3.7.4"
  }
 },
 "nbformat": 4,
 "nbformat_minor": 2
}
