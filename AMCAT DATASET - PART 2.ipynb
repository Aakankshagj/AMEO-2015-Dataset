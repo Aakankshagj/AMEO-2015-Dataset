{
 "cells": [
  {
   "cell_type": "code",
   "execution_count": 1,
   "metadata": {},
   "outputs": [],
   "source": [
    "import warnings\n",
    "warnings.filterwarnings(\"ignore\")"
   ]
  },
  {
   "cell_type": "code",
   "execution_count": 2,
   "metadata": {},
   "outputs": [],
   "source": [
    "import numpy as np\n",
    "import pandas as pd\n",
    "import matplotlib.pyplot as plt\n",
    "import seaborn as sns"
   ]
  },
  {
   "cell_type": "code",
   "execution_count": 3,
   "metadata": {},
   "outputs": [],
   "source": [
    "X_train=pd.read_excel('X_train.xlsx')\n",
    "y_train=pd.read_excel('y_train.xlsx')\n",
    "X_val=pd.read_excel('X_val.xlsx')\n",
    "y_val=pd.read_excel('y_val.xlsx')\n",
    "X_test=pd.read_excel('X_test.xlsx')"
   ]
  },
  {
   "cell_type": "code",
   "execution_count": 4,
   "metadata": {},
   "outputs": [
    {
     "data": {
      "text/plain": [
       "((3198, 36), (3198, 1), (800, 36), (800, 1), (1500, 36))"
      ]
     },
     "execution_count": 4,
     "metadata": {},
     "output_type": "execute_result"
    }
   ],
   "source": [
    "X_train.shape , y_train.shape , X_val.shape, y_val.shape , X_test.shape"
   ]
  },
  {
   "cell_type": "markdown",
   "metadata": {},
   "source": [
    "## Fitment of other models with cross validation"
   ]
  },
  {
   "cell_type": "code",
   "execution_count": 6,
   "metadata": {},
   "outputs": [],
   "source": [
    "from sklearn.linear_model import LinearRegression\n",
    "from sklearn.tree import DecisionTreeRegressor\n",
    "from sklearn.ensemble import RandomForestRegressor,GradientBoostingRegressor,AdaBoostRegressor\n",
    "from sklearn.neighbors import KNeighborsRegressor\n",
    "from sklearn.naive_bayes import GaussianNB\n",
    "#from xgboost import XGBRegressor"
   ]
  },
  {
   "cell_type": "code",
   "execution_count": 7,
   "metadata": {},
   "outputs": [],
   "source": [
    "from sklearn.model_selection import KFold,cross_val_score,cross_val_predict"
   ]
  },
  {
   "cell_type": "code",
   "execution_count": 8,
   "metadata": {},
   "outputs": [],
   "source": [
    "lr=LinearRegression()\n",
    "dt=DecisionTreeRegressor()\n",
    "rfr=RandomForestRegressor()\n",
    "gb=GradientBoostingRegressor()\n",
    "ada=AdaBoostRegressor()\n",
    "knn=KNeighborsRegressor()\n",
    "nb=GaussianNB()\n",
    "#xgb=XGBRegressor()"
   ]
  },
  {
   "cell_type": "code",
   "execution_count": 10,
   "metadata": {},
   "outputs": [],
   "source": [
    "models=[]\n",
    "models.append(('Linear',lr))\n",
    "models.append(('DTR',dt))\n",
    "models.append(('RFR',rfr))\n",
    "models.append(('ADA',ada))\n",
    "models.append(('GB',gb))\n",
    "models.append(('KNN',knn))\n",
    "models.append(('GNB',nb))"
   ]
  },
  {
   "cell_type": "code",
   "execution_count": 11,
   "metadata": {},
   "outputs": [
    {
     "name": "stdout",
     "output_type": "stream",
     "text": [
      "Linear: 0.461521 (0.026421)\n",
      "DTR: 0.681944 (0.041809)\n",
      "RFR: 0.472560 (0.025375)\n",
      "ADA: 0.507324 (0.028774)\n",
      "GB: 0.469364 (0.022750)\n",
      "KNN: 0.506626 (0.022889)\n",
      "GNB: nan (nan)\n"
     ]
    }
   ],
   "source": [
    "results = []\n",
    "names = []\n",
    "for name,model in models:\n",
    "    kfold=KFold(shuffle=True,n_splits=5,random_state=3)\n",
    "    cv_results=cross_val_score(model,X_train,y_train,cv=kfold,scoring='neg_mean_squared_error')\n",
    "    results.append(np.sqrt(np.abs(cv_results)))\n",
    "    names.append(name)\n",
    "    print('%s: %f (%f)'%(name,np.mean(np.sqrt(np.abs(cv_results))),np.std(np.sqrt(np.abs(cv_results)),ddof=1)))"
   ]
  },
  {
   "cell_type": "markdown",
   "metadata": {},
   "source": [
    "## Using Feature selection techniques"
   ]
  },
  {
   "cell_type": "markdown",
   "metadata": {},
   "source": [
    "### Wrapper Method- RFE"
   ]
  },
  {
   "cell_type": "code",
   "execution_count": 13,
   "metadata": {},
   "outputs": [],
   "source": [
    "from sklearn.feature_selection import RFE"
   ]
  },
  {
   "cell_type": "code",
   "execution_count": 14,
   "metadata": {},
   "outputs": [],
   "source": [
    "rfe=RFE(estimator=lr,step=1)"
   ]
  },
  {
   "cell_type": "code",
   "execution_count": 15,
   "metadata": {},
   "outputs": [
    {
     "data": {
      "text/plain": [
       "RFE(estimator=LinearRegression(copy_X=True, fit_intercept=True, n_jobs=None,\n",
       "                               normalize=False),\n",
       "    n_features_to_select=None, step=1, verbose=0)"
      ]
     },
     "execution_count": 15,
     "metadata": {},
     "output_type": "execute_result"
    }
   ],
   "source": [
    "rfe.fit(X_train,y_train)"
   ]
  },
  {
   "cell_type": "code",
   "execution_count": 16,
   "metadata": {},
   "outputs": [
    {
     "data": {
      "text/html": [
       "<div>\n",
       "<style scoped>\n",
       "    .dataframe tbody tr th:only-of-type {\n",
       "        vertical-align: middle;\n",
       "    }\n",
       "\n",
       "    .dataframe tbody tr th {\n",
       "        vertical-align: top;\n",
       "    }\n",
       "\n",
       "    .dataframe thead th {\n",
       "        text-align: right;\n",
       "    }\n",
       "</style>\n",
       "<table border=\"1\" class=\"dataframe\">\n",
       "  <thead>\n",
       "    <tr style=\"text-align: right;\">\n",
       "      <th></th>\n",
       "      <th>Features</th>\n",
       "      <th>Ranking</th>\n",
       "    </tr>\n",
       "  </thead>\n",
       "  <tbody>\n",
       "    <tr>\n",
       "      <td>0</td>\n",
       "      <td>10percentage</td>\n",
       "      <td>1</td>\n",
       "    </tr>\n",
       "    <tr>\n",
       "      <td>32</td>\n",
       "      <td>x1_Electronics</td>\n",
       "      <td>1</td>\n",
       "    </tr>\n",
       "    <tr>\n",
       "      <td>31</td>\n",
       "      <td>x1_Electrical</td>\n",
       "      <td>1</td>\n",
       "    </tr>\n",
       "    <tr>\n",
       "      <td>29</td>\n",
       "      <td>x1_Civil</td>\n",
       "      <td>1</td>\n",
       "    </tr>\n",
       "    <tr>\n",
       "      <td>28</td>\n",
       "      <td>x0_West</td>\n",
       "      <td>1</td>\n",
       "    </tr>\n",
       "    <tr>\n",
       "      <td>26</td>\n",
       "      <td>x0_Other</td>\n",
       "      <td>1</td>\n",
       "    </tr>\n",
       "    <tr>\n",
       "      <td>24</td>\n",
       "      <td>x0_East</td>\n",
       "      <td>1</td>\n",
       "    </tr>\n",
       "    <tr>\n",
       "      <td>22</td>\n",
       "      <td>CollegeID_cat</td>\n",
       "      <td>1</td>\n",
       "    </tr>\n",
       "    <tr>\n",
       "      <td>19</td>\n",
       "      <td>CollegeTier</td>\n",
       "      <td>1</td>\n",
       "    </tr>\n",
       "    <tr>\n",
       "      <td>16</td>\n",
       "      <td>Gender</td>\n",
       "      <td>1</td>\n",
       "    </tr>\n",
       "    <tr>\n",
       "      <td>14</td>\n",
       "      <td>Marks_Percent</td>\n",
       "      <td>1</td>\n",
       "    </tr>\n",
       "    <tr>\n",
       "      <td>17</td>\n",
       "      <td>10board</td>\n",
       "      <td>1</td>\n",
       "    </tr>\n",
       "    <tr>\n",
       "      <td>2</td>\n",
       "      <td>12percentage</td>\n",
       "      <td>1</td>\n",
       "    </tr>\n",
       "    <tr>\n",
       "      <td>3</td>\n",
       "      <td>collegeGPA</td>\n",
       "      <td>1</td>\n",
       "    </tr>\n",
       "    <tr>\n",
       "      <td>4</td>\n",
       "      <td>GraduationYear</td>\n",
       "      <td>1</td>\n",
       "    </tr>\n",
       "    <tr>\n",
       "      <td>5</td>\n",
       "      <td>English</td>\n",
       "      <td>1</td>\n",
       "    </tr>\n",
       "    <tr>\n",
       "      <td>11</td>\n",
       "      <td>extraversion</td>\n",
       "      <td>1</td>\n",
       "    </tr>\n",
       "    <tr>\n",
       "      <td>7</td>\n",
       "      <td>Quant</td>\n",
       "      <td>1</td>\n",
       "    </tr>\n",
       "    <tr>\n",
       "      <td>9</td>\n",
       "      <td>conscientiousness</td>\n",
       "      <td>2</td>\n",
       "    </tr>\n",
       "    <tr>\n",
       "      <td>12</td>\n",
       "      <td>nueroticism</td>\n",
       "      <td>3</td>\n",
       "    </tr>\n",
       "    <tr>\n",
       "      <td>23</td>\n",
       "      <td>x0_Central</td>\n",
       "      <td>4</td>\n",
       "    </tr>\n",
       "    <tr>\n",
       "      <td>13</td>\n",
       "      <td>openess_to_experience</td>\n",
       "      <td>5</td>\n",
       "    </tr>\n",
       "    <tr>\n",
       "      <td>20</td>\n",
       "      <td>Degree</td>\n",
       "      <td>6</td>\n",
       "    </tr>\n",
       "    <tr>\n",
       "      <td>15</td>\n",
       "      <td>BirthYr</td>\n",
       "      <td>7</td>\n",
       "    </tr>\n",
       "    <tr>\n",
       "      <td>34</td>\n",
       "      <td>x1_Mechanical</td>\n",
       "      <td>8</td>\n",
       "    </tr>\n",
       "    <tr>\n",
       "      <td>25</td>\n",
       "      <td>x0_North</td>\n",
       "      <td>9</td>\n",
       "    </tr>\n",
       "    <tr>\n",
       "      <td>35</td>\n",
       "      <td>x1_Other</td>\n",
       "      <td>10</td>\n",
       "    </tr>\n",
       "    <tr>\n",
       "      <td>30</td>\n",
       "      <td>x1_Computer</td>\n",
       "      <td>11</td>\n",
       "    </tr>\n",
       "    <tr>\n",
       "      <td>18</td>\n",
       "      <td>12board</td>\n",
       "      <td>12</td>\n",
       "    </tr>\n",
       "    <tr>\n",
       "      <td>1</td>\n",
       "      <td>12graduation</td>\n",
       "      <td>13</td>\n",
       "    </tr>\n",
       "    <tr>\n",
       "      <td>6</td>\n",
       "      <td>Logical</td>\n",
       "      <td>14</td>\n",
       "    </tr>\n",
       "    <tr>\n",
       "      <td>27</td>\n",
       "      <td>x0_South</td>\n",
       "      <td>15</td>\n",
       "    </tr>\n",
       "    <tr>\n",
       "      <td>8</td>\n",
       "      <td>Domain</td>\n",
       "      <td>16</td>\n",
       "    </tr>\n",
       "    <tr>\n",
       "      <td>10</td>\n",
       "      <td>agreeableness</td>\n",
       "      <td>17</td>\n",
       "    </tr>\n",
       "    <tr>\n",
       "      <td>21</td>\n",
       "      <td>CollegeCityTier</td>\n",
       "      <td>18</td>\n",
       "    </tr>\n",
       "    <tr>\n",
       "      <td>33</td>\n",
       "      <td>x1_Information</td>\n",
       "      <td>19</td>\n",
       "    </tr>\n",
       "  </tbody>\n",
       "</table>\n",
       "</div>"
      ],
      "text/plain": [
       "                 Features  Ranking\n",
       "0            10percentage        1\n",
       "32         x1_Electronics        1\n",
       "31          x1_Electrical        1\n",
       "29               x1_Civil        1\n",
       "28                x0_West        1\n",
       "26               x0_Other        1\n",
       "24                x0_East        1\n",
       "22          CollegeID_cat        1\n",
       "19            CollegeTier        1\n",
       "16                 Gender        1\n",
       "14          Marks_Percent        1\n",
       "17                10board        1\n",
       "2            12percentage        1\n",
       "3              collegeGPA        1\n",
       "4          GraduationYear        1\n",
       "5                 English        1\n",
       "11           extraversion        1\n",
       "7                   Quant        1\n",
       "9       conscientiousness        2\n",
       "12            nueroticism        3\n",
       "23             x0_Central        4\n",
       "13  openess_to_experience        5\n",
       "20                 Degree        6\n",
       "15                BirthYr        7\n",
       "34          x1_Mechanical        8\n",
       "25               x0_North        9\n",
       "35               x1_Other       10\n",
       "30            x1_Computer       11\n",
       "18                12board       12\n",
       "1            12graduation       13\n",
       "6                 Logical       14\n",
       "27               x0_South       15\n",
       "8                  Domain       16\n",
       "10          agreeableness       17\n",
       "21        CollegeCityTier       18\n",
       "33         x1_Information       19"
      ]
     },
     "execution_count": 16,
     "metadata": {},
     "output_type": "execute_result"
    }
   ],
   "source": [
    "selected_rfe_features=pd.DataFrame({'Features':list(X_train.columns),'Ranking':rfe.ranking_})\n",
    "selected_rfe_features.sort_values(by='Ranking')"
   ]
  },
  {
   "cell_type": "markdown",
   "metadata": {},
   "source": [
    "18 features are selected. "
   ]
  },
  {
   "cell_type": "code",
   "execution_count": 17,
   "metadata": {},
   "outputs": [],
   "source": [
    "X_train_rfe=rfe.transform(X_train)"
   ]
  },
  {
   "cell_type": "code",
   "execution_count": 20,
   "metadata": {},
   "outputs": [
    {
     "data": {
      "text/plain": [
       "(3198, 18)"
      ]
     },
     "execution_count": 20,
     "metadata": {},
     "output_type": "execute_result"
    }
   ],
   "source": [
    "X_train_rfe.shape"
   ]
  },
  {
   "cell_type": "code",
   "execution_count": 21,
   "metadata": {},
   "outputs": [],
   "source": [
    "X_val_rfe=rfe.transform(X_val)\n",
    "X_test_rfe=rfe.transform(X_test)"
   ]
  },
  {
   "cell_type": "markdown",
   "metadata": {},
   "source": [
    "#### Fitting the linear Regression model"
   ]
  },
  {
   "cell_type": "code",
   "execution_count": 22,
   "metadata": {},
   "outputs": [
    {
     "data": {
      "text/plain": [
       "LinearRegression(copy_X=True, fit_intercept=True, n_jobs=None, normalize=False)"
      ]
     },
     "execution_count": 22,
     "metadata": {},
     "output_type": "execute_result"
    }
   ],
   "source": [
    "lr.fit(X_train_rfe,y_train)"
   ]
  },
  {
   "cell_type": "code",
   "execution_count": 23,
   "metadata": {},
   "outputs": [
    {
     "data": {
      "text/plain": [
       "0.2675668794966337"
      ]
     },
     "execution_count": 23,
     "metadata": {},
     "output_type": "execute_result"
    }
   ],
   "source": [
    "lr.score(X_train_rfe,y_train)"
   ]
  },
  {
   "cell_type": "code",
   "execution_count": 24,
   "metadata": {},
   "outputs": [
    {
     "data": {
      "text/plain": [
       "0.2374764046826835"
      ]
     },
     "execution_count": 24,
     "metadata": {},
     "output_type": "execute_result"
    }
   ],
   "source": [
    "lr.score(X_val_rfe,y_val)"
   ]
  },
  {
   "cell_type": "code",
   "execution_count": 25,
   "metadata": {},
   "outputs": [],
   "source": [
    "# Calcultaing RMSE"
   ]
  },
  {
   "cell_type": "code",
   "execution_count": 26,
   "metadata": {},
   "outputs": [
    {
     "name": "stdout",
     "output_type": "stream",
     "text": [
      "0.45848186183471923\n",
      "0.5001724746272671\n"
     ]
    }
   ],
   "source": [
    "from sklearn.metrics import mean_squared_error\n",
    "\n",
    "print(mean_squared_error(y_train,lr.predict(X_train_rfe),squared=False))\n",
    "\n",
    "print(mean_squared_error(y_val,lr.predict(X_val_rfe),squared=False))"
   ]
  },
  {
   "cell_type": "code",
   "execution_count": 27,
   "metadata": {},
   "outputs": [],
   "source": [
    "## Trying with all the models"
   ]
  },
  {
   "cell_type": "code",
   "execution_count": 28,
   "metadata": {},
   "outputs": [
    {
     "name": "stdout",
     "output_type": "stream",
     "text": [
      "Linear: 0.460660 (0.025628)\n",
      "DTR: 0.676938 (0.015274)\n",
      "RFR: 0.475343 (0.021995)\n",
      "ADA: 0.498737 (0.017596)\n",
      "GB: 0.469797 (0.019614)\n",
      "KNN: 0.509032 (0.028025)\n",
      "GNB: nan (nan)\n"
     ]
    }
   ],
   "source": [
    "results = []\n",
    "names = []\n",
    "for name,model in models:\n",
    "    kfold=KFold(shuffle=True,n_splits=5,random_state=3)\n",
    "    cv_results=cross_val_score(model,X_train_rfe,y_train,cv=kfold,scoring='neg_mean_squared_error')\n",
    "    results.append(np.sqrt(np.abs(cv_results)))\n",
    "    names.append(name)\n",
    "    print('%s: %f (%f)'%(name,np.mean(np.sqrt(np.abs(cv_results))),np.std(np.sqrt(np.abs(cv_results)),ddof=1)))"
   ]
  },
  {
   "cell_type": "markdown",
   "metadata": {},
   "source": [
    "After doing feature selection, the variance error for Gradient Boosting decreases and bias error remains the same"
   ]
  },
  {
   "cell_type": "markdown",
   "metadata": {},
   "source": [
    "#### Applying RFE with decision tree as the estimator"
   ]
  },
  {
   "cell_type": "code",
   "execution_count": 29,
   "metadata": {},
   "outputs": [
    {
     "name": "stdout",
     "output_type": "stream",
     "text": [
      "                 Features  Ranking\n",
      "0            10percentage        1\n",
      "22          CollegeID_cat        1\n",
      "34          x1_Mechanical        1\n",
      "14          Marks_Percent        1\n",
      "13  openess_to_experience        1\n",
      "12            nueroticism        1\n",
      "11           extraversion        1\n",
      "10          agreeableness        1\n",
      "9       conscientiousness        1\n",
      "15                BirthYr        1\n",
      "7                   Quant        1\n",
      "6                 Logical        1\n",
      "5                 English        1\n",
      "4          GraduationYear        1\n",
      "3              collegeGPA        1\n",
      "2            12percentage        1\n",
      "8                  Domain        1\n",
      "1            12graduation        1\n",
      "33         x1_Information        2\n",
      "31          x1_Electrical        3\n",
      "19            CollegeTier        4\n",
      "18                12board        5\n",
      "25               x0_North        6\n",
      "21        CollegeCityTier        7\n",
      "30            x1_Computer        8\n",
      "24                x0_East        9\n",
      "32         x1_Electronics       10\n",
      "26               x0_Other       11\n",
      "20                 Degree       12\n",
      "23             x0_Central       13\n",
      "16                 Gender       14\n",
      "17                10board       15\n",
      "27               x0_South       16\n",
      "28                x0_West       17\n",
      "35               x1_Other       18\n",
      "29               x1_Civil       19\n",
      "(3198, 18)\n",
      "0.4615450409388965\n",
      "0.5098367576522691\n",
      "Linear: 0.464400 (0.026418)\n",
      "DTR: 0.679761 (0.030058)\n",
      "RFR: 0.475175 (0.023087)\n",
      "ADA: 0.504513 (0.027068)\n",
      "GB: 0.472399 (0.021098)\n",
      "KNN: 0.506399 (0.020865)\n",
      "GNB: nan (nan)\n"
     ]
    }
   ],
   "source": [
    "rfedt=RFE(estimator=dt,step=1)\n",
    "\n",
    "rfedt.fit(X_train,y_train)\n",
    "\n",
    "selected_rfe_featuresdt=pd.DataFrame({'Features':list(X_train.columns),'Ranking':rfedt.ranking_})\n",
    "print(selected_rfe_featuresdt.sort_values(by='Ranking'))\n",
    "\n",
    "X_train_rfedt=rfedt.transform(X_train)\n",
    "\n",
    "print(X_train_rfedt.shape)\n",
    "\n",
    "X_val_rfedt=rfedt.transform(X_val)\n",
    "X_test_rfedt=rfedt.transform(X_test)\n",
    "\n",
    "#### Fitting the linear Regression model\n",
    "\n",
    "lr.fit(X_train_rfedt,y_train)\n",
    "\n",
    "lr.score(X_train_rfedt,y_train)\n",
    "\n",
    "lr.score(X_val_rfedt,y_val)\n",
    "\n",
    "# Calcultaing RMSE\n",
    "\n",
    "from sklearn.metrics import mean_squared_error\n",
    "\n",
    "print(mean_squared_error(y_train,lr.predict(X_train_rfedt),squared=False))\n",
    "\n",
    "print(mean_squared_error(y_val,lr.predict(X_val_rfedt),squared=False))\n",
    "\n",
    "## Trying with all the models\n",
    "\n",
    "results = []\n",
    "names = []\n",
    "for name,model in models:\n",
    "    kfold=KFold(shuffle=True,n_splits=5,random_state=3)\n",
    "    cv_results=cross_val_score(model,X_train_rfedt,y_train,cv=kfold,scoring='neg_mean_squared_error')\n",
    "    results.append(np.sqrt(np.abs(cv_results)))\n",
    "    names.append(name)\n",
    "    print('%s: %f (%f)'%(name,np.mean(np.sqrt(np.abs(cv_results))),np.std(np.sqrt(np.abs(cv_results)),ddof=1)))\n",
    "\n"
   ]
  },
  {
   "cell_type": "markdown",
   "metadata": {},
   "source": [
    "With DT as estimator in the RFE, it does not perform better than the LR. Thus, we go with LR as the bas estimator for RFE"
   ]
  },
  {
   "cell_type": "markdown",
   "metadata": {},
   "source": [
    "### Trying RFE CV"
   ]
  },
  {
   "cell_type": "code",
   "execution_count": 31,
   "metadata": {},
   "outputs": [],
   "source": [
    "from sklearn.feature_selection import RFECV"
   ]
  },
  {
   "cell_type": "code",
   "execution_count": 50,
   "metadata": {},
   "outputs": [
    {
     "data": {
      "text/plain": [
       "RFECV(cv=5,\n",
       "      estimator=LinearRegression(copy_X=True, fit_intercept=True, n_jobs=None,\n",
       "                                 normalize=False),\n",
       "      min_features_to_select=1, n_jobs=None, scoring='neg_mean_squared_error',\n",
       "      step=1, verbose=0)"
      ]
     },
     "execution_count": 50,
     "metadata": {},
     "output_type": "execute_result"
    }
   ],
   "source": [
    "rfecv=RFECV(estimator=lr,step=1,cv=5,scoring='neg_mean_squared_error')\n",
    "rfecv.fit(X_train,y_train)"
   ]
  },
  {
   "cell_type": "code",
   "execution_count": 51,
   "metadata": {},
   "outputs": [
    {
     "name": "stdout",
     "output_type": "stream",
     "text": [
      "Optimal number of features:  28\n",
      "Best Features:  Index(['10percentage', '12percentage', 'collegeGPA', 'GraduationYear',\n",
      "       'English', 'Quant', 'conscientiousness', 'extraversion', 'nueroticism',\n",
      "       'openess_to_experience', 'Marks_Percent', 'BirthYr', 'Gender',\n",
      "       '10board', 'CollegeTier', 'Degree', 'CollegeID_cat', 'x0_Central',\n",
      "       'x0_East', 'x0_North', 'x0_Other', 'x0_West', 'x1_Civil', 'x1_Computer',\n",
      "       'x1_Electrical', 'x1_Electronics', 'x1_Mechanical', 'x1_Other'],\n",
      "      dtype='object')\n"
     ]
    }
   ],
   "source": [
    "print('Optimal number of features: ',rfecv.n_features_)\n",
    "print('Best Features: ',X_train.columns[rfecv.support_])"
   ]
  },
  {
   "cell_type": "code",
   "execution_count": 52,
   "metadata": {},
   "outputs": [
    {
     "data": {
      "text/plain": [
       "array([1, 3, 1, 1, 1, 1, 4, 1, 6, 1, 7, 1, 1, 1, 1, 1, 1, 1, 2, 1, 1, 8,\n",
       "       1, 1, 1, 1, 1, 5, 1, 1, 1, 1, 1, 9, 1, 1])"
      ]
     },
     "execution_count": 52,
     "metadata": {},
     "output_type": "execute_result"
    }
   ],
   "source": [
    "rfecv.ranking_"
   ]
  },
  {
   "cell_type": "code",
   "execution_count": 53,
   "metadata": {},
   "outputs": [
    {
     "data": {
      "text/plain": [
       "array([ True, False,  True,  True,  True,  True, False,  True, False,\n",
       "        True, False,  True,  True,  True,  True,  True,  True,  True,\n",
       "       False,  True,  True, False,  True,  True,  True,  True,  True,\n",
       "       False,  True,  True,  True,  True,  True, False,  True,  True])"
      ]
     },
     "execution_count": 53,
     "metadata": {},
     "output_type": "execute_result"
    }
   ],
   "source": [
    "rfecv.support_"
   ]
  },
  {
   "cell_type": "code",
   "execution_count": 54,
   "metadata": {},
   "outputs": [
    {
     "data": {
      "text/plain": [
       "array([-0.27701863, -0.26624123, -0.25107086, -0.24242832, -0.23651292,\n",
       "       -0.2319707 , -0.23118059, -0.22722092, -0.22659295, -0.22184717,\n",
       "       -0.22181019, -0.21924181, -0.2188378 , -0.21694377, -0.21645249,\n",
       "       -0.21553   , -0.21566461, -0.21572376, -0.21507635, -0.21475578,\n",
       "       -0.21472303, -0.21472168, -0.21442423, -0.21416363, -0.21394863,\n",
       "       -0.21408682, -0.213954  , -0.21387477, -0.21392932, -0.21399738,\n",
       "       -0.2141431 , -0.21417759, -0.21418863, -0.21415496, -0.21414924,\n",
       "       -0.21414928])"
      ]
     },
     "execution_count": 54,
     "metadata": {},
     "output_type": "execute_result"
    }
   ],
   "source": [
    "rfecv.grid_scores_"
   ]
  },
  {
   "cell_type": "markdown",
   "metadata": {},
   "source": [
    "With RFECV, 28 features are selected"
   ]
  },
  {
   "cell_type": "code",
   "execution_count": 55,
   "metadata": {},
   "outputs": [],
   "source": [
    "#Plotting the grid scores"
   ]
  },
  {
   "cell_type": "code",
   "execution_count": 56,
   "metadata": {},
   "outputs": [
    {
     "data": {
      "text/plain": [
       "[<matplotlib.lines.Line2D at 0x1875addb348>]"
      ]
     },
     "execution_count": 56,
     "metadata": {},
     "output_type": "execute_result"
    },
    {
     "data": {
      "image/png": "[encoded data removed]",
      "text/plain": [
       "<Figure size 432x288 with 1 Axes>"
      ]
     },
     "metadata": {
      "needs_background": "light"
     },
     "output_type": "display_data"
    }
   ],
   "source": [
    "plt.plot(range(1,len(rfecv.grid_scores_)+1),rfecv.grid_scores_)"
   ]
  },
  {
   "cell_type": "markdown",
   "metadata": {},
   "source": [
    "We observe that after 28 attributes, the mean squared error goes on increasing. Thus, with these selected features we can go ahead and fit the model check if it performs better."
   ]
  },
  {
   "cell_type": "code",
   "execution_count": 57,
   "metadata": {},
   "outputs": [],
   "source": [
    "X_train_rfecv=rfecv.transform(X_train)\n",
    "X_val_rfecv=rfecv.transform(X_val)\n",
    "X_test_rfecv=rfecv.transform(X_test)"
   ]
  },
  {
   "cell_type": "code",
   "execution_count": null,
   "metadata": {},
   "outputs": [],
   "source": []
  },
  {
   "cell_type": "markdown",
   "metadata": {},
   "source": [
    "### Fitting all the models"
   ]
  },
  {
   "cell_type": "code",
   "execution_count": 58,
   "metadata": {},
   "outputs": [
    {
     "name": "stdout",
     "output_type": "stream",
     "text": [
      "Linear: 0.460643 (0.026288)\n",
      "DTR: 0.677783 (0.022103)\n",
      "RFR: 0.473762 (0.023731)\n",
      "ADA: 0.503842 (0.018126)\n",
      "GB: 0.469298 (0.021531)\n",
      "KNN: 0.509822 (0.025243)\n",
      "GNB: nan (nan)\n"
     ]
    }
   ],
   "source": [
    "results = []\n",
    "names = []\n",
    "for name,model in models:\n",
    "    kfold=KFold(shuffle=True,n_splits=5,random_state=3)\n",
    "    cv_results=cross_val_score(model,X_train_rfecv,y_train,cv=kfold,scoring='neg_mean_squared_error')\n",
    "    results.append(np.sqrt(np.abs(cv_results)))\n",
    "    names.append(name)\n",
    "    print('%s: %f (%f)'%(name,np.mean(np.sqrt(np.abs(cv_results))),np.std(np.sqrt(np.abs(cv_results)),ddof=1)))"
   ]
  },
  {
   "cell_type": "code",
   "execution_count": null,
   "metadata": {},
   "outputs": [],
   "source": []
  },
  {
   "cell_type": "markdown",
   "metadata": {},
   "source": [
    "1. Thus from above, we observe that the GB and LR perform the best with 18 features i.e. RFE\n",
    "2. We shall further hyper tune the GB model and check if it gives better result.\n",
    "3. Also, we can try with polynomial regression"
   ]
  },
  {
   "cell_type": "markdown",
   "metadata": {},
   "source": [
    "### Hyperparameter tuning of Gradient Boost"
   ]
  },
  {
   "cell_type": "code",
   "execution_count": 65,
   "metadata": {},
   "outputs": [],
   "source": [
    "GB_bias=[]\n",
    "GB_var=[]\n",
    "for n in np.arange(1,100):\n",
    "    gb=GradientBoostingRegressor(n_estimators=n,random_state=3)\n",
    "    scores=cross_val_score(gb,X_train_rfe,y_train,cv=5,scoring='neg_mean_squared_error')\n",
    "    rmse=np.sqrt(np.abs(scores))\n",
    "    GB_bias.append(np.mean(rmse))\n",
    "    GB_var.append(np.std(rmse,ddof=1))"
   ]
  },
  {
   "cell_type": "code",
   "execution_count": 66,
   "metadata": {},
   "outputs": [
    {
     "data": {
      "text/plain": [
       "(52, 79)"
      ]
     },
     "execution_count": 66,
     "metadata": {},
     "output_type": "execute_result"
    }
   ],
   "source": [
    "np.argmin(GB_bias),np.argmin(GB_var)"
   ]
  },
  {
   "cell_type": "code",
   "execution_count": 67,
   "metadata": {},
   "outputs": [],
   "source": [
    "gb=GradientBoostingRegressor(n_estimators=53,random_state=3)"
   ]
  },
  {
   "cell_type": "code",
   "execution_count": 68,
   "metadata": {},
   "outputs": [
    {
     "name": "stdout",
     "output_type": "stream",
     "text": [
      "GNB: 0.468014 (0.020604)\n"
     ]
    }
   ],
   "source": [
    "kfold=KFold(shuffle=True,n_splits=5,random_state=3)\n",
    "cv_results=cross_val_score(gb,X_train_rfe,y_train,cv=kfold,scoring='neg_mean_squared_error')\n",
    "print('%s: %f (%f)'%(name,np.mean(np.sqrt(np.abs(cv_results))),np.std(np.sqrt(np.abs(cv_results)),ddof=1)))"
   ]
  },
  {
   "cell_type": "code",
   "execution_count": 104,
   "metadata": {},
   "outputs": [],
   "source": [
    "gb=GradientBoostingRegressor(n_estimators=53,random_state=3) "
   ]
  },
  {
   "cell_type": "code",
   "execution_count": 105,
   "metadata": {},
   "outputs": [
    {
     "data": {
      "text/plain": [
       "GradientBoostingRegressor(alpha=0.9, ccp_alpha=0.0, criterion='friedman_mse',\n",
       "                          init=None, learning_rate=0.1, loss='ls', max_depth=3,\n",
       "                          max_features=None, max_leaf_nodes=None,\n",
       "                          min_impurity_decrease=0.0, min_impurity_split=None,\n",
       "                          min_samples_leaf=1, min_samples_split=2,\n",
       "                          min_weight_fraction_leaf=0.0, n_estimators=53,\n",
       "                          n_iter_no_change=None, presort='deprecated',\n",
       "                          random_state=3, subsample=1.0, tol=0.0001,\n",
       "                          validation_fraction=0.1, verbose=0, warm_start=False)"
      ]
     },
     "execution_count": 105,
     "metadata": {},
     "output_type": "execute_result"
    }
   ],
   "source": [
    "gb.fit(X_train_rfe,y_train)"
   ]
  },
  {
   "cell_type": "code",
   "execution_count": 106,
   "metadata": {},
   "outputs": [
    {
     "data": {
      "text/plain": [
       "0.3427157965852554"
      ]
     },
     "execution_count": 106,
     "metadata": {},
     "output_type": "execute_result"
    }
   ],
   "source": [
    "gb.score(X_train_rfe,y_train)"
   ]
  },
  {
   "cell_type": "code",
   "execution_count": 107,
   "metadata": {},
   "outputs": [
    {
     "data": {
      "text/plain": [
       "0.23577915581806597"
      ]
     },
     "execution_count": 107,
     "metadata": {},
     "output_type": "execute_result"
    }
   ],
   "source": [
    "gb.score(X_val_rfe,y_val)"
   ]
  },
  {
   "cell_type": "markdown",
   "metadata": {},
   "source": [
    "### Trying the Polynomial Regression"
   ]
  },
  {
   "cell_type": "code",
   "execution_count": 108,
   "metadata": {},
   "outputs": [],
   "source": [
    "from sklearn.preprocessing import PolynomialFeatures"
   ]
  },
  {
   "cell_type": "code",
   "execution_count": 112,
   "metadata": {},
   "outputs": [],
   "source": [
    "poly=PolynomialFeatures(interaction_only=True)"
   ]
  },
  {
   "cell_type": "code",
   "execution_count": 113,
   "metadata": {},
   "outputs": [],
   "source": [
    "X_train_poly=poly.fit_transform(X_train)"
   ]
  },
  {
   "cell_type": "code",
   "execution_count": 114,
   "metadata": {},
   "outputs": [
    {
     "data": {
      "text/plain": [
       "(3198, 667)"
      ]
     },
     "execution_count": 114,
     "metadata": {},
     "output_type": "execute_result"
    }
   ],
   "source": [
    "X_train_poly.shape"
   ]
  },
  {
   "cell_type": "code",
   "execution_count": 115,
   "metadata": {},
   "outputs": [
    {
     "name": "stdout",
     "output_type": "stream",
     "text": [
      "Linear: 3089184380.976680 (1205771071.412266)\n",
      "DTR: 0.684288 (0.014165)\n",
      "RFR: 0.475280 (0.025089)\n",
      "ADA: 0.514963 (0.026883)\n",
      "GB: 0.474410 (0.020619)\n",
      "KNN: 0.511880 (0.024676)\n",
      "GNB: nan (nan)\n"
     ]
    }
   ],
   "source": [
    "results = []\n",
    "names = []\n",
    "for name,model in models:\n",
    "    kfold=KFold(shuffle=True,n_splits=5,random_state=3)\n",
    "    cv_results=cross_val_score(model,X_train_poly,y_train,cv=kfold,scoring='neg_mean_squared_error')\n",
    "    results.append(np.sqrt(np.abs(cv_results)))\n",
    "    names.append(name)\n",
    "    print('%s: %f (%f)'%(name,np.mean(np.sqrt(np.abs(cv_results))),np.std(np.sqrt(np.abs(cv_results)),ddof=1)))"
   ]
  },
  {
   "cell_type": "markdown",
   "metadata": {},
   "source": [
    "Applying the Polynomial regression also doesn't make any change in the bias errors and variance errors values"
   ]
  },
  {
   "cell_type": "markdown",
   "metadata": {},
   "source": [
    "### Applying RFECV on the Polynomial features."
   ]
  },
  {
   "cell_type": "code",
   "execution_count": 116,
   "metadata": {},
   "outputs": [
    {
     "data": {
      "text/plain": [
       "RFECV(cv=5,\n",
       "      estimator=LinearRegression(copy_X=True, fit_intercept=True, n_jobs=None,\n",
       "                                 normalize=False),\n",
       "      min_features_to_select=1, n_jobs=None, scoring='neg_mean_squared_error',\n",
       "      step=1, verbose=0)"
      ]
     },
     "execution_count": 116,
     "metadata": {},
     "output_type": "execute_result"
    }
   ],
   "source": [
    "rfecv.fit(X_train_poly,y_train)"
   ]
  },
  {
   "cell_type": "code",
   "execution_count": 119,
   "metadata": {},
   "outputs": [
    {
     "name": "stdout",
     "output_type": "stream",
     "text": [
      "Optimal number of features:  30\n"
     ]
    }
   ],
   "source": [
    "print('Optimal number of features: ',rfecv.n_features_)\n",
    "#print('Best Features: ',X_train_poly.columns[rfecv.support_])"
   ]
  },
  {
   "cell_type": "code",
   "execution_count": 120,
   "metadata": {},
   "outputs": [
    {
     "data": {
      "text/plain": [
       "[<matplotlib.lines.Line2D at 0x1875bf0ccc8>]"
      ]
     },
     "execution_count": 120,
     "metadata": {},
     "output_type": "execute_result"
    },
    {
     "data": {
      "image/png": "[encoded data removed]",
      "text/plain": [
       "<Figure size 432x288 with 1 Axes>"
      ]
     },
     "metadata": {
      "needs_background": "light"
     },
     "output_type": "display_data"
    }
   ],
   "source": [
    "plt.plot(range(1,len(rfecv.grid_scores_)+1),rfecv.grid_scores_)"
   ]
  },
  {
   "cell_type": "code",
   "execution_count": 122,
   "metadata": {},
   "outputs": [],
   "source": [
    "X_train_rfecvpoly=rfecv.transform(X_train_poly)"
   ]
  },
  {
   "cell_type": "code",
   "execution_count": 123,
   "metadata": {},
   "outputs": [
    {
     "name": "stdout",
     "output_type": "stream",
     "text": [
      "Linear: 0.473614 (0.020743)\n",
      "DTR: 0.687381 (0.030489)\n",
      "RFR: 0.496726 (0.018574)\n",
      "ADA: 0.504083 (0.018409)\n",
      "GB: 0.477354 (0.019587)\n",
      "KNN: 0.515559 (0.028563)\n",
      "GNB: nan (nan)\n"
     ]
    }
   ],
   "source": [
    "results = []\n",
    "names = []\n",
    "for name,model in models:\n",
    "    kfold=KFold(shuffle=True,n_splits=5,random_state=3)\n",
    "    cv_results=cross_val_score(model,X_train_rfecvpoly,y_train,cv=kfold,scoring='neg_mean_squared_error')\n",
    "    results.append(np.sqrt(np.abs(cv_results)))\n",
    "    names.append(name)\n",
    "    print('%s: %f (%f)'%(name,np.mean(np.sqrt(np.abs(cv_results))),np.std(np.sqrt(np.abs(cv_results)),ddof=1)))"
   ]
  },
  {
   "cell_type": "markdown",
   "metadata": {},
   "source": [
    "We see that with the Polynomial regression also the bias error doesn't decrease. Thus, we go with the model Gradient Boost Regressor with 53 estimators and 18 features"
   ]
  },
  {
   "cell_type": "markdown",
   "metadata": {},
   "source": [
    "## Final Model"
   ]
  },
  {
   "cell_type": "code",
   "execution_count": 128,
   "metadata": {},
   "outputs": [
    {
     "data": {
      "text/plain": [
       "GradientBoostingRegressor(alpha=0.9, ccp_alpha=0.0, criterion='friedman_mse',\n",
       "                          init=None, learning_rate=0.1, loss='ls', max_depth=3,\n",
       "                          max_features=None, max_leaf_nodes=None,\n",
       "                          min_impurity_decrease=0.0, min_impurity_split=None,\n",
       "                          min_samples_leaf=1, min_samples_split=2,\n",
       "                          min_weight_fraction_leaf=0.0, n_estimators=53,\n",
       "                          n_iter_no_change=None, presort='deprecated',\n",
       "                          random_state=3, subsample=1.0, tol=0.0001,\n",
       "                          validation_fraction=0.1, verbose=0, warm_start=False)"
      ]
     },
     "execution_count": 128,
     "metadata": {},
     "output_type": "execute_result"
    }
   ],
   "source": [
    "gb=GradientBoostingRegressor(n_estimators=53,random_state=3)\n",
    "gb.fit(X_train_rfe,y_train)"
   ]
  },
  {
   "cell_type": "code",
   "execution_count": 129,
   "metadata": {},
   "outputs": [
    {
     "data": {
      "text/plain": [
       "0.43432494081697764"
      ]
     },
     "execution_count": 129,
     "metadata": {},
     "output_type": "execute_result"
    }
   ],
   "source": [
    "mean_squared_error(y_train,gb.predict(X_train_rfe),squared=False)"
   ]
  },
  {
   "cell_type": "code",
   "execution_count": 130,
   "metadata": {},
   "outputs": [
    {
     "data": {
      "text/plain": [
       "0.5007288149872817"
      ]
     },
     "execution_count": 130,
     "metadata": {},
     "output_type": "execute_result"
    }
   ],
   "source": [
    "mean_squared_error(y_val,gb.predict(X_val_rfe),squared=False)"
   ]
  },
  {
   "cell_type": "code",
   "execution_count": 131,
   "metadata": {},
   "outputs": [
    {
     "data": {
      "text/plain": [
       "0.3427157965852554"
      ]
     },
     "execution_count": 131,
     "metadata": {},
     "output_type": "execute_result"
    }
   ],
   "source": [
    "gb.score(X_train_rfe,y_train)"
   ]
  },
  {
   "cell_type": "code",
   "execution_count": 132,
   "metadata": {},
   "outputs": [
    {
     "data": {
      "text/plain": [
       "0.23577915581806597"
      ]
     },
     "execution_count": 132,
     "metadata": {},
     "output_type": "execute_result"
    }
   ],
   "source": [
    "gb.score(X_val_rfe,y_val)"
   ]
  },
  {
   "cell_type": "markdown",
   "metadata": {},
   "source": [
    "Thus, we see that model is underfit. "
   ]
  },
  {
   "cell_type": "code",
   "execution_count": 133,
   "metadata": {},
   "outputs": [],
   "source": [
    "y_pred=gb.predict(X_test_rfe)"
   ]
  },
  {
   "cell_type": "code",
   "execution_count": 134,
   "metadata": {},
   "outputs": [
    {
     "data": {
      "text/plain": [
       "array([12.42015414, 12.63160095, 12.92136755, ..., 12.9238215 ,\n",
       "       12.272448  , 12.25119408])"
      ]
     },
     "execution_count": 134,
     "metadata": {},
     "output_type": "execute_result"
    }
   ],
   "source": [
    "y_pred"
   ]
  },
  {
   "cell_type": "code",
   "execution_count": 135,
   "metadata": {},
   "outputs": [],
   "source": [
    "output=pd.DataFrame()"
   ]
  },
  {
   "cell_type": "code",
   "execution_count": 136,
   "metadata": {},
   "outputs": [],
   "source": [
    "output['y_pred(log)']=y_pred"
   ]
  },
  {
   "cell_type": "code",
   "execution_count": 137,
   "metadata": {},
   "outputs": [],
   "source": [
    "output['y_value']=np.exp(output['y_pred(log)'].values)"
   ]
  },
  {
   "cell_type": "code",
   "execution_count": 139,
   "metadata": {},
   "outputs": [
    {
     "data": {
      "text/html": [
       "<div>\n",
       "<style scoped>\n",
       "    .dataframe tbody tr th:only-of-type {\n",
       "        vertical-align: middle;\n",
       "    }\n",
       "\n",
       "    .dataframe tbody tr th {\n",
       "        vertical-align: top;\n",
       "    }\n",
       "\n",
       "    .dataframe thead th {\n",
       "        text-align: right;\n",
       "    }\n",
       "</style>\n",
       "<table border=\"1\" class=\"dataframe\">\n",
       "  <thead>\n",
       "    <tr style=\"text-align: right;\">\n",
       "      <th></th>\n",
       "      <th>y_pred(log)</th>\n",
       "      <th>y_value</th>\n",
       "    </tr>\n",
       "  </thead>\n",
       "  <tbody>\n",
       "    <tr>\n",
       "      <td>0</td>\n",
       "      <td>12.420154</td>\n",
       "      <td>247744.720897</td>\n",
       "    </tr>\n",
       "    <tr>\n",
       "      <td>1</td>\n",
       "      <td>12.631601</td>\n",
       "      <td>306079.743864</td>\n",
       "    </tr>\n",
       "    <tr>\n",
       "      <td>2</td>\n",
       "      <td>12.921368</td>\n",
       "      <td>408957.922519</td>\n",
       "    </tr>\n",
       "    <tr>\n",
       "      <td>3</td>\n",
       "      <td>12.256895</td>\n",
       "      <td>210427.144376</td>\n",
       "    </tr>\n",
       "    <tr>\n",
       "      <td>4</td>\n",
       "      <td>12.734205</td>\n",
       "      <td>339152.374660</td>\n",
       "    </tr>\n",
       "    <tr>\n",
       "      <td>...</td>\n",
       "      <td>...</td>\n",
       "      <td>...</td>\n",
       "    </tr>\n",
       "    <tr>\n",
       "      <td>1495</td>\n",
       "      <td>12.784851</td>\n",
       "      <td>356771.427560</td>\n",
       "    </tr>\n",
       "    <tr>\n",
       "      <td>1496</td>\n",
       "      <td>12.694446</td>\n",
       "      <td>325932.655065</td>\n",
       "    </tr>\n",
       "    <tr>\n",
       "      <td>1497</td>\n",
       "      <td>12.923822</td>\n",
       "      <td>409962.718499</td>\n",
       "    </tr>\n",
       "    <tr>\n",
       "      <td>1498</td>\n",
       "      <td>12.272448</td>\n",
       "      <td>213725.550540</td>\n",
       "    </tr>\n",
       "    <tr>\n",
       "      <td>1499</td>\n",
       "      <td>12.251194</td>\n",
       "      <td>209230.977843</td>\n",
       "    </tr>\n",
       "  </tbody>\n",
       "</table>\n",
       "<p>1500 rows × 2 columns</p>\n",
       "</div>"
      ],
      "text/plain": [
       "      y_pred(log)        y_value\n",
       "0       12.420154  247744.720897\n",
       "1       12.631601  306079.743864\n",
       "2       12.921368  408957.922519\n",
       "3       12.256895  210427.144376\n",
       "4       12.734205  339152.374660\n",
       "...           ...            ...\n",
       "1495    12.784851  356771.427560\n",
       "1496    12.694446  325932.655065\n",
       "1497    12.923822  409962.718499\n",
       "1498    12.272448  213725.550540\n",
       "1499    12.251194  209230.977843\n",
       "\n",
       "[1500 rows x 2 columns]"
      ]
     },
     "execution_count": 139,
     "metadata": {},
     "output_type": "execute_result"
    }
   ],
   "source": [
    "output"
   ]
  },
  {
   "cell_type": "code",
   "execution_count": 140,
   "metadata": {},
   "outputs": [],
   "source": [
    "output.to_excel('output_result.xlsx')"
   ]
  },
  {
   "cell_type": "code",
   "execution_count": null,
   "metadata": {},
   "outputs": [],
   "source": []
  },
  {
   "cell_type": "markdown",
   "metadata": {},
   "source": [
    "### Aplying K Means Clustering on the X_train\n",
    "1. This can help us to figure out what kind of students are grouped in one cluster"
   ]
  },
  {
   "cell_type": "code",
   "execution_count": 197,
   "metadata": {},
   "outputs": [
    {
     "data": {
      "text/html": [
       "<div>\n",
       "<style scoped>\n",
       "    .dataframe tbody tr th:only-of-type {\n",
       "        vertical-align: middle;\n",
       "    }\n",
       "\n",
       "    .dataframe tbody tr th {\n",
       "        vertical-align: top;\n",
       "    }\n",
       "\n",
       "    .dataframe thead th {\n",
       "        text-align: right;\n",
       "    }\n",
       "</style>\n",
       "<table border=\"1\" class=\"dataframe\">\n",
       "  <thead>\n",
       "    <tr style=\"text-align: right;\">\n",
       "      <th></th>\n",
       "      <th>10percentage</th>\n",
       "      <th>12graduation</th>\n",
       "      <th>12percentage</th>\n",
       "      <th>collegeGPA</th>\n",
       "      <th>GraduationYear</th>\n",
       "      <th>English</th>\n",
       "      <th>Logical</th>\n",
       "      <th>Quant</th>\n",
       "      <th>Domain</th>\n",
       "      <th>conscientiousness</th>\n",
       "      <th>...</th>\n",
       "      <th>x0_Other</th>\n",
       "      <th>x0_South</th>\n",
       "      <th>x0_West</th>\n",
       "      <th>x1_Civil</th>\n",
       "      <th>x1_Computer</th>\n",
       "      <th>x1_Electrical</th>\n",
       "      <th>x1_Electronics</th>\n",
       "      <th>x1_Information</th>\n",
       "      <th>x1_Mechanical</th>\n",
       "      <th>x1_Other</th>\n",
       "    </tr>\n",
       "  </thead>\n",
       "  <tbody>\n",
       "    <tr>\n",
       "      <td>0</td>\n",
       "      <td>-1.594729</td>\n",
       "      <td>-0.060884</td>\n",
       "      <td>-1.289013</td>\n",
       "      <td>-0.449715</td>\n",
       "      <td>0.298099</td>\n",
       "      <td>-0.025494</td>\n",
       "      <td>0.908879</td>\n",
       "      <td>-1.102470</td>\n",
       "      <td>-0.463084</td>\n",
       "      <td>0.666113</td>\n",
       "      <td>...</td>\n",
       "      <td>0</td>\n",
       "      <td>0</td>\n",
       "      <td>1</td>\n",
       "      <td>0</td>\n",
       "      <td>0</td>\n",
       "      <td>0</td>\n",
       "      <td>0</td>\n",
       "      <td>1</td>\n",
       "      <td>0</td>\n",
       "      <td>0</td>\n",
       "    </tr>\n",
       "    <tr>\n",
       "      <td>1</td>\n",
       "      <td>-0.988370</td>\n",
       "      <td>-3.734606</td>\n",
       "      <td>-2.677765</td>\n",
       "      <td>0.995427</td>\n",
       "      <td>-2.764775</td>\n",
       "      <td>2.023005</td>\n",
       "      <td>0.159326</td>\n",
       "      <td>2.383352</td>\n",
       "      <td>1.472533</td>\n",
       "      <td>1.002366</td>\n",
       "      <td>...</td>\n",
       "      <td>0</td>\n",
       "      <td>0</td>\n",
       "      <td>1</td>\n",
       "      <td>0</td>\n",
       "      <td>1</td>\n",
       "      <td>0</td>\n",
       "      <td>0</td>\n",
       "      <td>0</td>\n",
       "      <td>0</td>\n",
       "      <td>0</td>\n",
       "    </tr>\n",
       "  </tbody>\n",
       "</table>\n",
       "<p>2 rows × 36 columns</p>\n",
       "</div>"
      ],
      "text/plain": [
       "   10percentage  12graduation  12percentage  collegeGPA  GraduationYear  \\\n",
       "0     -1.594729     -0.060884     -1.289013   -0.449715        0.298099   \n",
       "1     -0.988370     -3.734606     -2.677765    0.995427       -2.764775   \n",
       "\n",
       "    English   Logical     Quant    Domain  conscientiousness  ...  x0_Other  \\\n",
       "0 -0.025494  0.908879 -1.102470 -0.463084           0.666113  ...         0   \n",
       "1  2.023005  0.159326  2.383352  1.472533           1.002366  ...         0   \n",
       "\n",
       "   x0_South  x0_West  x1_Civil  x1_Computer  x1_Electrical  x1_Electronics  \\\n",
       "0         0        1         0            0              0               0   \n",
       "1         0        1         0            1              0               0   \n",
       "\n",
       "   x1_Information  x1_Mechanical  x1_Other  \n",
       "0               1              0         0  \n",
       "1               0              0         0  \n",
       "\n",
       "[2 rows x 36 columns]"
      ]
     },
     "execution_count": 197,
     "metadata": {},
     "output_type": "execute_result"
    }
   ],
   "source": [
    "X_train.head(2)"
   ]
  },
  {
   "cell_type": "code",
   "execution_count": 198,
   "metadata": {},
   "outputs": [
    {
     "data": {
      "text/html": [
       "<div>\n",
       "<style scoped>\n",
       "    .dataframe tbody tr th:only-of-type {\n",
       "        vertical-align: middle;\n",
       "    }\n",
       "\n",
       "    .dataframe tbody tr th {\n",
       "        vertical-align: top;\n",
       "    }\n",
       "\n",
       "    .dataframe thead th {\n",
       "        text-align: right;\n",
       "    }\n",
       "</style>\n",
       "<table border=\"1\" class=\"dataframe\">\n",
       "  <thead>\n",
       "    <tr style=\"text-align: right;\">\n",
       "      <th></th>\n",
       "      <th>10percentage</th>\n",
       "      <th>12graduation</th>\n",
       "      <th>12percentage</th>\n",
       "      <th>collegeGPA</th>\n",
       "      <th>GraduationYear</th>\n",
       "      <th>English</th>\n",
       "      <th>Logical</th>\n",
       "      <th>Quant</th>\n",
       "      <th>Domain</th>\n",
       "      <th>conscientiousness</th>\n",
       "      <th>...</th>\n",
       "      <th>x0_Other</th>\n",
       "      <th>x0_South</th>\n",
       "      <th>x0_West</th>\n",
       "      <th>x1_Civil</th>\n",
       "      <th>x1_Computer</th>\n",
       "      <th>x1_Electrical</th>\n",
       "      <th>x1_Electronics</th>\n",
       "      <th>x1_Information</th>\n",
       "      <th>x1_Mechanical</th>\n",
       "      <th>x1_Other</th>\n",
       "    </tr>\n",
       "  </thead>\n",
       "  <tbody>\n",
       "    <tr>\n",
       "      <td>0</td>\n",
       "      <td>-0.48307</td>\n",
       "      <td>-1.897745</td>\n",
       "      <td>-0.274859</td>\n",
       "      <td>1.089969</td>\n",
       "      <td>-1.233338</td>\n",
       "      <td>0.403261</td>\n",
       "      <td>1.889064</td>\n",
       "      <td>-0.651364</td>\n",
       "      <td>1.103312</td>\n",
       "      <td>-1.385580</td>\n",
       "      <td>...</td>\n",
       "      <td>0</td>\n",
       "      <td>0</td>\n",
       "      <td>1</td>\n",
       "      <td>0</td>\n",
       "      <td>1</td>\n",
       "      <td>0</td>\n",
       "      <td>0</td>\n",
       "      <td>0</td>\n",
       "      <td>0</td>\n",
       "      <td>0</td>\n",
       "    </tr>\n",
       "    <tr>\n",
       "      <td>1</td>\n",
       "      <td>-0.36584</td>\n",
       "      <td>-0.060884</td>\n",
       "      <td>-0.759095</td>\n",
       "      <td>0.406565</td>\n",
       "      <td>1.063817</td>\n",
       "      <td>-0.025494</td>\n",
       "      <td>0.793563</td>\n",
       "      <td>-0.405306</td>\n",
       "      <td>0.511371</td>\n",
       "      <td>1.400731</td>\n",
       "      <td>...</td>\n",
       "      <td>0</td>\n",
       "      <td>0</td>\n",
       "      <td>0</td>\n",
       "      <td>0</td>\n",
       "      <td>1</td>\n",
       "      <td>0</td>\n",
       "      <td>0</td>\n",
       "      <td>0</td>\n",
       "      <td>0</td>\n",
       "      <td>0</td>\n",
       "    </tr>\n",
       "  </tbody>\n",
       "</table>\n",
       "<p>2 rows × 36 columns</p>\n",
       "</div>"
      ],
      "text/plain": [
       "   10percentage  12graduation  12percentage  collegeGPA  GraduationYear  \\\n",
       "0      -0.48307     -1.897745     -0.274859    1.089969       -1.233338   \n",
       "1      -0.36584     -0.060884     -0.759095    0.406565        1.063817   \n",
       "\n",
       "    English   Logical     Quant    Domain  conscientiousness  ...  x0_Other  \\\n",
       "0  0.403261  1.889064 -0.651364  1.103312          -1.385580  ...         0   \n",
       "1 -0.025494  0.793563 -0.405306  0.511371           1.400731  ...         0   \n",
       "\n",
       "   x0_South  x0_West  x1_Civil  x1_Computer  x1_Electrical  x1_Electronics  \\\n",
       "0         0        1         0            1              0               0   \n",
       "1         0        0         0            1              0               0   \n",
       "\n",
       "   x1_Information  x1_Mechanical  x1_Other  \n",
       "0               0              0         0  \n",
       "1               0              0         0  \n",
       "\n",
       "[2 rows x 36 columns]"
      ]
     },
     "execution_count": 198,
     "metadata": {},
     "output_type": "execute_result"
    }
   ],
   "source": [
    "X_val.head(2)"
   ]
  },
  {
   "cell_type": "code",
   "execution_count": 199,
   "metadata": {},
   "outputs": [
    {
     "data": {
      "text/html": [
       "<div>\n",
       "<style scoped>\n",
       "    .dataframe tbody tr th:only-of-type {\n",
       "        vertical-align: middle;\n",
       "    }\n",
       "\n",
       "    .dataframe tbody tr th {\n",
       "        vertical-align: top;\n",
       "    }\n",
       "\n",
       "    .dataframe thead th {\n",
       "        text-align: right;\n",
       "    }\n",
       "</style>\n",
       "<table border=\"1\" class=\"dataframe\">\n",
       "  <thead>\n",
       "    <tr style=\"text-align: right;\">\n",
       "      <th></th>\n",
       "      <th>10percentage</th>\n",
       "      <th>12graduation</th>\n",
       "      <th>12percentage</th>\n",
       "      <th>collegeGPA</th>\n",
       "      <th>GraduationYear</th>\n",
       "      <th>English</th>\n",
       "      <th>Logical</th>\n",
       "      <th>Quant</th>\n",
       "      <th>Domain</th>\n",
       "      <th>conscientiousness</th>\n",
       "      <th>...</th>\n",
       "      <th>x0_Other</th>\n",
       "      <th>x0_South</th>\n",
       "      <th>x0_West</th>\n",
       "      <th>x1_Civil</th>\n",
       "      <th>x1_Computer</th>\n",
       "      <th>x1_Electrical</th>\n",
       "      <th>x1_Electronics</th>\n",
       "      <th>x1_Information</th>\n",
       "      <th>x1_Mechanical</th>\n",
       "      <th>x1_Other</th>\n",
       "    </tr>\n",
       "  </thead>\n",
       "  <tbody>\n",
       "    <tr>\n",
       "      <td>0</td>\n",
       "      <td>-0.28095</td>\n",
       "      <td>0.551403</td>\n",
       "      <td>-0.028173</td>\n",
       "      <td>-0.598281</td>\n",
       "      <td>0.298099</td>\n",
       "      <td>0.069785</td>\n",
       "      <td>-0.474912</td>\n",
       "      <td>0.865994</td>\n",
       "      <td>-1.434721</td>\n",
       "      <td>0.169251</td>\n",
       "      <td>...</td>\n",
       "      <td>0</td>\n",
       "      <td>0</td>\n",
       "      <td>0</td>\n",
       "      <td>0</td>\n",
       "      <td>0</td>\n",
       "      <td>0</td>\n",
       "      <td>1</td>\n",
       "      <td>0</td>\n",
       "      <td>0</td>\n",
       "      <td>0</td>\n",
       "    </tr>\n",
       "    <tr>\n",
       "      <td>1</td>\n",
       "      <td>0.52753</td>\n",
       "      <td>0.551403</td>\n",
       "      <td>0.063192</td>\n",
       "      <td>-0.071547</td>\n",
       "      <td>1.063817</td>\n",
       "      <td>0.307982</td>\n",
       "      <td>1.197169</td>\n",
       "      <td>1.153062</td>\n",
       "      <td>-1.999073</td>\n",
       "      <td>0.666113</td>\n",
       "      <td>...</td>\n",
       "      <td>0</td>\n",
       "      <td>0</td>\n",
       "      <td>0</td>\n",
       "      <td>0</td>\n",
       "      <td>0</td>\n",
       "      <td>0</td>\n",
       "      <td>0</td>\n",
       "      <td>1</td>\n",
       "      <td>0</td>\n",
       "      <td>0</td>\n",
       "    </tr>\n",
       "  </tbody>\n",
       "</table>\n",
       "<p>2 rows × 36 columns</p>\n",
       "</div>"
      ],
      "text/plain": [
       "   10percentage  12graduation  12percentage  collegeGPA  GraduationYear  \\\n",
       "0      -0.28095      0.551403     -0.028173   -0.598281        0.298099   \n",
       "1       0.52753      0.551403      0.063192   -0.071547        1.063817   \n",
       "\n",
       "    English   Logical     Quant    Domain  conscientiousness  ...  x0_Other  \\\n",
       "0  0.069785 -0.474912  0.865994 -1.434721           0.169251  ...         0   \n",
       "1  0.307982  1.197169  1.153062 -1.999073           0.666113  ...         0   \n",
       "\n",
       "   x0_South  x0_West  x1_Civil  x1_Computer  x1_Electrical  x1_Electronics  \\\n",
       "0         0        0         0            0              0               1   \n",
       "1         0        0         0            0              0               0   \n",
       "\n",
       "   x1_Information  x1_Mechanical  x1_Other  \n",
       "0               0              0         0  \n",
       "1               1              0         0  \n",
       "\n",
       "[2 rows x 36 columns]"
      ]
     },
     "execution_count": 199,
     "metadata": {},
     "output_type": "execute_result"
    }
   ],
   "source": [
    "X_test.head(2)"
   ]
  },
  {
   "cell_type": "markdown",
   "metadata": {},
   "source": [
    "For clustering, we consider complete data i.e. train,validation and test and make clusters and try to draw insights"
   ]
  },
  {
   "cell_type": "code",
   "execution_count": 200,
   "metadata": {},
   "outputs": [],
   "source": [
    "X=pd.concat([X_train,X_val,X_test],axis=0).reset_index(drop=True)"
   ]
  },
  {
   "cell_type": "code",
   "execution_count": 201,
   "metadata": {},
   "outputs": [
    {
     "data": {
      "text/html": [
       "<div>\n",
       "<style scoped>\n",
       "    .dataframe tbody tr th:only-of-type {\n",
       "        vertical-align: middle;\n",
       "    }\n",
       "\n",
       "    .dataframe tbody tr th {\n",
       "        vertical-align: top;\n",
       "    }\n",
       "\n",
       "    .dataframe thead th {\n",
       "        text-align: right;\n",
       "    }\n",
       "</style>\n",
       "<table border=\"1\" class=\"dataframe\">\n",
       "  <thead>\n",
       "    <tr style=\"text-align: right;\">\n",
       "      <th></th>\n",
       "      <th>10percentage</th>\n",
       "      <th>12graduation</th>\n",
       "      <th>12percentage</th>\n",
       "      <th>collegeGPA</th>\n",
       "      <th>GraduationYear</th>\n",
       "      <th>English</th>\n",
       "      <th>Logical</th>\n",
       "      <th>Quant</th>\n",
       "      <th>Domain</th>\n",
       "      <th>conscientiousness</th>\n",
       "      <th>...</th>\n",
       "      <th>x0_Other</th>\n",
       "      <th>x0_South</th>\n",
       "      <th>x0_West</th>\n",
       "      <th>x1_Civil</th>\n",
       "      <th>x1_Computer</th>\n",
       "      <th>x1_Electrical</th>\n",
       "      <th>x1_Electronics</th>\n",
       "      <th>x1_Information</th>\n",
       "      <th>x1_Mechanical</th>\n",
       "      <th>x1_Other</th>\n",
       "    </tr>\n",
       "  </thead>\n",
       "  <tbody>\n",
       "    <tr>\n",
       "      <td>0</td>\n",
       "      <td>-1.594729</td>\n",
       "      <td>-0.060884</td>\n",
       "      <td>-1.289013</td>\n",
       "      <td>-0.449715</td>\n",
       "      <td>0.298099</td>\n",
       "      <td>-0.025494</td>\n",
       "      <td>0.908879</td>\n",
       "      <td>-1.102470</td>\n",
       "      <td>-0.463084</td>\n",
       "      <td>0.666113</td>\n",
       "      <td>...</td>\n",
       "      <td>0</td>\n",
       "      <td>0</td>\n",
       "      <td>1</td>\n",
       "      <td>0</td>\n",
       "      <td>0</td>\n",
       "      <td>0</td>\n",
       "      <td>0</td>\n",
       "      <td>1</td>\n",
       "      <td>0</td>\n",
       "      <td>0</td>\n",
       "    </tr>\n",
       "    <tr>\n",
       "      <td>1</td>\n",
       "      <td>-0.988370</td>\n",
       "      <td>-3.734606</td>\n",
       "      <td>-2.677765</td>\n",
       "      <td>0.995427</td>\n",
       "      <td>-2.764775</td>\n",
       "      <td>2.023005</td>\n",
       "      <td>0.159326</td>\n",
       "      <td>2.383352</td>\n",
       "      <td>1.472533</td>\n",
       "      <td>1.002366</td>\n",
       "      <td>...</td>\n",
       "      <td>0</td>\n",
       "      <td>0</td>\n",
       "      <td>1</td>\n",
       "      <td>0</td>\n",
       "      <td>1</td>\n",
       "      <td>0</td>\n",
       "      <td>0</td>\n",
       "      <td>0</td>\n",
       "      <td>0</td>\n",
       "      <td>0</td>\n",
       "    </tr>\n",
       "  </tbody>\n",
       "</table>\n",
       "<p>2 rows × 36 columns</p>\n",
       "</div>"
      ],
      "text/plain": [
       "   10percentage  12graduation  12percentage  collegeGPA  GraduationYear  \\\n",
       "0     -1.594729     -0.060884     -1.289013   -0.449715        0.298099   \n",
       "1     -0.988370     -3.734606     -2.677765    0.995427       -2.764775   \n",
       "\n",
       "    English   Logical     Quant    Domain  conscientiousness  ...  x0_Other  \\\n",
       "0 -0.025494  0.908879 -1.102470 -0.463084           0.666113  ...         0   \n",
       "1  2.023005  0.159326  2.383352  1.472533           1.002366  ...         0   \n",
       "\n",
       "   x0_South  x0_West  x1_Civil  x1_Computer  x1_Electrical  x1_Electronics  \\\n",
       "0         0        1         0            0              0               0   \n",
       "1         0        1         0            1              0               0   \n",
       "\n",
       "   x1_Information  x1_Mechanical  x1_Other  \n",
       "0               1              0         0  \n",
       "1               0              0         0  \n",
       "\n",
       "[2 rows x 36 columns]"
      ]
     },
     "execution_count": 201,
     "metadata": {},
     "output_type": "execute_result"
    }
   ],
   "source": [
    "X.head(2)"
   ]
  },
  {
   "cell_type": "code",
   "execution_count": 202,
   "metadata": {},
   "outputs": [],
   "source": [
    "X_df=pd.read_excel('df_X.xlsx')"
   ]
  },
  {
   "cell_type": "code",
   "execution_count": 203,
   "metadata": {},
   "outputs": [],
   "source": [
    "X_df.drop('Unnamed: 0',axis=1,inplace=True)"
   ]
  },
  {
   "cell_type": "code",
   "execution_count": 204,
   "metadata": {},
   "outputs": [
    {
     "data": {
      "text/html": [
       "<div>\n",
       "<style scoped>\n",
       "    .dataframe tbody tr th:only-of-type {\n",
       "        vertical-align: middle;\n",
       "    }\n",
       "\n",
       "    .dataframe tbody tr th {\n",
       "        vertical-align: top;\n",
       "    }\n",
       "\n",
       "    .dataframe thead th {\n",
       "        text-align: right;\n",
       "    }\n",
       "</style>\n",
       "<table border=\"1\" class=\"dataframe\">\n",
       "  <thead>\n",
       "    <tr style=\"text-align: right;\">\n",
       "      <th></th>\n",
       "      <th>Gender</th>\n",
       "      <th>10percentage</th>\n",
       "      <th>10board</th>\n",
       "      <th>12graduation</th>\n",
       "      <th>12percentage</th>\n",
       "      <th>12board</th>\n",
       "      <th>CollegeTier</th>\n",
       "      <th>Degree</th>\n",
       "      <th>collegeGPA</th>\n",
       "      <th>CollegeCityTier</th>\n",
       "      <th>...</th>\n",
       "      <th>conscientiousness</th>\n",
       "      <th>agreeableness</th>\n",
       "      <th>extraversion</th>\n",
       "      <th>nueroticism</th>\n",
       "      <th>openess_to_experience</th>\n",
       "      <th>Marks_Percent</th>\n",
       "      <th>BirthYr</th>\n",
       "      <th>Region</th>\n",
       "      <th>Specialzn</th>\n",
       "      <th>CollegeID_cat</th>\n",
       "    </tr>\n",
       "  </thead>\n",
       "  <tbody>\n",
       "    <tr>\n",
       "      <td>0</td>\n",
       "      <td>m</td>\n",
       "      <td>62.0</td>\n",
       "      <td>state board</td>\n",
       "      <td>2008</td>\n",
       "      <td>60.2</td>\n",
       "      <td>state board</td>\n",
       "      <td>2</td>\n",
       "      <td>UnderGrad</td>\n",
       "      <td>68.3</td>\n",
       "      <td>0</td>\n",
       "      <td>...</td>\n",
       "      <td>0.6223</td>\n",
       "      <td>0.365271</td>\n",
       "      <td>0.635023</td>\n",
       "      <td>0.211442</td>\n",
       "      <td>0.578594</td>\n",
       "      <td>47.83</td>\n",
       "      <td>1991</td>\n",
       "      <td>West</td>\n",
       "      <td>Information</td>\n",
       "      <td>high</td>\n",
       "    </tr>\n",
       "    <tr>\n",
       "      <td>1</td>\n",
       "      <td>f</td>\n",
       "      <td>68.0</td>\n",
       "      <td>state board</td>\n",
       "      <td>2002</td>\n",
       "      <td>45.0</td>\n",
       "      <td>state board</td>\n",
       "      <td>2</td>\n",
       "      <td>PostGrad</td>\n",
       "      <td>79.0</td>\n",
       "      <td>0</td>\n",
       "      <td>...</td>\n",
       "      <td>0.6941</td>\n",
       "      <td>0.677360</td>\n",
       "      <td>0.741163</td>\n",
       "      <td>0.745209</td>\n",
       "      <td>0.836878</td>\n",
       "      <td>82.78</td>\n",
       "      <td>1985</td>\n",
       "      <td>West</td>\n",
       "      <td>Computer</td>\n",
       "      <td>high</td>\n",
       "    </tr>\n",
       "  </tbody>\n",
       "</table>\n",
       "<p>2 rows × 25 columns</p>\n",
       "</div>"
      ],
      "text/plain": [
       "  Gender  10percentage      10board  12graduation  12percentage      12board  \\\n",
       "0      m          62.0  state board          2008          60.2  state board   \n",
       "1      f          68.0  state board          2002          45.0  state board   \n",
       "\n",
       "   CollegeTier     Degree  collegeGPA  CollegeCityTier  ...  \\\n",
       "0            2  UnderGrad        68.3                0  ...   \n",
       "1            2   PostGrad        79.0                0  ...   \n",
       "\n",
       "   conscientiousness  agreeableness  extraversion  nueroticism  \\\n",
       "0             0.6223       0.365271      0.635023     0.211442   \n",
       "1             0.6941       0.677360      0.741163     0.745209   \n",
       "\n",
       "   openess_to_experience  Marks_Percent  BirthYr  Region    Specialzn  \\\n",
       "0               0.578594          47.83     1991    West  Information   \n",
       "1               0.836878          82.78     1985    West     Computer   \n",
       "\n",
       "   CollegeID_cat  \n",
       "0           high  \n",
       "1           high  \n",
       "\n",
       "[2 rows x 25 columns]"
      ]
     },
     "execution_count": 204,
     "metadata": {},
     "output_type": "execute_result"
    }
   ],
   "source": [
    "X_df.head(2) ## Original Dataset (few values normalized)"
   ]
  },
  {
   "cell_type": "code",
   "execution_count": 205,
   "metadata": {},
   "outputs": [],
   "source": [
    "from sklearn.cluster import KMeans"
   ]
  },
  {
   "cell_type": "code",
   "execution_count": 206,
   "metadata": {},
   "outputs": [],
   "source": [
    "num=['10percentage', '12graduation', '12percentage', 'collegeGPA',\n",
    "       'GraduationYear', 'English', 'Logical', 'Quant', 'Domain',\n",
    "       'conscientiousness', 'agreeableness', 'extraversion', 'nueroticism',\n",
    "       'openess_to_experience', 'Marks_Percent', 'BirthYr']"
   ]
  },
  {
   "cell_type": "code",
   "execution_count": 207,
   "metadata": {},
   "outputs": [],
   "source": [
    "kmeans=KMeans(random_state=3)"
   ]
  },
  {
   "cell_type": "code",
   "execution_count": 208,
   "metadata": {},
   "outputs": [],
   "source": [
    "X_num=X[num]"
   ]
  },
  {
   "cell_type": "code",
   "execution_count": 210,
   "metadata": {},
   "outputs": [
    {
     "data": {
      "text/html": [
       "<div>\n",
       "<style scoped>\n",
       "    .dataframe tbody tr th:only-of-type {\n",
       "        vertical-align: middle;\n",
       "    }\n",
       "\n",
       "    .dataframe tbody tr th {\n",
       "        vertical-align: top;\n",
       "    }\n",
       "\n",
       "    .dataframe thead th {\n",
       "        text-align: right;\n",
       "    }\n",
       "</style>\n",
       "<table border=\"1\" class=\"dataframe\">\n",
       "  <thead>\n",
       "    <tr style=\"text-align: right;\">\n",
       "      <th></th>\n",
       "      <th>10percentage</th>\n",
       "      <th>12graduation</th>\n",
       "      <th>12percentage</th>\n",
       "      <th>collegeGPA</th>\n",
       "      <th>GraduationYear</th>\n",
       "      <th>English</th>\n",
       "      <th>Logical</th>\n",
       "      <th>Quant</th>\n",
       "      <th>Domain</th>\n",
       "      <th>conscientiousness</th>\n",
       "      <th>agreeableness</th>\n",
       "      <th>extraversion</th>\n",
       "      <th>nueroticism</th>\n",
       "      <th>openess_to_experience</th>\n",
       "      <th>Marks_Percent</th>\n",
       "      <th>BirthYr</th>\n",
       "    </tr>\n",
       "  </thead>\n",
       "  <tbody>\n",
       "    <tr>\n",
       "      <td>0</td>\n",
       "      <td>-1.594729</td>\n",
       "      <td>-0.060884</td>\n",
       "      <td>-1.289013</td>\n",
       "      <td>-0.449715</td>\n",
       "      <td>0.298099</td>\n",
       "      <td>-0.025494</td>\n",
       "      <td>0.908879</td>\n",
       "      <td>-1.102470</td>\n",
       "      <td>-0.463084</td>\n",
       "      <td>0.666113</td>\n",
       "      <td>-0.645100</td>\n",
       "      <td>1.227564</td>\n",
       "      <td>-1.190944</td>\n",
       "      <td>0.361779</td>\n",
       "      <td>0.081935</td>\n",
       "      <td>0.324087</td>\n",
       "    </tr>\n",
       "    <tr>\n",
       "      <td>1</td>\n",
       "      <td>-0.988370</td>\n",
       "      <td>-3.734606</td>\n",
       "      <td>-2.677765</td>\n",
       "      <td>0.995427</td>\n",
       "      <td>-2.764775</td>\n",
       "      <td>2.023005</td>\n",
       "      <td>0.159326</td>\n",
       "      <td>2.383352</td>\n",
       "      <td>1.472533</td>\n",
       "      <td>1.002366</td>\n",
       "      <td>0.944154</td>\n",
       "      <td>1.874249</td>\n",
       "      <td>2.000130</td>\n",
       "      <td>1.795304</td>\n",
       "      <td>3.457515</td>\n",
       "      <td>-3.115394</td>\n",
       "    </tr>\n",
       "    <tr>\n",
       "      <td>2</td>\n",
       "      <td>1.416858</td>\n",
       "      <td>-0.060884</td>\n",
       "      <td>0.766705</td>\n",
       "      <td>0.507860</td>\n",
       "      <td>0.298099</td>\n",
       "      <td>0.736738</td>\n",
       "      <td>1.600774</td>\n",
       "      <td>1.686188</td>\n",
       "      <td>1.368344</td>\n",
       "      <td>-0.281110</td>\n",
       "      <td>0.807424</td>\n",
       "      <td>0.252514</td>\n",
       "      <td>0.452356</td>\n",
       "      <td>0.608678</td>\n",
       "      <td>1.396431</td>\n",
       "      <td>-0.249160</td>\n",
       "    </tr>\n",
       "    <tr>\n",
       "      <td>3</td>\n",
       "      <td>-1.998969</td>\n",
       "      <td>-1.285458</td>\n",
       "      <td>-2.476761</td>\n",
       "      <td>0.455187</td>\n",
       "      <td>-0.467620</td>\n",
       "      <td>-1.025924</td>\n",
       "      <td>-1.120681</td>\n",
       "      <td>-1.061461</td>\n",
       "      <td>0.964310</td>\n",
       "      <td>1.202413</td>\n",
       "      <td>1.712460</td>\n",
       "      <td>1.663465</td>\n",
       "      <td>0.008226</td>\n",
       "      <td>0.234658</td>\n",
       "      <td>1.096058</td>\n",
       "      <td>-0.249160</td>\n",
       "    </tr>\n",
       "    <tr>\n",
       "      <td>4</td>\n",
       "      <td>-0.584130</td>\n",
       "      <td>-0.673171</td>\n",
       "      <td>0.154558</td>\n",
       "      <td>-0.041834</td>\n",
       "      <td>-0.467620</td>\n",
       "      <td>0.069785</td>\n",
       "      <td>0.389957</td>\n",
       "      <td>0.250849</td>\n",
       "      <td>1.037720</td>\n",
       "      <td>0.176291</td>\n",
       "      <td>1.712460</td>\n",
       "      <td>1.663465</td>\n",
       "      <td>0.183924</td>\n",
       "      <td>0.851591</td>\n",
       "      <td>1.203265</td>\n",
       "      <td>0.324087</td>\n",
       "    </tr>\n",
       "  </tbody>\n",
       "</table>\n",
       "</div>"
      ],
      "text/plain": [
       "   10percentage  12graduation  12percentage  collegeGPA  GraduationYear  \\\n",
       "0     -1.594729     -0.060884     -1.289013   -0.449715        0.298099   \n",
       "1     -0.988370     -3.734606     -2.677765    0.995427       -2.764775   \n",
       "2      1.416858     -0.060884      0.766705    0.507860        0.298099   \n",
       "3     -1.998969     -1.285458     -2.476761    0.455187       -0.467620   \n",
       "4     -0.584130     -0.673171      0.154558   -0.041834       -0.467620   \n",
       "\n",
       "    English   Logical     Quant    Domain  conscientiousness  agreeableness  \\\n",
       "0 -0.025494  0.908879 -1.102470 -0.463084           0.666113      -0.645100   \n",
       "1  2.023005  0.159326  2.383352  1.472533           1.002366       0.944154   \n",
       "2  0.736738  1.600774  1.686188  1.368344          -0.281110       0.807424   \n",
       "3 -1.025924 -1.120681 -1.061461  0.964310           1.202413       1.712460   \n",
       "4  0.069785  0.389957  0.250849  1.037720           0.176291       1.712460   \n",
       "\n",
       "   extraversion  nueroticism  openess_to_experience  Marks_Percent   BirthYr  \n",
       "0      1.227564    -1.190944               0.361779       0.081935  0.324087  \n",
       "1      1.874249     2.000130               1.795304       3.457515 -3.115394  \n",
       "2      0.252514     0.452356               0.608678       1.396431 -0.249160  \n",
       "3      1.663465     0.008226               0.234658       1.096058 -0.249160  \n",
       "4      1.663465     0.183924               0.851591       1.203265  0.324087  "
      ]
     },
     "execution_count": 210,
     "metadata": {},
     "output_type": "execute_result"
    }
   ],
   "source": [
    "X_num.head() #Standardised variables"
   ]
  },
  {
   "cell_type": "code",
   "execution_count": 211,
   "metadata": {},
   "outputs": [],
   "source": [
    "from sklearn.metrics import silhouette_score"
   ]
  },
  {
   "cell_type": "code",
   "execution_count": 212,
   "metadata": {},
   "outputs": [
    {
     "name": "stdout",
     "output_type": "stream",
     "text": [
      "[74943.83167869432, 68335.78353249682, 63723.255259594785, 60887.64993326664, 58772.04869119885, 57031.97783432402, 55605.942800544726, 54412.09084817398, 53313.8953687052, 52495.571601086136, 51627.621707131875, 50962.707837991, 50297.7080521722] \n",
      " [0.13248293544889886, 0.11716975644451079, 0.10556321128866632, 0.09531891168498856, 0.08815175826907559, 0.08595498915178416, 0.08298872849217015, 0.08240487903937661, 0.07975287657578577, 0.07773978804838015, 0.0783443654380423, 0.07429954574936659, 0.07413398030820383]\n"
     ]
    }
   ],
   "source": [
    "wcss=[]\n",
    "sil_score=[]\n",
    "for k in range(2,15):\n",
    "    kmeans=KMeans(n_clusters=k)\n",
    "    kmeans.fit(X_num)\n",
    "    wcss.append(kmeans.inertia_)\n",
    "    sil_score.append(silhouette_score(X_num,kmeans.labels_))\n",
    "print(wcss,'\\n',sil_score)"
   ]
  },
  {
   "cell_type": "code",
   "execution_count": 213,
   "metadata": {},
   "outputs": [
    {
     "data": {
      "image/png": "[encoded data removed]",
      "text/plain": [
       "<Figure size 432x288 with 1 Axes>"
      ]
     },
     "metadata": {
      "needs_background": "light"
     },
     "output_type": "display_data"
    }
   ],
   "source": [
    "# Inertia\n",
    "plt.plot(range(2,15),wcss)\n",
    "plt.xlabel('No. of Clusters')\n",
    "plt.ylabel('WCSS')\n",
    "plt.show()"
   ]
  },
  {
   "cell_type": "code",
   "execution_count": 214,
   "metadata": {},
   "outputs": [
    {
     "data": {
      "image/png": "[encoded data removed]",
      "text/plain": [
       "<Figure size 432x288 with 1 Axes>"
      ]
     },
     "metadata": {
      "needs_background": "light"
     },
     "output_type": "display_data"
    }
   ],
   "source": [
    "# Silhoute Score\n",
    "plt.plot(range(2,15),sil_score)\n",
    "plt.xlabel('No. of Clusters')\n",
    "plt.ylabel('SIL_SCORE')\n",
    "plt.show()"
   ]
  },
  {
   "cell_type": "markdown",
   "metadata": {},
   "source": [
    "From both the graphs, we can say that 4 clusters is a good number of clusters"
   ]
  },
  {
   "cell_type": "code",
   "execution_count": 236,
   "metadata": {},
   "outputs": [],
   "source": [
    "kmeans=KMeans(n_clusters=2,random_state=3)"
   ]
  },
  {
   "cell_type": "code",
   "execution_count": 237,
   "metadata": {},
   "outputs": [
    {
     "data": {
      "text/plain": [
       "KMeans(algorithm='auto', copy_x=True, init='k-means++', max_iter=300,\n",
       "       n_clusters=2, n_init=10, n_jobs=None, precompute_distances='auto',\n",
       "       random_state=3, tol=0.0001, verbose=0)"
      ]
     },
     "execution_count": 237,
     "metadata": {},
     "output_type": "execute_result"
    }
   ],
   "source": [
    "kmeans.fit(X_num)"
   ]
  },
  {
   "cell_type": "code",
   "execution_count": 238,
   "metadata": {},
   "outputs": [
    {
     "data": {
      "text/plain": [
       "1    2962\n",
       "0    2536\n",
       "dtype: int64"
      ]
     },
     "execution_count": 238,
     "metadata": {},
     "output_type": "execute_result"
    }
   ],
   "source": [
    "pd.Series(kmeans.labels_).value_counts()"
   ]
  },
  {
   "cell_type": "markdown",
   "metadata": {},
   "source": [
    "plt.figure(figsize=[8,6])\n",
    "sns.scatterplot(x=X_num,y=X_num,hue=kmeans.labels_,palette='summer')\n",
    "plt.show()"
   ]
  },
  {
   "cell_type": "code",
   "execution_count": 239,
   "metadata": {},
   "outputs": [
    {
     "data": {
      "text/html": [
       "<div>\n",
       "<style scoped>\n",
       "    .dataframe tbody tr th:only-of-type {\n",
       "        vertical-align: middle;\n",
       "    }\n",
       "\n",
       "    .dataframe tbody tr th {\n",
       "        vertical-align: top;\n",
       "    }\n",
       "\n",
       "    .dataframe thead th {\n",
       "        text-align: right;\n",
       "    }\n",
       "</style>\n",
       "<table border=\"1\" class=\"dataframe\">\n",
       "  <thead>\n",
       "    <tr style=\"text-align: right;\">\n",
       "      <th></th>\n",
       "      <th>10percentage</th>\n",
       "      <th>12graduation</th>\n",
       "      <th>12percentage</th>\n",
       "      <th>collegeGPA</th>\n",
       "      <th>GraduationYear</th>\n",
       "      <th>English</th>\n",
       "      <th>Logical</th>\n",
       "      <th>Quant</th>\n",
       "      <th>Domain</th>\n",
       "      <th>conscientiousness</th>\n",
       "      <th>agreeableness</th>\n",
       "      <th>extraversion</th>\n",
       "      <th>nueroticism</th>\n",
       "      <th>openess_to_experience</th>\n",
       "      <th>Marks_Percent</th>\n",
       "      <th>BirthYr</th>\n",
       "    </tr>\n",
       "  </thead>\n",
       "  <tbody>\n",
       "    <tr>\n",
       "      <td>0</td>\n",
       "      <td>-0.546179</td>\n",
       "      <td>-0.394793</td>\n",
       "      <td>-0.518895</td>\n",
       "      <td>-0.402487</td>\n",
       "      <td>-0.329935</td>\n",
       "      <td>-0.521554</td>\n",
       "      <td>-0.558575</td>\n",
       "      <td>-0.505055</td>\n",
       "      <td>-0.455060</td>\n",
       "      <td>-0.221892</td>\n",
       "      <td>-0.262514</td>\n",
       "      <td>-0.089703</td>\n",
       "      <td>0.330735</td>\n",
       "      <td>-0.119830</td>\n",
       "      <td>-0.457141</td>\n",
       "      <td>-0.383204</td>\n",
       "    </tr>\n",
       "    <tr>\n",
       "      <td>1</td>\n",
       "      <td>0.518400</td>\n",
       "      <td>0.335180</td>\n",
       "      <td>0.493304</td>\n",
       "      <td>0.384505</td>\n",
       "      <td>0.285431</td>\n",
       "      <td>0.429516</td>\n",
       "      <td>0.484858</td>\n",
       "      <td>0.421301</td>\n",
       "      <td>0.387464</td>\n",
       "      <td>0.138777</td>\n",
       "      <td>0.228502</td>\n",
       "      <td>0.103148</td>\n",
       "      <td>-0.222004</td>\n",
       "      <td>0.112715</td>\n",
       "      <td>0.392471</td>\n",
       "      <td>0.330280</td>\n",
       "    </tr>\n",
       "  </tbody>\n",
       "</table>\n",
       "</div>"
      ],
      "text/plain": [
       "   10percentage  12graduation  12percentage  collegeGPA  GraduationYear  \\\n",
       "0     -0.546179     -0.394793     -0.518895   -0.402487       -0.329935   \n",
       "1      0.518400      0.335180      0.493304    0.384505        0.285431   \n",
       "\n",
       "    English   Logical     Quant    Domain  conscientiousness  agreeableness  \\\n",
       "0 -0.521554 -0.558575 -0.505055 -0.455060          -0.221892      -0.262514   \n",
       "1  0.429516  0.484858  0.421301  0.387464           0.138777       0.228502   \n",
       "\n",
       "   extraversion  nueroticism  openess_to_experience  Marks_Percent   BirthYr  \n",
       "0     -0.089703     0.330735              -0.119830      -0.457141 -0.383204  \n",
       "1      0.103148    -0.222004               0.112715       0.392471  0.330280  "
      ]
     },
     "execution_count": 239,
     "metadata": {},
     "output_type": "execute_result"
    }
   ],
   "source": [
    "pd.DataFrame(kmeans.cluster_centers_,columns=X_num.columns)"
   ]
  },
  {
   "cell_type": "markdown",
   "metadata": {},
   "source": [
    "We observe that the centroids of the below features are far from eachother - English,Logical, Quant, Domain, agreeableness, nueroticism, openess to experience, Marks Percent"
   ]
  },
  {
   "cell_type": "markdown",
   "metadata": {},
   "source": [
    "#### Attaching the labels to original dataset"
   ]
  },
  {
   "cell_type": "code",
   "execution_count": 240,
   "metadata": {},
   "outputs": [],
   "source": [
    "X_df['labels']=kmeans.labels_"
   ]
  },
  {
   "cell_type": "code",
   "execution_count": 241,
   "metadata": {},
   "outputs": [
    {
     "data": {
      "text/html": [
       "<div>\n",
       "<style scoped>\n",
       "    .dataframe tbody tr th:only-of-type {\n",
       "        vertical-align: middle;\n",
       "    }\n",
       "\n",
       "    .dataframe tbody tr th {\n",
       "        vertical-align: top;\n",
       "    }\n",
       "\n",
       "    .dataframe thead th {\n",
       "        text-align: right;\n",
       "    }\n",
       "</style>\n",
       "<table border=\"1\" class=\"dataframe\">\n",
       "  <thead>\n",
       "    <tr style=\"text-align: right;\">\n",
       "      <th>labels</th>\n",
       "      <th>0</th>\n",
       "      <th>1</th>\n",
       "    </tr>\n",
       "  </thead>\n",
       "  <tbody>\n",
       "    <tr>\n",
       "      <td>10percentage</td>\n",
       "      <td>73.000000</td>\n",
       "      <td>84.000000</td>\n",
       "    </tr>\n",
       "    <tr>\n",
       "      <td>12graduation</td>\n",
       "      <td>2008.000000</td>\n",
       "      <td>2009.000000</td>\n",
       "    </tr>\n",
       "    <tr>\n",
       "      <td>12percentage</td>\n",
       "      <td>68.000000</td>\n",
       "      <td>80.000000</td>\n",
       "    </tr>\n",
       "    <tr>\n",
       "      <td>CollegeTier</td>\n",
       "      <td>2.000000</td>\n",
       "      <td>2.000000</td>\n",
       "    </tr>\n",
       "    <tr>\n",
       "      <td>collegeGPA</td>\n",
       "      <td>68.600000</td>\n",
       "      <td>74.415000</td>\n",
       "    </tr>\n",
       "    <tr>\n",
       "      <td>CollegeCityTier</td>\n",
       "      <td>0.000000</td>\n",
       "      <td>0.000000</td>\n",
       "    </tr>\n",
       "    <tr>\n",
       "      <td>GraduationYear</td>\n",
       "      <td>2012.000000</td>\n",
       "      <td>2013.000000</td>\n",
       "    </tr>\n",
       "    <tr>\n",
       "      <td>English</td>\n",
       "      <td>445.000000</td>\n",
       "      <td>545.000000</td>\n",
       "    </tr>\n",
       "    <tr>\n",
       "      <td>Logical</td>\n",
       "      <td>455.000000</td>\n",
       "      <td>545.000000</td>\n",
       "    </tr>\n",
       "    <tr>\n",
       "      <td>Quant</td>\n",
       "      <td>455.000000</td>\n",
       "      <td>570.000000</td>\n",
       "    </tr>\n",
       "    <tr>\n",
       "      <td>Domain</td>\n",
       "      <td>0.493596</td>\n",
       "      <td>0.744758</td>\n",
       "    </tr>\n",
       "    <tr>\n",
       "      <td>conscientiousness</td>\n",
       "      <td>0.420040</td>\n",
       "      <td>0.516205</td>\n",
       "    </tr>\n",
       "    <tr>\n",
       "      <td>agreeableness</td>\n",
       "      <td>0.432858</td>\n",
       "      <td>0.514848</td>\n",
       "    </tr>\n",
       "    <tr>\n",
       "      <td>extraversion</td>\n",
       "      <td>0.406015</td>\n",
       "      <td>0.445766</td>\n",
       "    </tr>\n",
       "    <tr>\n",
       "      <td>nueroticism</td>\n",
       "      <td>0.456125</td>\n",
       "      <td>0.359453</td>\n",
       "    </tr>\n",
       "    <tr>\n",
       "      <td>openess_to_experience</td>\n",
       "      <td>0.488919</td>\n",
       "      <td>0.536279</td>\n",
       "    </tr>\n",
       "    <tr>\n",
       "      <td>Marks_Percent</td>\n",
       "      <td>41.915000</td>\n",
       "      <td>50.560000</td>\n",
       "    </tr>\n",
       "    <tr>\n",
       "      <td>BirthYr</td>\n",
       "      <td>1990.000000</td>\n",
       "      <td>1991.000000</td>\n",
       "    </tr>\n",
       "  </tbody>\n",
       "</table>\n",
       "</div>"
      ],
      "text/plain": [
       "labels                           0            1\n",
       "10percentage             73.000000    84.000000\n",
       "12graduation           2008.000000  2009.000000\n",
       "12percentage             68.000000    80.000000\n",
       "CollegeTier               2.000000     2.000000\n",
       "collegeGPA               68.600000    74.415000\n",
       "CollegeCityTier           0.000000     0.000000\n",
       "GraduationYear         2012.000000  2013.000000\n",
       "English                 445.000000   545.000000\n",
       "Logical                 455.000000   545.000000\n",
       "Quant                   455.000000   570.000000\n",
       "Domain                    0.493596     0.744758\n",
       "conscientiousness         0.420040     0.516205\n",
       "agreeableness             0.432858     0.514848\n",
       "extraversion              0.406015     0.445766\n",
       "nueroticism               0.456125     0.359453\n",
       "openess_to_experience     0.488919     0.536279\n",
       "Marks_Percent            41.915000    50.560000\n",
       "BirthYr                1990.000000  1991.000000"
      ]
     },
     "execution_count": 241,
     "metadata": {},
     "output_type": "execute_result"
    }
   ],
   "source": [
    "X_df.groupby('labels').median().T"
   ]
  },
  {
   "cell_type": "code",
   "execution_count": null,
   "metadata": {},
   "outputs": [],
   "source": []
  }
 ],
 "metadata": {
  "kernelspec": {
   "display_name": "Python 3",
   "language": "python",
   "name": "python3"
  },
  "language_info": {
   "codemirror_mode": {
    "name": "ipython",
    "version": 3
   },
   "file_extension": ".py",
   "mimetype": "text/x-python",
   "name": "python",
   "nbconvert_exporter": "python",
   "pygments_lexer": "ipython3",
   "version": "3.7.4"
  }
 },
 "nbformat": 4,
 "nbformat_minor": 2
}
